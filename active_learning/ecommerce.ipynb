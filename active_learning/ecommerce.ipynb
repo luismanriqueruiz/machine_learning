{
 "cells": [
  {
   "cell_type": "code",
   "execution_count": 10,
   "metadata": {},
   "outputs": [],
   "source": [
    "import duckdb\n",
    "import time\n",
    "import pandas as pd"
   ]
  },
  {
   "cell_type": "code",
   "execution_count": 3,
   "metadata": {},
   "outputs": [],
   "source": [
    "path = './data/ecommerce/2019-Oct.csv'"
   ]
  },
  {
   "cell_type": "code",
   "execution_count": 9,
   "metadata": {},
   "outputs": [
    {
     "name": "stdout",
     "output_type": "stream",
     "text": [
      "34.35550403594971\n"
     ]
    }
   ],
   "source": [
    "t0 = time.time()\n",
    "df = duckdb.sql(\"SELECT user_id, min(event_time), max(event_time), count(distinct(product_id)), sum(price) FROM './data/ecommerce/2019-Oct.csv' GROUP BY user_id\").df()\n",
    "t1 = time.time()\n",
    "print(t1 - t0)"
   ]
  },
  {
   "cell_type": "code",
   "execution_count": 11,
   "metadata": {},
   "outputs": [
    {
     "data": {
      "text/plain": [
       "(3022290, 5)"
      ]
     },
     "execution_count": 11,
     "metadata": {},
     "output_type": "execute_result"
    }
   ],
   "source": [
    "df.shape"
   ]
  },
  {
   "cell_type": "code",
   "execution_count": 12,
   "metadata": {},
   "outputs": [
    {
     "data": {
      "text/html": [
       "<div>\n",
       "<style scoped>\n",
       "    .dataframe tbody tr th:only-of-type {\n",
       "        vertical-align: middle;\n",
       "    }\n",
       "\n",
       "    .dataframe tbody tr th {\n",
       "        vertical-align: top;\n",
       "    }\n",
       "\n",
       "    .dataframe thead th {\n",
       "        text-align: right;\n",
       "    }\n",
       "</style>\n",
       "<table border=\"1\" class=\"dataframe\">\n",
       "  <thead>\n",
       "    <tr style=\"text-align: right;\">\n",
       "      <th></th>\n",
       "      <th>user_id</th>\n",
       "      <th>min(event_time)</th>\n",
       "      <th>max(event_time)</th>\n",
       "      <th>count(DISTINCT product_id)</th>\n",
       "      <th>sum(price)</th>\n",
       "    </tr>\n",
       "  </thead>\n",
       "  <tbody>\n",
       "    <tr>\n",
       "      <th>3022285</th>\n",
       "      <td>555427940</td>\n",
       "      <td>2019-10-31 20:41:49</td>\n",
       "      <td>2019-10-31 20:41:49</td>\n",
       "      <td>1</td>\n",
       "      <td>52.77</td>\n",
       "    </tr>\n",
       "    <tr>\n",
       "      <th>3022286</th>\n",
       "      <td>531349974</td>\n",
       "      <td>2019-10-31 20:41:51</td>\n",
       "      <td>2019-10-31 20:41:51</td>\n",
       "      <td>1</td>\n",
       "      <td>7.18</td>\n",
       "    </tr>\n",
       "    <tr>\n",
       "      <th>3022287</th>\n",
       "      <td>566252498</td>\n",
       "      <td>2019-10-31 20:41:57</td>\n",
       "      <td>2019-10-31 20:41:57</td>\n",
       "      <td>1</td>\n",
       "      <td>462.79</td>\n",
       "    </tr>\n",
       "    <tr>\n",
       "      <th>3022288</th>\n",
       "      <td>552968800</td>\n",
       "      <td>2019-10-31 20:42:03</td>\n",
       "      <td>2019-10-31 20:42:20</td>\n",
       "      <td>1</td>\n",
       "      <td>2464.34</td>\n",
       "    </tr>\n",
       "    <tr>\n",
       "      <th>3022289</th>\n",
       "      <td>566252467</td>\n",
       "      <td>2019-10-31 20:42:09</td>\n",
       "      <td>2019-10-31 20:42:09</td>\n",
       "      <td>1</td>\n",
       "      <td>949.47</td>\n",
       "    </tr>\n",
       "  </tbody>\n",
       "</table>\n",
       "</div>"
      ],
      "text/plain": [
       "           user_id     min(event_time)     max(event_time)  \\\n",
       "3022285  555427940 2019-10-31 20:41:49 2019-10-31 20:41:49   \n",
       "3022286  531349974 2019-10-31 20:41:51 2019-10-31 20:41:51   \n",
       "3022287  566252498 2019-10-31 20:41:57 2019-10-31 20:41:57   \n",
       "3022288  552968800 2019-10-31 20:42:03 2019-10-31 20:42:20   \n",
       "3022289  566252467 2019-10-31 20:42:09 2019-10-31 20:42:09   \n",
       "\n",
       "         count(DISTINCT product_id)  sum(price)  \n",
       "3022285                           1       52.77  \n",
       "3022286                           1        7.18  \n",
       "3022287                           1      462.79  \n",
       "3022288                           1     2464.34  \n",
       "3022289                           1      949.47  "
      ]
     },
     "execution_count": 12,
     "metadata": {},
     "output_type": "execute_result"
    }
   ],
   "source": [
    "df.tail()"
   ]
  },
  {
   "cell_type": "code",
   "execution_count": 13,
   "metadata": {},
   "outputs": [
    {
     "data": {
      "text/plain": [
       "count(DISTINCT product_id)\n",
       "1       992641\n",
       "2       416297\n",
       "3       264008\n",
       "4       194935\n",
       "5       149342\n",
       "         ...  \n",
       "471          1\n",
       "1148         1\n",
       "420          1\n",
       "439          1\n",
       "526          1\n",
       "Name: count, Length: 504, dtype: int64"
      ]
     },
     "execution_count": 13,
     "metadata": {},
     "output_type": "execute_result"
    }
   ],
   "source": [
    "df['count(DISTINCT product_id)'].value_counts()"
   ]
  },
  {
   "cell_type": "code",
   "execution_count": 15,
   "metadata": {},
   "outputs": [
    {
     "data": {
      "text/html": [
       "<div>\n",
       "<style scoped>\n",
       "    .dataframe tbody tr th:only-of-type {\n",
       "        vertical-align: middle;\n",
       "    }\n",
       "\n",
       "    .dataframe tbody tr th {\n",
       "        vertical-align: top;\n",
       "    }\n",
       "\n",
       "    .dataframe thead th {\n",
       "        text-align: right;\n",
       "    }\n",
       "</style>\n",
       "<table border=\"1\" class=\"dataframe\">\n",
       "  <thead>\n",
       "    <tr style=\"text-align: right;\">\n",
       "      <th></th>\n",
       "      <th>user_id</th>\n",
       "      <th>min(event_time)</th>\n",
       "      <th>max(event_time)</th>\n",
       "      <th>count(DISTINCT product_id)</th>\n",
       "      <th>sum(price)</th>\n",
       "    </tr>\n",
       "  </thead>\n",
       "  <tbody>\n",
       "    <tr>\n",
       "      <th>0</th>\n",
       "      <td>519107250</td>\n",
       "      <td>2019-10-01 00:00:01</td>\n",
       "      <td>2019-10-01 09:49:46</td>\n",
       "      <td>15</td>\n",
       "      <td>9521.53</td>\n",
       "    </tr>\n",
       "    <tr>\n",
       "      <th>1</th>\n",
       "      <td>535871217</td>\n",
       "      <td>2019-10-01 00:00:04</td>\n",
       "      <td>2019-10-28 15:00:59</td>\n",
       "      <td>29</td>\n",
       "      <td>36328.88</td>\n",
       "    </tr>\n",
       "    <tr>\n",
       "      <th>2</th>\n",
       "      <td>512742880</td>\n",
       "      <td>2019-10-01 00:00:05</td>\n",
       "      <td>2019-10-26 14:20:07</td>\n",
       "      <td>22</td>\n",
       "      <td>42558.08</td>\n",
       "    </tr>\n",
       "    <tr>\n",
       "      <th>5</th>\n",
       "      <td>519530528</td>\n",
       "      <td>2019-10-01 00:00:23</td>\n",
       "      <td>2019-10-26 13:40:00</td>\n",
       "      <td>59</td>\n",
       "      <td>23617.22</td>\n",
       "    </tr>\n",
       "    <tr>\n",
       "      <th>10</th>\n",
       "      <td>512558158</td>\n",
       "      <td>2019-10-01 00:00:36</td>\n",
       "      <td>2019-10-31 08:23:48</td>\n",
       "      <td>43</td>\n",
       "      <td>32742.52</td>\n",
       "    </tr>\n",
       "    <tr>\n",
       "      <th>...</th>\n",
       "      <td>...</td>\n",
       "      <td>...</td>\n",
       "      <td>...</td>\n",
       "      <td>...</td>\n",
       "      <td>...</td>\n",
       "    </tr>\n",
       "    <tr>\n",
       "      <th>3021937</th>\n",
       "      <td>538488716</td>\n",
       "      <td>2019-10-31 19:40:39</td>\n",
       "      <td>2019-10-31 19:57:32</td>\n",
       "      <td>20</td>\n",
       "      <td>24993.21</td>\n",
       "    </tr>\n",
       "    <tr>\n",
       "      <th>3021940</th>\n",
       "      <td>543602972</td>\n",
       "      <td>2019-10-31 19:41:00</td>\n",
       "      <td>2019-10-31 19:52:57</td>\n",
       "      <td>14</td>\n",
       "      <td>24159.61</td>\n",
       "    </tr>\n",
       "    <tr>\n",
       "      <th>3021962</th>\n",
       "      <td>566239343</td>\n",
       "      <td>2019-10-31 19:44:12</td>\n",
       "      <td>2019-10-31 19:50:24</td>\n",
       "      <td>12</td>\n",
       "      <td>2027.39</td>\n",
       "    </tr>\n",
       "    <tr>\n",
       "      <th>3022128</th>\n",
       "      <td>524140122</td>\n",
       "      <td>2019-10-31 20:16:29</td>\n",
       "      <td>2019-10-31 20:38:46</td>\n",
       "      <td>13</td>\n",
       "      <td>3762.34</td>\n",
       "    </tr>\n",
       "    <tr>\n",
       "      <th>3022159</th>\n",
       "      <td>557782985</td>\n",
       "      <td>2019-10-31 20:19:41</td>\n",
       "      <td>2019-10-31 20:36:54</td>\n",
       "      <td>11</td>\n",
       "      <td>1056.20</td>\n",
       "    </tr>\n",
       "  </tbody>\n",
       "</table>\n",
       "<p>581156 rows × 5 columns</p>\n",
       "</div>"
      ],
      "text/plain": [
       "           user_id     min(event_time)     max(event_time)  \\\n",
       "0        519107250 2019-10-01 00:00:01 2019-10-01 09:49:46   \n",
       "1        535871217 2019-10-01 00:00:04 2019-10-28 15:00:59   \n",
       "2        512742880 2019-10-01 00:00:05 2019-10-26 14:20:07   \n",
       "5        519530528 2019-10-01 00:00:23 2019-10-26 13:40:00   \n",
       "10       512558158 2019-10-01 00:00:36 2019-10-31 08:23:48   \n",
       "...            ...                 ...                 ...   \n",
       "3021937  538488716 2019-10-31 19:40:39 2019-10-31 19:57:32   \n",
       "3021940  543602972 2019-10-31 19:41:00 2019-10-31 19:52:57   \n",
       "3021962  566239343 2019-10-31 19:44:12 2019-10-31 19:50:24   \n",
       "3022128  524140122 2019-10-31 20:16:29 2019-10-31 20:38:46   \n",
       "3022159  557782985 2019-10-31 20:19:41 2019-10-31 20:36:54   \n",
       "\n",
       "         count(DISTINCT product_id)  sum(price)  \n",
       "0                                15     9521.53  \n",
       "1                                29    36328.88  \n",
       "2                                22    42558.08  \n",
       "5                                59    23617.22  \n",
       "10                               43    32742.52  \n",
       "...                             ...         ...  \n",
       "3021937                          20    24993.21  \n",
       "3021940                          14    24159.61  \n",
       "3021962                          12     2027.39  \n",
       "3022128                          13     3762.34  \n",
       "3022159                          11     1056.20  \n",
       "\n",
       "[581156 rows x 5 columns]"
      ]
     },
     "execution_count": 15,
     "metadata": {},
     "output_type": "execute_result"
    }
   ],
   "source": [
    "df[df['count(DISTINCT product_id)'] > 10]"
   ]
  },
  {
   "cell_type": "code",
   "execution_count": null,
   "metadata": {},
   "outputs": [],
   "source": []
  }
 ],
 "metadata": {
  "kernelspec": {
   "display_name": "al_env",
   "language": "python",
   "name": "python3"
  },
  "language_info": {
   "codemirror_mode": {
    "name": "ipython",
    "version": 3
   },
   "file_extension": ".py",
   "mimetype": "text/x-python",
   "name": "python",
   "nbconvert_exporter": "python",
   "pygments_lexer": "ipython3",
   "version": "3.12.4"
  }
 },
 "nbformat": 4,
 "nbformat_minor": 2
}
