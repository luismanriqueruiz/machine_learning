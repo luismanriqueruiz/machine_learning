{
 "cells": [
  {
   "cell_type": "markdown",
   "id": "dac6ce35",
   "metadata": {},
   "source": [
    "# For AB testing\n",
    "\n",
    "## Loading libraries"
   ]
  },
  {
   "cell_type": "code",
   "execution_count": 1,
   "id": "a28c6da6",
   "metadata": {},
   "outputs": [],
   "source": [
    "import random\n",
    "import pandas as pd"
   ]
  },
  {
   "cell_type": "code",
   "execution_count": 40,
   "id": "a241cc1f",
   "metadata": {},
   "outputs": [],
   "source": [
    "n_users = 1000"
   ]
  },
  {
   "cell_type": "code",
   "execution_count": 41,
   "id": "cf33a1f9",
   "metadata": {},
   "outputs": [],
   "source": [
    "random_numbers = [random.random() for _ in range(n_users)]"
   ]
  },
  {
   "cell_type": "code",
   "execution_count": 42,
   "id": "376e71a4",
   "metadata": {},
   "outputs": [],
   "source": [
    "all_users_prob = pd.Series(random_numbers)"
   ]
  },
  {
   "cell_type": "markdown",
   "id": "a34a6457",
   "metadata": {},
   "source": [
    "## Loading functions"
   ]
  },
  {
   "cell_type": "code",
   "execution_count": 43,
   "id": "5ef4897a",
   "metadata": {},
   "outputs": [],
   "source": [
    "def get_buckets(n_choices):\n",
    "    n_prob = 1/n_choices\n",
    "    buckets = [0] + [x * n_prob for x in range(1, n_choices + 1)]\n",
    "    return buckets"
   ]
  },
  {
   "cell_type": "markdown",
   "id": "1752b28c",
   "metadata": {},
   "source": [
    "## There are 2 choices"
   ]
  },
  {
   "cell_type": "code",
   "execution_count": 44,
   "id": "971f353b",
   "metadata": {},
   "outputs": [
    {
     "data": {
      "text/plain": [
       "(0.0010600000000000002, 0.48]    500\n",
       "(0.48, 0.999]                    500\n",
       "Name: count, dtype: int64"
      ]
     },
     "execution_count": 44,
     "metadata": {},
     "output_type": "execute_result"
    }
   ],
   "source": [
    "n_choices = 2\n",
    "pd.qcut(all_users_prob, n_choices).value_counts()"
   ]
  },
  {
   "cell_type": "code",
   "execution_count": 45,
   "id": "d03f0eb1",
   "metadata": {},
   "outputs": [
    {
     "data": {
      "text/plain": [
       "(0.0, 0.5]    0.514\n",
       "(0.5, 1.0]    0.486\n",
       "Name: proportion, dtype: float64"
      ]
     },
     "execution_count": 45,
     "metadata": {},
     "output_type": "execute_result"
    }
   ],
   "source": [
    "n_choices = 2\n",
    "pd.cut(all_users_prob, get_buckets(n_choices)).value_counts(normalize=True).sort_index()"
   ]
  },
  {
   "cell_type": "markdown",
   "id": "959cd412",
   "metadata": {},
   "source": [
    "## There are 3 choices"
   ]
  },
  {
   "cell_type": "code",
   "execution_count": 46,
   "id": "16a9fdab",
   "metadata": {},
   "outputs": [
    {
     "data": {
      "text/plain": [
       "(0.0, 0.333]      0.343\n",
       "(0.333, 0.667]    0.347\n",
       "(0.667, 1.0]      0.310\n",
       "Name: proportion, dtype: float64"
      ]
     },
     "execution_count": 46,
     "metadata": {},
     "output_type": "execute_result"
    }
   ],
   "source": [
    "n_choices = 3\n",
    "pd.cut(all_users_prob, get_buckets(n_choices)).value_counts(normalize=True).sort_index()"
   ]
  },
  {
   "cell_type": "markdown",
   "id": "7be03f57",
   "metadata": {},
   "source": [
    "## There are 4 choices"
   ]
  },
  {
   "cell_type": "code",
   "execution_count": 47,
   "id": "bcb38537",
   "metadata": {},
   "outputs": [
    {
     "data": {
      "text/plain": [
       "(0.0, 0.25]    0.264\n",
       "(0.25, 0.5]    0.250\n",
       "(0.5, 0.75]    0.256\n",
       "(0.75, 1.0]    0.230\n",
       "Name: proportion, dtype: float64"
      ]
     },
     "execution_count": 47,
     "metadata": {},
     "output_type": "execute_result"
    }
   ],
   "source": [
    "n_choices = 4\n",
    "pd.cut(all_users_prob, get_buckets(n_choices)).value_counts(normalize=True).sort_index()\n",
    "#pd.qcut(all_users_prob, n_choices).value_counts()"
   ]
  },
  {
   "cell_type": "markdown",
   "id": "1313e7f3",
   "metadata": {},
   "source": [
    "## There are 5 choices"
   ]
  },
  {
   "cell_type": "code",
   "execution_count": 48,
   "id": "38da8154",
   "metadata": {},
   "outputs": [
    {
     "data": {
      "text/plain": [
       "(0.0, 0.2]    0.215\n",
       "(0.2, 0.4]    0.199\n",
       "(0.4, 0.6]    0.207\n",
       "(0.6, 0.8]    0.197\n",
       "(0.8, 1.0]    0.182\n",
       "Name: proportion, dtype: float64"
      ]
     },
     "execution_count": 48,
     "metadata": {},
     "output_type": "execute_result"
    }
   ],
   "source": [
    "n_choices = 5\n",
    "pd.cut(all_users_prob, get_buckets(n_choices)).value_counts(normalize=True).sort_index()"
   ]
  }
 ],
 "metadata": {
  "kernelspec": {
   "display_name": "zanalytics",
   "language": "python",
   "name": "python3"
  },
  "language_info": {
   "codemirror_mode": {
    "name": "ipython",
    "version": 3
   },
   "file_extension": ".py",
   "mimetype": "text/x-python",
   "name": "python",
   "nbconvert_exporter": "python",
   "pygments_lexer": "ipython3",
   "version": "3.12.6"
  }
 },
 "nbformat": 4,
 "nbformat_minor": 5
}
