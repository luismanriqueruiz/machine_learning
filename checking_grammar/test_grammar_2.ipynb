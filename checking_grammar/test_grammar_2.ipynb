{
 "cells": [
  {
   "cell_type": "code",
   "execution_count": 1,
   "id": "81b48e8e",
   "metadata": {},
   "outputs": [],
   "source": [
    "from gramformer import Gramformer\n",
    "import torch"
   ]
  },
  {
   "cell_type": "code",
   "execution_count": 2,
   "id": "4875d8c9",
   "metadata": {},
   "outputs": [],
   "source": [
    "def set_seed(seed):\n",
    "  torch.manual_seed(seed)\n",
    "  if torch.cuda.is_available():\n",
    "    torch.cuda.manual_seed_all(seed)"
   ]
  },
  {
   "cell_type": "code",
   "execution_count": 3,
   "id": "66efd94b",
   "metadata": {},
   "outputs": [],
   "source": [
    "set_seed(1212)"
   ]
  },
  {
   "cell_type": "code",
   "execution_count": 4,
   "id": "f91f5071",
   "metadata": {},
   "outputs": [
    {
     "name": "stderr",
     "output_type": "stream",
     "text": [
      "/home/luis-carlos/anaconda3/envs/zanalytics/lib/python3.12/site-packages/transformers/models/auto/tokenization_auto.py:786: FutureWarning: The `use_auth_token` argument is deprecated and will be removed in v5 of Transformers. Please use `token` instead.\n",
      "  warnings.warn(\n",
      "/home/luis-carlos/anaconda3/envs/zanalytics/lib/python3.12/site-packages/transformers/tokenization_utils_base.py:1601: FutureWarning: `clean_up_tokenization_spaces` was not set. It will be set to `True` by default. This behavior will be depracted in transformers v4.45, and will be then set to `False` by default. For more details check this issue: https://github.com/huggingface/transformers/issues/31884\n",
      "  warnings.warn(\n",
      "/home/luis-carlos/anaconda3/envs/zanalytics/lib/python3.12/site-packages/transformers/models/auto/auto_factory.py:469: FutureWarning: The `use_auth_token` argument is deprecated and will be removed in v5 of Transformers. Please use `token` instead.\n",
      "  warnings.warn(\n"
     ]
    },
    {
     "name": "stdout",
     "output_type": "stream",
     "text": [
      "[Gramformer] Grammar error correct/highlight model loaded..\n"
     ]
    }
   ],
   "source": [
    "gf = Gramformer(models = 1, use_gpu=False) # 1=corrector, 2=detector"
   ]
  },
  {
   "cell_type": "code",
   "execution_count": 5,
   "id": "49854ff1",
   "metadata": {},
   "outputs": [],
   "source": [
    "influent_sentences = [\n",
    "    \"He are moving here.\",\n",
    "    \"I am doing fine. How is you?\",\n",
    "    \"How is they?\",\n",
    "    \"Matt like fish\",\n",
    "    \"the collection of letters was original used by the ancient Romans\",\n",
    "    \"We enjoys horror movies\",\n",
    "    \"Anna and Mike is going skiing\",\n",
    "    \"I walk to the store and I bought milk\",\n",
    "    \" We all eat the fish and then made dessert\",\n",
    "    \"I will eat fish for dinner and drink milk\",\n",
    "    \"what be the reason for everyone leave the company\",\n",
    "]"
   ]
  },
  {
   "cell_type": "code",
   "execution_count": 6,
   "id": "ed636e4c",
   "metadata": {},
   "outputs": [
    {
     "name": "stdout",
     "output_type": "stream",
     "text": [
      "[Input]  He are moving here.\n",
      "[Correction]  He is moving here.\n",
      "----------------------------------------------------------------------------------------------------\n",
      "[Input]  I am doing fine. How is you?\n",
      "[Correction]  I am doing fine. How are you?\n",
      "----------------------------------------------------------------------------------------------------\n",
      "[Input]  How is they?\n",
      "[Correction]  How are they?\n",
      "----------------------------------------------------------------------------------------------------\n",
      "[Input]  Matt like fish\n",
      "[Correction]  Matt likes fish.\n",
      "----------------------------------------------------------------------------------------------------\n",
      "[Input]  the collection of letters was original used by the ancient Romans\n",
      "[Correction]  the collection of letters was originally used by the ancient Romans\n",
      "----------------------------------------------------------------------------------------------------\n",
      "[Input]  We enjoys horror movies\n",
      "[Correction]  We enjoy horror movies.\n",
      "----------------------------------------------------------------------------------------------------\n",
      "[Input]  Anna and Mike is going skiing\n",
      "[Correction]  Anna and Mike are going skiing.\n",
      "----------------------------------------------------------------------------------------------------\n",
      "[Input]  I walk to the store and I bought milk\n",
      "[Correction]  I walked to the store and I bought milk.\n",
      "----------------------------------------------------------------------------------------------------\n",
      "[Input]   We all eat the fish and then made dessert\n",
      "[Correction]  We all ate the fish and then made dessert.\n",
      "----------------------------------------------------------------------------------------------------\n",
      "[Input]  I will eat fish for dinner and drink milk\n",
      "[Correction]  I will eat fish for dinner and drink milk.\n",
      "----------------------------------------------------------------------------------------------------\n",
      "[Input]  what be the reason for everyone leave the company\n",
      "[Correction]  what is the reason for everyone leaving the company?\n",
      "----------------------------------------------------------------------------------------------------\n"
     ]
    }
   ],
   "source": [
    "for influent_sentence in influent_sentences:\n",
    "    corrected_sentences = gf.correct(influent_sentence, max_candidates=1)\n",
    "    print(\"[Input] \", influent_sentence)\n",
    "    for corrected_sentence in corrected_sentences:\n",
    "      print(\"[Correction] \",corrected_sentence)\n",
    "    print(\"-\" *100)"
   ]
  },
  {
   "cell_type": "markdown",
   "id": "3028acad",
   "metadata": {},
   "source": [
    "## Test 2"
   ]
  },
  {
   "cell_type": "code",
   "execution_count": 9,
   "id": "a75261e9",
   "metadata": {},
   "outputs": [],
   "source": [
    "gen_text = \"\"\"\n",
    "Hi everyone! I want to share about my trip last weekend. I go to the beach with my frends. It was so fun and relax time. We go by bus, it take like 2 hours but we laugh a lot and sing music.\n",
    "When we arrive, the sun was very hot! I forget my hat 😅 but I put sunscreen so it’s okay. We walk in sand and the water was very nice, a little cold but nice! I swim and play with the ball. My friend Maria bring snacks, so we eat chips, fruit and drink soda.\n",
    "One thing is funny, a bird try to take our sandwich! We all scream and laugh so much. 😂\n",
    "Later we watch the sun go down. The sky was orange and pink, very pretty. I feel very happy and peace.\n",
    "I want go again soon. Next time I bring hat and maybe more water 😄\n",
    "\"\"\""
   ]
  },
  {
   "cell_type": "code",
   "execution_count": 10,
   "id": "ff5cbdd7",
   "metadata": {},
   "outputs": [],
   "source": [
    "gen_text = gen_text.replace('\\n', ' ')\n",
    "gen_text = gen_text.split('.')\n",
    "gen_text = [x.strip() for x in gen_text]"
   ]
  },
  {
   "cell_type": "code",
   "execution_count": 11,
   "id": "52b6914a",
   "metadata": {},
   "outputs": [
    {
     "name": "stdout",
     "output_type": "stream",
     "text": [
      "[Input]  Hi everyone! I want to share about my trip last weekend\n",
      "[Correction]  Hi everyone! I want to share about my trip last weekend.\n",
      "----------------------------------------------------------------------------------------------------\n",
      "[Input]  I go to the beach with my frends\n",
      "[Correction]  I go to the beach with my friends.\n",
      "----------------------------------------------------------------------------------------------------\n",
      "[Input]  It was so fun and relax time\n",
      "[Correction]  It was a fun and relaxing time.\n",
      "----------------------------------------------------------------------------------------------------\n",
      "[Input]  We go by bus, it take like 2 hours but we laugh a lot and sing music\n",
      "[Correction]  We go by bus, it takes like 2 hours but we laugh a lot and sing music.\n",
      "----------------------------------------------------------------------------------------------------\n",
      "[Input]  When we arrive, the sun was very hot! I forget my hat 😅 but I put sunscreen so it’s okay\n",
      "[Correction]  When we arrived, the sun was very hot! I forgot my hat but I put sunscreen so it’s okay.\n",
      "----------------------------------------------------------------------------------------------------\n",
      "[Input]  We walk in sand and the water was very nice, a little cold but nice! I swim and play with the ball\n",
      "[Correction]  We walked in the sand and the water was very nice, a little cold but nice! I swim and play with the ball.\n",
      "----------------------------------------------------------------------------------------------------\n",
      "[Input]  My friend Maria bring snacks, so we eat chips, fruit and drink soda\n",
      "[Correction]  My friend Maria brings snacks, so we eat chips, fruit and drink soda.\n",
      "----------------------------------------------------------------------------------------------------\n",
      "[Input]  One thing is funny, a bird try to take our sandwich! We all scream and laugh so much\n",
      "[Correction]  One thing is funny, a bird trying to take our sandwich! We all scream and laugh so much.\n",
      "----------------------------------------------------------------------------------------------------\n",
      "[Input]  😂 Later we watch the sun go down\n",
      "[Correction]  Later we watch the sun go down.\n",
      "----------------------------------------------------------------------------------------------------\n",
      "[Input]  The sky was orange and pink, very pretty\n",
      "[Correction]  The sky was orange and pink, very pretty.\n",
      "----------------------------------------------------------------------------------------------------\n",
      "[Input]  I feel very happy and peace\n",
      "[Correction]  I feel very happy and peaceful.\n",
      "----------------------------------------------------------------------------------------------------\n",
      "[Input]  I want go again soon\n",
      "[Correction]  I want to go again soon.\n",
      "----------------------------------------------------------------------------------------------------\n",
      "[Input]  Next time I bring hat and maybe more water 😄\n",
      "[Correction]  Next time I bring a hat and maybe more water.\n",
      "----------------------------------------------------------------------------------------------------\n"
     ]
    }
   ],
   "source": [
    "for text in gen_text:\n",
    "    corrected_sentences = gf.correct(text, max_candidates=1)\n",
    "    print(\"[Input] \", text)\n",
    "    for corrected_sentence in corrected_sentences:\n",
    "      print(\"[Correction] \",corrected_sentence)\n",
    "    print(\"-\" *100)"
   ]
  },
  {
   "cell_type": "code",
   "execution_count": null,
   "id": "988439e5",
   "metadata": {},
   "outputs": [],
   "source": []
  }
 ],
 "metadata": {
  "kernelspec": {
   "display_name": "zanalytics",
   "language": "python",
   "name": "python3"
  },
  "language_info": {
   "codemirror_mode": {
    "name": "ipython",
    "version": 3
   },
   "file_extension": ".py",
   "mimetype": "text/x-python",
   "name": "python",
   "nbconvert_exporter": "python",
   "pygments_lexer": "ipython3",
   "version": "3.12.6"
  }
 },
 "nbformat": 4,
 "nbformat_minor": 5
}
