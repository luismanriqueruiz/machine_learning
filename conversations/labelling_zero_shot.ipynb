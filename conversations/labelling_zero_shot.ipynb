{
 "cells": [
  {
   "cell_type": "code",
   "execution_count": 1,
   "metadata": {},
   "outputs": [
    {
     "name": "stderr",
     "output_type": "stream",
     "text": [
      "/home/luis-carlos/Documents/experiments/llm_env/lib/python3.12/site-packages/transformers/utils/generic.py:441: UserWarning: torch.utils._pytree._register_pytree_node is deprecated. Please use torch.utils._pytree.register_pytree_node instead.\n",
      "  _torch_pytree._register_pytree_node(\n",
      "2024-06-22 21:36:21.632698: I tensorflow/core/platform/cpu_feature_guard.cc:210] This TensorFlow binary is optimized to use available CPU instructions in performance-critical operations.\n",
      "To enable the following instructions: AVX2 FMA, in other operations, rebuild TensorFlow with the appropriate compiler flags.\n",
      "2024-06-22 21:36:22.900014: W tensorflow/compiler/tf2tensorrt/utils/py_utils.cc:38] TF-TRT Warning: Could not find TensorRT\n",
      "/home/luis-carlos/Documents/experiments/llm_env/lib/python3.12/site-packages/transformers/utils/generic.py:309: UserWarning: torch.utils._pytree._register_pytree_node is deprecated. Please use torch.utils._pytree.register_pytree_node instead.\n",
      "  _torch_pytree._register_pytree_node(\n"
     ]
    }
   ],
   "source": [
    "from transformers import pipeline"
   ]
  },
  {
   "cell_type": "code",
   "execution_count": 2,
   "metadata": {},
   "outputs": [
    {
     "name": "stderr",
     "output_type": "stream",
     "text": [
      "/home/luis-carlos/Documents/experiments/llm_env/lib/python3.12/site-packages/huggingface_hub/file_download.py:1132: FutureWarning: `resume_download` is deprecated and will be removed in version 1.0.0. Downloads always resume when possible. If you want to force a new download, use `force_download=True`.\n",
      "  warnings.warn(\n"
     ]
    }
   ],
   "source": [
    "pipe = pipeline(model=\"facebook/bart-large-mnli\")"
   ]
  },
  {
   "cell_type": "code",
   "execution_count": 3,
   "metadata": {},
   "outputs": [
    {
     "data": {
      "text/plain": [
       "{'sequence': 'I have a problem with my iphone that needs to be resolved asap!',\n",
       " 'labels': ['urgent', 'phone', 'computer', 'not urgent', 'tablet'],\n",
       " 'scores': [0.5227578282356262,\n",
       "  0.4581405818462372,\n",
       "  0.014264578931033611,\n",
       "  0.0026850118301808834,\n",
       "  0.0021520578302443027]}"
      ]
     },
     "execution_count": 3,
     "metadata": {},
     "output_type": "execute_result"
    }
   ],
   "source": [
    "pipe(\"I have a problem with my iphone that needs to be resolved asap!\",\n",
    "    candidate_labels=[\"urgent\", \"not urgent\", \"phone\", \"tablet\", \"computer\"],\n",
    ")"
   ]
  },
  {
   "cell_type": "markdown",
   "metadata": {},
   "source": [
    "## Part 2."
   ]
  },
  {
   "cell_type": "code",
   "execution_count": 4,
   "metadata": {},
   "outputs": [],
   "source": [
    "classifier = pipeline(\"zero-shot-classification\", model=\"facebook/bart-large-mnli\")"
   ]
  },
  {
   "cell_type": "code",
   "execution_count": 5,
   "metadata": {},
   "outputs": [
    {
     "name": "stdout",
     "output_type": "stream",
     "text": [
      "I enjoy playing cricket, specializing as a left-arm leg spinner while showcasing my skills as a right-handed one-down batsman.\n",
      "['Sports', 'World', 'Automobile', 'Business', 'Politics']\n",
      "[0.9363625645637512, 0.051277656108140945, 0.005267278756946325, 0.0048265582881867886, 0.002265882445499301]\n"
     ]
    }
   ],
   "source": [
    "text = \"I enjoy playing cricket, specializing as a left-arm leg spinner while showcasing my skills as a right-handed one-down batsman.\" \n",
    "labels = ['Politics', 'Automobile', 'Sports', 'Business', 'World']\n",
    "\n",
    "prediction = classifier(text, labels)  \n",
    "\n",
    "print(prediction['sequence']) \n",
    "print(prediction['labels']) \n",
    "print(prediction['scores'])"
   ]
  },
  {
   "cell_type": "markdown",
   "metadata": {},
   "source": [
    "# Downloading dataset"
   ]
  },
  {
   "cell_type": "code",
   "execution_count": 6,
   "metadata": {},
   "outputs": [],
   "source": [
    "import pandas as pd\n",
    "from glob2 import glob"
   ]
  },
  {
   "cell_type": "code",
   "execution_count": 7,
   "metadata": {},
   "outputs": [
    {
     "data": {
      "text/html": [
       "<div>\n",
       "<style scoped>\n",
       "    .dataframe tbody tr th:only-of-type {\n",
       "        vertical-align: middle;\n",
       "    }\n",
       "\n",
       "    .dataframe tbody tr th {\n",
       "        vertical-align: top;\n",
       "    }\n",
       "\n",
       "    .dataframe thead th {\n",
       "        text-align: right;\n",
       "    }\n",
       "</style>\n",
       "<table border=\"1\" class=\"dataframe\">\n",
       "  <thead>\n",
       "    <tr style=\"text-align: right;\">\n",
       "      <th></th>\n",
       "      <th>flags</th>\n",
       "      <th>instruction</th>\n",
       "      <th>category</th>\n",
       "      <th>intent</th>\n",
       "      <th>response</th>\n",
       "    </tr>\n",
       "  </thead>\n",
       "  <tbody>\n",
       "    <tr>\n",
       "      <th>0</th>\n",
       "      <td>B</td>\n",
       "      <td>question about cancelling order {{Order Number}}</td>\n",
       "      <td>ORDER</td>\n",
       "      <td>cancel_order</td>\n",
       "      <td>I've understood you have a question regarding ...</td>\n",
       "    </tr>\n",
       "    <tr>\n",
       "      <th>1</th>\n",
       "      <td>BQZ</td>\n",
       "      <td>i have a question about cancelling oorder {{Or...</td>\n",
       "      <td>ORDER</td>\n",
       "      <td>cancel_order</td>\n",
       "      <td>I've been informed that you have a question ab...</td>\n",
       "    </tr>\n",
       "    <tr>\n",
       "      <th>2</th>\n",
       "      <td>BLQZ</td>\n",
       "      <td>i need help cancelling puchase {{Order Number}}</td>\n",
       "      <td>ORDER</td>\n",
       "      <td>cancel_order</td>\n",
       "      <td>I can sense that you're seeking assistance wit...</td>\n",
       "    </tr>\n",
       "    <tr>\n",
       "      <th>3</th>\n",
       "      <td>BL</td>\n",
       "      <td>I need to cancel purchase {{Order Number}}</td>\n",
       "      <td>ORDER</td>\n",
       "      <td>cancel_order</td>\n",
       "      <td>I understood that you need assistance with can...</td>\n",
       "    </tr>\n",
       "    <tr>\n",
       "      <th>4</th>\n",
       "      <td>BCELN</td>\n",
       "      <td>I cannot afford this order, cancel purchase {{...</td>\n",
       "      <td>ORDER</td>\n",
       "      <td>cancel_order</td>\n",
       "      <td>I'm sensitive to the fact that you're facing f...</td>\n",
       "    </tr>\n",
       "  </tbody>\n",
       "</table>\n",
       "</div>"
      ],
      "text/plain": [
       "   flags                                        instruction category  \\\n",
       "0      B   question about cancelling order {{Order Number}}    ORDER   \n",
       "1    BQZ  i have a question about cancelling oorder {{Or...    ORDER   \n",
       "2   BLQZ    i need help cancelling puchase {{Order Number}}    ORDER   \n",
       "3     BL         I need to cancel purchase {{Order Number}}    ORDER   \n",
       "4  BCELN  I cannot afford this order, cancel purchase {{...    ORDER   \n",
       "\n",
       "         intent                                           response  \n",
       "0  cancel_order  I've understood you have a question regarding ...  \n",
       "1  cancel_order  I've been informed that you have a question ab...  \n",
       "2  cancel_order  I can sense that you're seeking assistance wit...  \n",
       "3  cancel_order  I understood that you need assistance with can...  \n",
       "4  cancel_order  I'm sensitive to the fact that you're facing f...  "
      ]
     },
     "execution_count": 7,
     "metadata": {},
     "output_type": "execute_result"
    }
   ],
   "source": [
    "if 'customer_support.csv' not in glob('*'):\n",
    "    df = pd.read_csv(\"hf://datasets/bitext/Bitext-customer-support-llm-chatbot-training-dataset/Bitext_Sample_Customer_Support_Training_Dataset_27K_responses-v11.csv\")\n",
    "    df.to_csv('customer_support.csv', index=False)\n",
    "    df.head()\n",
    "else:\n",
    "    df = pd.read_csv('customer_support.csv')\n",
    "\n",
    "df.head()"
   ]
  },
  {
   "cell_type": "code",
   "execution_count": 8,
   "metadata": {},
   "outputs": [
    {
     "data": {
      "text/plain": [
       "array(['ORDER', 'SHIPPING', 'CANCEL', 'INVOICE', 'PAYMENT', 'REFUND',\n",
       "       'FEEDBACK', 'CONTACT', 'ACCOUNT', 'DELIVERY', 'SUBSCRIPTION'],\n",
       "      dtype=object)"
      ]
     },
     "execution_count": 8,
     "metadata": {},
     "output_type": "execute_result"
    }
   ],
   "source": [
    "df['category'].unique()"
   ]
  },
  {
   "cell_type": "markdown",
   "metadata": {},
   "source": [
    "## NER"
   ]
  },
  {
   "cell_type": "code",
   "execution_count": 9,
   "metadata": {},
   "outputs": [],
   "source": [
    "import spacy\n",
    "from spacy import displacy"
   ]
  },
  {
   "cell_type": "code",
   "execution_count": 10,
   "metadata": {},
   "outputs": [],
   "source": [
    "# python -m spacy download en_core_web_sm"
   ]
  },
  {
   "cell_type": "code",
   "execution_count": 11,
   "metadata": {},
   "outputs": [],
   "source": [
    "NER = spacy.load(\"en_core_web_sm\")"
   ]
  },
  {
   "cell_type": "code",
   "execution_count": 12,
   "metadata": {},
   "outputs": [],
   "source": [
    "raw_text=\"The Indian Space Research Organisation or is the national space agency of India, headquartered in Bengaluru. It operates under Department of Space which is directly overseen by the Prime Minister of India while Chairman of ISRO acts as executive of DOS as well.\""
   ]
  },
  {
   "cell_type": "code",
   "execution_count": 13,
   "metadata": {},
   "outputs": [],
   "source": [
    "text1 = NER(raw_text)"
   ]
  },
  {
   "cell_type": "code",
   "execution_count": 14,
   "metadata": {},
   "outputs": [
    {
     "name": "stdout",
     "output_type": "stream",
     "text": [
      "The Indian Space Research Organisation ORG\n",
      "India GPE\n",
      "Bengaluru GPE\n",
      "Department of Space ORG\n",
      "India GPE\n",
      "ISRO ORG\n",
      "DOS ORG\n"
     ]
    }
   ],
   "source": [
    "for word in text1.ents:\n",
    "    print(word.text,word.label_)"
   ]
  },
  {
   "cell_type": "code",
   "execution_count": 15,
   "metadata": {},
   "outputs": [
    {
     "data": {
      "text/plain": [
       "'Companies, agencies, institutions, etc.'"
      ]
     },
     "execution_count": 15,
     "metadata": {},
     "output_type": "execute_result"
    }
   ],
   "source": [
    "spacy.explain(\"ORG\")"
   ]
  },
  {
   "cell_type": "code",
   "execution_count": 16,
   "metadata": {},
   "outputs": [
    {
     "data": {
      "text/html": [
       "<span class=\"tex2jax_ignore\"><div class=\"entities\" style=\"line-height: 2.5; direction: ltr\">\n",
       "<mark class=\"entity\" style=\"background: #7aecec; padding: 0.45em 0.6em; margin: 0 0.25em; line-height: 1; border-radius: 0.35em;\">\n",
       "    The Indian Space Research Organisation\n",
       "    <span style=\"font-size: 0.8em; font-weight: bold; line-height: 1; border-radius: 0.35em; vertical-align: middle; margin-left: 0.5rem\">ORG</span>\n",
       "</mark>\n",
       " or is the national space agency of \n",
       "<mark class=\"entity\" style=\"background: #feca74; padding: 0.45em 0.6em; margin: 0 0.25em; line-height: 1; border-radius: 0.35em;\">\n",
       "    India\n",
       "    <span style=\"font-size: 0.8em; font-weight: bold; line-height: 1; border-radius: 0.35em; vertical-align: middle; margin-left: 0.5rem\">GPE</span>\n",
       "</mark>\n",
       ", headquartered in \n",
       "<mark class=\"entity\" style=\"background: #feca74; padding: 0.45em 0.6em; margin: 0 0.25em; line-height: 1; border-radius: 0.35em;\">\n",
       "    Bengaluru\n",
       "    <span style=\"font-size: 0.8em; font-weight: bold; line-height: 1; border-radius: 0.35em; vertical-align: middle; margin-left: 0.5rem\">GPE</span>\n",
       "</mark>\n",
       ". It operates under \n",
       "<mark class=\"entity\" style=\"background: #7aecec; padding: 0.45em 0.6em; margin: 0 0.25em; line-height: 1; border-radius: 0.35em;\">\n",
       "    Department of Space\n",
       "    <span style=\"font-size: 0.8em; font-weight: bold; line-height: 1; border-radius: 0.35em; vertical-align: middle; margin-left: 0.5rem\">ORG</span>\n",
       "</mark>\n",
       " which is directly overseen by the Prime Minister of \n",
       "<mark class=\"entity\" style=\"background: #feca74; padding: 0.45em 0.6em; margin: 0 0.25em; line-height: 1; border-radius: 0.35em;\">\n",
       "    India\n",
       "    <span style=\"font-size: 0.8em; font-weight: bold; line-height: 1; border-radius: 0.35em; vertical-align: middle; margin-left: 0.5rem\">GPE</span>\n",
       "</mark>\n",
       " while Chairman of \n",
       "<mark class=\"entity\" style=\"background: #7aecec; padding: 0.45em 0.6em; margin: 0 0.25em; line-height: 1; border-radius: 0.35em;\">\n",
       "    ISRO\n",
       "    <span style=\"font-size: 0.8em; font-weight: bold; line-height: 1; border-radius: 0.35em; vertical-align: middle; margin-left: 0.5rem\">ORG</span>\n",
       "</mark>\n",
       " acts as executive of \n",
       "<mark class=\"entity\" style=\"background: #7aecec; padding: 0.45em 0.6em; margin: 0 0.25em; line-height: 1; border-radius: 0.35em;\">\n",
       "    DOS\n",
       "    <span style=\"font-size: 0.8em; font-weight: bold; line-height: 1; border-radius: 0.35em; vertical-align: middle; margin-left: 0.5rem\">ORG</span>\n",
       "</mark>\n",
       " as well.</div></span>"
      ],
      "text/plain": [
       "<IPython.core.display.HTML object>"
      ]
     },
     "metadata": {},
     "output_type": "display_data"
    }
   ],
   "source": [
    "displacy.render(text1,style=\"ent\",jupyter=True)"
   ]
  },
  {
   "cell_type": "markdown",
   "metadata": {},
   "source": [
    "### Testing personal information\n",
    "\n",
    "Wanderlust Wayfarer: Hello! Welcome to Wanderlust Wayfarer, your one-stop shop for crafting the perfect getaway.  Where in the world have you always dreamed of traveling?\n",
    "\n",
    "User: Hi there! I've been wanting to visit Europe for a while, but there are so many places to choose from!\n",
    "\n",
    "Wanderlust Wayfarer:  Excellent taste! Europe offers a vast array of experiences. To narrow it down a bit, what kind of atmosphere are you drawn to?  Are you looking for a relaxing beach vacation, a historical and cultural adventure, or perhaps a bustling city experience?\n",
    "\n",
    "User: Leaning more towards relaxation, with some beautiful scenery. Maybe somewhere with gorgeous beaches and historical sites I can visit at my own pace.\n",
    "\n",
    "Wanderlust Wayfarer:  Marvelous!  The Greek Islands might be perfect for you.  They offer stunning beaches, charming villages steeped in history, and a relaxed pace of life.  Would you be traveling solo, with a partner, or with a larger group?\n",
    "\n",
    "User: It would be a trip with my partner. We've been wanting a romantic getaway to celebrate our anniversary.\n",
    "\n",
    "Wanderlust Wayfarer:  A lovely plan!  Knowing it's a couple's trip allows me to recommend some charming boutique hotels or secluded beachfront villas.  When were you hoping to travel? Knowing the timeframe helps with flight and accommodation options.\n",
    "\n",
    "User (after checking a calendar): Ideally, we'd love to go sometime in September.\n",
    "\n",
    "Wanderlust Wayfarer: Perfect! September is a shoulder season in many European destinations, so you might find better deals and slightly fewer crowds.  To personalize your experience further, would you be comfortable sharing a rough budget range for the trip?\n",
    "\n",
    "User: Absolutely! We were thinking somewhere in the ballpark of $5,000 per person.\n",
    "\n",
    "Wanderlust Wayfarer:  Fantastic!  With all this information, I can curate a selection of Greek island getaways that perfectly match your desires.  Would you like me to find some romantic restaurants or unique experiences to add to your itinerary as well?\n",
    "\n",
    "This example shows the chatbot collecting various details that could be considered personal information:\n",
    "\n",
    "    Travel preferences (dream destinations, desired atmosphere)\n",
    "    Travel companions (solo, couple, group)\n",
    "    Reason for travel (celebration)\n",
    "    Preferred travel dates\n",
    "    Budget range\n",
    "\n",
    "While none of this information is super sensitive on its own, it paints a picture of the user's identity and travel habits.  This allows the chatbot to provide a more personalized service.  It's important to note that reputable chatbots will usually clearly state their privacy policy and how they handle user data."
   ]
  },
  {
   "cell_type": "code",
   "execution_count": 17,
   "metadata": {},
   "outputs": [],
   "source": [
    "raw_text = \"Hi there! I've been wanting to visit Europe for a while, but there are so many places to choose from!\""
   ]
  },
  {
   "cell_type": "code",
   "execution_count": 18,
   "metadata": {},
   "outputs": [],
   "source": [
    "def analyze_text(text):\n",
    "    doc = NER(text)\n",
    "    for word in doc.ents:\n",
    "        print(word.text, word.label_)\n",
    "    return doc"
   ]
  },
  {
   "cell_type": "code",
   "execution_count": 19,
   "metadata": {},
   "outputs": [
    {
     "name": "stdout",
     "output_type": "stream",
     "text": [
      "Europe LOC\n"
     ]
    }
   ],
   "source": [
    "res = analyze_text(text=raw_text)"
   ]
  },
  {
   "cell_type": "code",
   "execution_count": 20,
   "metadata": {},
   "outputs": [],
   "source": [
    "res = analyze_text(text = \"Leaning more towards relaxation, with some beautiful scenery. Maybe somewhere with gorgeous beaches and historical sites I can visit at my own pace.\")"
   ]
  },
  {
   "cell_type": "code",
   "execution_count": 76,
   "metadata": {},
   "outputs": [
    {
     "data": {
      "text/plain": [
       "It would be a trip with my partner. We've been wanting a romantic getaway to celebrate our anniversary."
      ]
     },
     "execution_count": 76,
     "metadata": {},
     "output_type": "execute_result"
    }
   ],
   "source": [
    "raw_text = \"It would be a trip with my partner. We've been wanting a romantic getaway to celebrate our anniversary.\"\n",
    "res = analyze_text(text = raw_text)\n",
    "res"
   ]
  },
  {
   "cell_type": "code",
   "execution_count": 77,
   "metadata": {},
   "outputs": [],
   "source": [
    "def predict_class(text, labels, print_summary=False):\n",
    "    prediction = classifier(text, labels)\n",
    "\n",
    "    tmp = pd.DataFrame([prediction['labels'], prediction['scores']]).T\n",
    "    tmp.columns = ['labels', 'scores']\n",
    "\n",
    "    if print_summary:\n",
    "        print(text)\n",
    "        display(tmp)\n",
    "    return prediction"
   ]
  },
  {
   "cell_type": "code",
   "execution_count": 78,
   "metadata": {},
   "outputs": [
    {
     "name": "stdout",
     "output_type": "stream",
     "text": [
      "It would be a trip with my partner. We've been wanting a romantic getaway to celebrate our anniversary.\n"
     ]
    },
    {
     "data": {
      "text/html": [
       "<div>\n",
       "<style scoped>\n",
       "    .dataframe tbody tr th:only-of-type {\n",
       "        vertical-align: middle;\n",
       "    }\n",
       "\n",
       "    .dataframe tbody tr th {\n",
       "        vertical-align: top;\n",
       "    }\n",
       "\n",
       "    .dataframe thead th {\n",
       "        text-align: right;\n",
       "    }\n",
       "</style>\n",
       "<table border=\"1\" class=\"dataframe\">\n",
       "  <thead>\n",
       "    <tr style=\"text-align: right;\">\n",
       "      <th></th>\n",
       "      <th>labels</th>\n",
       "      <th>scores</th>\n",
       "    </tr>\n",
       "  </thead>\n",
       "  <tbody>\n",
       "    <tr>\n",
       "      <th>0</th>\n",
       "      <td>couple</td>\n",
       "      <td>0.877652</td>\n",
       "    </tr>\n",
       "    <tr>\n",
       "      <th>1</th>\n",
       "      <td>group</td>\n",
       "      <td>0.110046</td>\n",
       "    </tr>\n",
       "    <tr>\n",
       "      <th>2</th>\n",
       "      <td>solo</td>\n",
       "      <td>0.012303</td>\n",
       "    </tr>\n",
       "  </tbody>\n",
       "</table>\n",
       "</div>"
      ],
      "text/plain": [
       "   labels    scores\n",
       "0  couple  0.877652\n",
       "1   group  0.110046\n",
       "2    solo  0.012303"
      ]
     },
     "metadata": {},
     "output_type": "display_data"
    }
   ],
   "source": [
    "labels = ['solo', 'couple', 'group']\n",
    "res = predict_class(raw_text, labels, print_summary=True)"
   ]
  },
  {
   "cell_type": "code",
   "execution_count": 79,
   "metadata": {},
   "outputs": [
    {
     "name": "stdout",
     "output_type": "stream",
     "text": [
      "It would be a trip with my partner. We've been wanting a romantic getaway to celebrate our anniversary.\n"
     ]
    },
    {
     "data": {
      "text/html": [
       "<div>\n",
       "<style scoped>\n",
       "    .dataframe tbody tr th:only-of-type {\n",
       "        vertical-align: middle;\n",
       "    }\n",
       "\n",
       "    .dataframe tbody tr th {\n",
       "        vertical-align: top;\n",
       "    }\n",
       "\n",
       "    .dataframe thead th {\n",
       "        text-align: right;\n",
       "    }\n",
       "</style>\n",
       "<table border=\"1\" class=\"dataframe\">\n",
       "  <thead>\n",
       "    <tr style=\"text-align: right;\">\n",
       "      <th></th>\n",
       "      <th>labels</th>\n",
       "      <th>scores</th>\n",
       "    </tr>\n",
       "  </thead>\n",
       "  <tbody>\n",
       "    <tr>\n",
       "      <th>0</th>\n",
       "      <td>celebration</td>\n",
       "      <td>0.861152</td>\n",
       "    </tr>\n",
       "    <tr>\n",
       "      <th>1</th>\n",
       "      <td>Leisure</td>\n",
       "      <td>0.048936</td>\n",
       "    </tr>\n",
       "    <tr>\n",
       "      <th>2</th>\n",
       "      <td>Adventure</td>\n",
       "      <td>0.034239</td>\n",
       "    </tr>\n",
       "    <tr>\n",
       "      <th>3</th>\n",
       "      <td>Workation</td>\n",
       "      <td>0.020371</td>\n",
       "    </tr>\n",
       "    <tr>\n",
       "      <th>4</th>\n",
       "      <td>Education</td>\n",
       "      <td>0.010071</td>\n",
       "    </tr>\n",
       "    <tr>\n",
       "      <th>5</th>\n",
       "      <td>Visiting Friends and Family</td>\n",
       "      <td>0.009811</td>\n",
       "    </tr>\n",
       "    <tr>\n",
       "      <th>6</th>\n",
       "      <td>Medical</td>\n",
       "      <td>0.009387</td>\n",
       "    </tr>\n",
       "    <tr>\n",
       "      <th>7</th>\n",
       "      <td>Business</td>\n",
       "      <td>0.006032</td>\n",
       "    </tr>\n",
       "  </tbody>\n",
       "</table>\n",
       "</div>"
      ],
      "text/plain": [
       "                        labels    scores\n",
       "0                  celebration  0.861152\n",
       "1                      Leisure  0.048936\n",
       "2                    Adventure  0.034239\n",
       "3                    Workation  0.020371\n",
       "4                    Education  0.010071\n",
       "5  Visiting Friends and Family  0.009811\n",
       "6                      Medical  0.009387\n",
       "7                     Business  0.006032"
      ]
     },
     "metadata": {},
     "output_type": "display_data"
    }
   ],
   "source": [
    "labels = ['Leisure', 'Business', 'Education', 'Visiting Friends and Family', 'Medical', 'Adventure', 'Workation', 'celebration']\n",
    "res = predict_class(raw_text, labels, print_summary=True)"
   ]
  },
  {
   "cell_type": "markdown",
   "metadata": {},
   "source": [
    "## Testing with a dataset"
   ]
  },
  {
   "cell_type": "code",
   "execution_count": 90,
   "metadata": {},
   "outputs": [],
   "source": [
    "from sklearn.utils import shuffle\n",
    "from tqdm import tqdm\n",
    "import re"
   ]
  },
  {
   "cell_type": "code",
   "execution_count": 81,
   "metadata": {},
   "outputs": [
    {
     "data": {
      "text/html": [
       "<div>\n",
       "<style scoped>\n",
       "    .dataframe tbody tr th:only-of-type {\n",
       "        vertical-align: middle;\n",
       "    }\n",
       "\n",
       "    .dataframe tbody tr th {\n",
       "        vertical-align: top;\n",
       "    }\n",
       "\n",
       "    .dataframe thead th {\n",
       "        text-align: right;\n",
       "    }\n",
       "</style>\n",
       "<table border=\"1\" class=\"dataframe\">\n",
       "  <thead>\n",
       "    <tr style=\"text-align: right;\">\n",
       "      <th></th>\n",
       "      <th>flags</th>\n",
       "      <th>instruction</th>\n",
       "      <th>category</th>\n",
       "      <th>intent</th>\n",
       "      <th>response</th>\n",
       "    </tr>\n",
       "  </thead>\n",
       "  <tbody>\n",
       "    <tr>\n",
       "      <th>0</th>\n",
       "      <td>B</td>\n",
       "      <td>question about cancelling order {{Order Number}}</td>\n",
       "      <td>ORDER</td>\n",
       "      <td>cancel_order</td>\n",
       "      <td>I've understood you have a question regarding ...</td>\n",
       "    </tr>\n",
       "    <tr>\n",
       "      <th>1</th>\n",
       "      <td>BQZ</td>\n",
       "      <td>i have a question about cancelling oorder {{Or...</td>\n",
       "      <td>ORDER</td>\n",
       "      <td>cancel_order</td>\n",
       "      <td>I've been informed that you have a question ab...</td>\n",
       "    </tr>\n",
       "    <tr>\n",
       "      <th>2</th>\n",
       "      <td>BLQZ</td>\n",
       "      <td>i need help cancelling puchase {{Order Number}}</td>\n",
       "      <td>ORDER</td>\n",
       "      <td>cancel_order</td>\n",
       "      <td>I can sense that you're seeking assistance wit...</td>\n",
       "    </tr>\n",
       "    <tr>\n",
       "      <th>3</th>\n",
       "      <td>BL</td>\n",
       "      <td>I need to cancel purchase {{Order Number}}</td>\n",
       "      <td>ORDER</td>\n",
       "      <td>cancel_order</td>\n",
       "      <td>I understood that you need assistance with can...</td>\n",
       "    </tr>\n",
       "    <tr>\n",
       "      <th>4</th>\n",
       "      <td>BCELN</td>\n",
       "      <td>I cannot afford this order, cancel purchase {{...</td>\n",
       "      <td>ORDER</td>\n",
       "      <td>cancel_order</td>\n",
       "      <td>I'm sensitive to the fact that you're facing f...</td>\n",
       "    </tr>\n",
       "  </tbody>\n",
       "</table>\n",
       "</div>"
      ],
      "text/plain": [
       "   flags                                        instruction category  \\\n",
       "0      B   question about cancelling order {{Order Number}}    ORDER   \n",
       "1    BQZ  i have a question about cancelling oorder {{Or...    ORDER   \n",
       "2   BLQZ    i need help cancelling puchase {{Order Number}}    ORDER   \n",
       "3     BL         I need to cancel purchase {{Order Number}}    ORDER   \n",
       "4  BCELN  I cannot afford this order, cancel purchase {{...    ORDER   \n",
       "\n",
       "         intent                                           response  \n",
       "0  cancel_order  I've understood you have a question regarding ...  \n",
       "1  cancel_order  I've been informed that you have a question ab...  \n",
       "2  cancel_order  I can sense that you're seeking assistance wit...  \n",
       "3  cancel_order  I understood that you need assistance with can...  \n",
       "4  cancel_order  I'm sensitive to the fact that you're facing f...  "
      ]
     },
     "execution_count": 81,
     "metadata": {},
     "output_type": "execute_result"
    }
   ],
   "source": [
    "df.head()"
   ]
  },
  {
   "cell_type": "code",
   "execution_count": 124,
   "metadata": {},
   "outputs": [
    {
     "data": {
      "text/html": [
       "<div>\n",
       "<style scoped>\n",
       "    .dataframe tbody tr th:only-of-type {\n",
       "        vertical-align: middle;\n",
       "    }\n",
       "\n",
       "    .dataframe tbody tr th {\n",
       "        vertical-align: top;\n",
       "    }\n",
       "\n",
       "    .dataframe thead th {\n",
       "        text-align: right;\n",
       "    }\n",
       "</style>\n",
       "<table border=\"1\" class=\"dataframe\">\n",
       "  <thead>\n",
       "    <tr style=\"text-align: right;\">\n",
       "      <th></th>\n",
       "      <th>flags</th>\n",
       "      <th>instruction</th>\n",
       "      <th>category</th>\n",
       "      <th>intent</th>\n",
       "      <th>response</th>\n",
       "    </tr>\n",
       "  </thead>\n",
       "  <tbody>\n",
       "    <tr>\n",
       "      <th>11680</th>\n",
       "      <td>BKLZ</td>\n",
       "      <td>remove {{Account Category}} accoint</td>\n",
       "      <td>ACCOUNT</td>\n",
       "      <td>delete_account</td>\n",
       "      <td>Thank you for contacting us regarding the remo...</td>\n",
       "    </tr>\n",
       "    <tr>\n",
       "      <th>21881</th>\n",
       "      <td>BILM</td>\n",
       "      <td>what do I have to do to report issues with a s...</td>\n",
       "      <td>ACCOUNT</td>\n",
       "      <td>registration_problems</td>\n",
       "      <td>Appreciate your message to us about the issues...</td>\n",
       "    </tr>\n",
       "    <tr>\n",
       "      <th>11119</th>\n",
       "      <td>BLMQ</td>\n",
       "      <td>i have problems with the deletion of a {{Accou...</td>\n",
       "      <td>ACCOUNT</td>\n",
       "      <td>delete_account</td>\n",
       "      <td>Glad you contacted to us about the issues you ...</td>\n",
       "    </tr>\n",
       "    <tr>\n",
       "      <th>20830</th>\n",
       "      <td>BCILZ</td>\n",
       "      <td>I forgot my account password, how t reset it?</td>\n",
       "      <td>ACCOUNT</td>\n",
       "      <td>recover_password</td>\n",
       "      <td>Oh, I completely understand how frustrating it...</td>\n",
       "    </tr>\n",
       "    <tr>\n",
       "      <th>20587</th>\n",
       "      <td>BLQ</td>\n",
       "      <td>i want help recovering the access key of my pr...</td>\n",
       "      <td>ACCOUNT</td>\n",
       "      <td>recover_password</td>\n",
       "      <td>I realized you are seeking assistance in recov...</td>\n",
       "    </tr>\n",
       "  </tbody>\n",
       "</table>\n",
       "</div>"
      ],
      "text/plain": [
       "       flags                                        instruction category  \\\n",
       "11680   BKLZ                remove {{Account Category}} accoint  ACCOUNT   \n",
       "21881   BILM  what do I have to do to report issues with a s...  ACCOUNT   \n",
       "11119   BLMQ  i have problems with the deletion of a {{Accou...  ACCOUNT   \n",
       "20830  BCILZ      I forgot my account password, how t reset it?  ACCOUNT   \n",
       "20587    BLQ  i want help recovering the access key of my pr...  ACCOUNT   \n",
       "\n",
       "                      intent  \\\n",
       "11680         delete_account   \n",
       "21881  registration_problems   \n",
       "11119         delete_account   \n",
       "20830       recover_password   \n",
       "20587       recover_password   \n",
       "\n",
       "                                                response  \n",
       "11680  Thank you for contacting us regarding the remo...  \n",
       "21881  Appreciate your message to us about the issues...  \n",
       "11119  Glad you contacted to us about the issues you ...  \n",
       "20830  Oh, I completely understand how frustrating it...  \n",
       "20587  I realized you are seeking assistance in recov...  "
      ]
     },
     "execution_count": 124,
     "metadata": {},
     "output_type": "execute_result"
    }
   ],
   "source": [
    "sample_size = 10\n",
    "tmpDF = df.groupby('category').sample(n=sample_size, replace=True)\n",
    "tmpDF.head()"
   ]
  },
  {
   "cell_type": "code",
   "execution_count": 125,
   "metadata": {},
   "outputs": [
    {
     "data": {
      "text/plain": [
       "(110, 5)"
      ]
     },
     "execution_count": 125,
     "metadata": {},
     "output_type": "execute_result"
    }
   ],
   "source": [
    "tmpDF.shape"
   ]
  },
  {
   "cell_type": "code",
   "execution_count": 126,
   "metadata": {},
   "outputs": [
    {
     "data": {
      "text/html": [
       "<div>\n",
       "<style scoped>\n",
       "    .dataframe tbody tr th:only-of-type {\n",
       "        vertical-align: middle;\n",
       "    }\n",
       "\n",
       "    .dataframe tbody tr th {\n",
       "        vertical-align: top;\n",
       "    }\n",
       "\n",
       "    .dataframe thead th {\n",
       "        text-align: right;\n",
       "    }\n",
       "</style>\n",
       "<table border=\"1\" class=\"dataframe\">\n",
       "  <thead>\n",
       "    <tr style=\"text-align: right;\">\n",
       "      <th></th>\n",
       "      <th>flags</th>\n",
       "      <th>instruction</th>\n",
       "      <th>category</th>\n",
       "      <th>intent</th>\n",
       "      <th>response</th>\n",
       "    </tr>\n",
       "  </thead>\n",
       "  <tbody>\n",
       "    <tr>\n",
       "      <th>0</th>\n",
       "      <td>BKL</td>\n",
       "      <td>cancelling {{Account Category}} account</td>\n",
       "      <td>ACCOUNT</td>\n",
       "      <td>delete_account</td>\n",
       "      <td>I appreciate you reaching out to us regarding ...</td>\n",
       "    </tr>\n",
       "    <tr>\n",
       "      <th>1</th>\n",
       "      <td>BIL</td>\n",
       "      <td>where do I make a customer reclamation against...</td>\n",
       "      <td>FEEDBACK</td>\n",
       "      <td>complaint</td>\n",
       "      <td>I sincerely apologize for any inconvenience yo...</td>\n",
       "    </tr>\n",
       "    <tr>\n",
       "      <th>2</th>\n",
       "      <td>BLQ</td>\n",
       "      <td>i want assistance to swap something of purchas...</td>\n",
       "      <td>ORDER</td>\n",
       "      <td>change_order</td>\n",
       "      <td>We appreciate your request to swap an item in ...</td>\n",
       "    </tr>\n",
       "    <tr>\n",
       "      <th>3</th>\n",
       "      <td>BLQ</td>\n",
       "      <td>i need help to see the early termination charge</td>\n",
       "      <td>CANCEL</td>\n",
       "      <td>check_cancellation_fee</td>\n",
       "      <td>Sure! To view the early termination charge, yo...</td>\n",
       "    </tr>\n",
       "    <tr>\n",
       "      <th>4</th>\n",
       "      <td>BILMW</td>\n",
       "      <td>how do I look for the fucking invoices from {{...</td>\n",
       "      <td>INVOICE</td>\n",
       "      <td>check_invoice</td>\n",
       "      <td>I apologize if there was any confusion in your...</td>\n",
       "    </tr>\n",
       "  </tbody>\n",
       "</table>\n",
       "</div>"
      ],
      "text/plain": [
       "   flags                                        instruction  category  \\\n",
       "0    BKL            cancelling {{Account Category}} account   ACCOUNT   \n",
       "1    BIL  where do I make a customer reclamation against...  FEEDBACK   \n",
       "2    BLQ  i want assistance to swap something of purchas...     ORDER   \n",
       "3    BLQ    i need help to see the early termination charge    CANCEL   \n",
       "4  BILMW  how do I look for the fucking invoices from {{...   INVOICE   \n",
       "\n",
       "                   intent                                           response  \n",
       "0          delete_account  I appreciate you reaching out to us regarding ...  \n",
       "1               complaint  I sincerely apologize for any inconvenience yo...  \n",
       "2            change_order  We appreciate your request to swap an item in ...  \n",
       "3  check_cancellation_fee  Sure! To view the early termination charge, yo...  \n",
       "4           check_invoice  I apologize if there was any confusion in your...  "
      ]
     },
     "execution_count": 126,
     "metadata": {},
     "output_type": "execute_result"
    }
   ],
   "source": [
    "tmpDF = shuffle(tmpDF)\n",
    "tmpDF.reset_index(drop=True, inplace=True)\n",
    "tmpDF.head()"
   ]
  },
  {
   "cell_type": "code",
   "execution_count": 127,
   "metadata": {},
   "outputs": [
    {
     "data": {
      "text/plain": [
       "['ACCOUNT',\n",
       " 'FEEDBACK',\n",
       " 'ORDER',\n",
       " 'CANCEL',\n",
       " 'INVOICE',\n",
       " 'DELIVERY',\n",
       " 'SUBSCRIPTION',\n",
       " 'CONTACT',\n",
       " 'SHIPPING',\n",
       " 'PAYMENT',\n",
       " 'REFUND']"
      ]
     },
     "execution_count": 127,
     "metadata": {},
     "output_type": "execute_result"
    }
   ],
   "source": [
    "labels = tmpDF['category'].unique().tolist()\n",
    "labels"
   ]
  },
  {
   "cell_type": "code",
   "execution_count": 128,
   "metadata": {},
   "outputs": [
    {
     "name": "stderr",
     "output_type": "stream",
     "text": [
      "100%|██████████| 110/110 [09:05<00:00,  4.96s/it]\n"
     ]
    }
   ],
   "source": [
    "precision = []\n",
    "\n",
    "for row in tqdm(tmpDF.itertuples(), total=len(tmpDF)):\n",
    "    raw_text = row.instruction\n",
    "    prediction = predict_class(raw_text, labels, print_summary=False)\n",
    "    precision.append(prediction['labels'][0] == row.category)"
   ]
  },
  {
   "cell_type": "code",
   "execution_count": 129,
   "metadata": {},
   "outputs": [
    {
     "data": {
      "text/plain": [
       "[False,\n",
       " False,\n",
       " True,\n",
       " False,\n",
       " True,\n",
       " False,\n",
       " True,\n",
       " True,\n",
       " True,\n",
       " True,\n",
       " True,\n",
       " False,\n",
       " False,\n",
       " False,\n",
       " True,\n",
       " False,\n",
       " False,\n",
       " False,\n",
       " False,\n",
       " True]"
      ]
     },
     "execution_count": 129,
     "metadata": {},
     "output_type": "execute_result"
    }
   ],
   "source": [
    "precision[0:20]"
   ]
  },
  {
   "cell_type": "code",
   "execution_count": 130,
   "metadata": {},
   "outputs": [
    {
     "name": "stdout",
     "output_type": "stream",
     "text": [
      "Total accuracy: 52.73%\n"
     ]
    }
   ],
   "source": [
    "total_precision = sum(precision) / len(precision)\n",
    "print(f'Total accuracy: {total_precision * 100:.2f}%')"
   ]
  },
  {
   "cell_type": "code",
   "execution_count": 131,
   "metadata": {},
   "outputs": [
    {
     "name": "stdout",
     "output_type": "stream",
     "text": [
      "ACCOUNT\n",
      "cancelling {{Account Category}} account\n"
     ]
    },
    {
     "data": {
      "text/html": [
       "<div>\n",
       "<style scoped>\n",
       "    .dataframe tbody tr th:only-of-type {\n",
       "        vertical-align: middle;\n",
       "    }\n",
       "\n",
       "    .dataframe tbody tr th {\n",
       "        vertical-align: top;\n",
       "    }\n",
       "\n",
       "    .dataframe thead th {\n",
       "        text-align: right;\n",
       "    }\n",
       "</style>\n",
       "<table border=\"1\" class=\"dataframe\">\n",
       "  <thead>\n",
       "    <tr style=\"text-align: right;\">\n",
       "      <th></th>\n",
       "      <th>labels</th>\n",
       "      <th>scores</th>\n",
       "    </tr>\n",
       "  </thead>\n",
       "  <tbody>\n",
       "    <tr>\n",
       "      <th>0</th>\n",
       "      <td>CANCEL</td>\n",
       "      <td>0.737349</td>\n",
       "    </tr>\n",
       "    <tr>\n",
       "      <th>1</th>\n",
       "      <td>ACCOUNT</td>\n",
       "      <td>0.132713</td>\n",
       "    </tr>\n",
       "    <tr>\n",
       "      <th>2</th>\n",
       "      <td>INVOICE</td>\n",
       "      <td>0.035339</td>\n",
       "    </tr>\n",
       "    <tr>\n",
       "      <th>3</th>\n",
       "      <td>ORDER</td>\n",
       "      <td>0.020385</td>\n",
       "    </tr>\n",
       "    <tr>\n",
       "      <th>4</th>\n",
       "      <td>CONTACT</td>\n",
       "      <td>0.018864</td>\n",
       "    </tr>\n",
       "    <tr>\n",
       "      <th>5</th>\n",
       "      <td>PAYMENT</td>\n",
       "      <td>0.011521</td>\n",
       "    </tr>\n",
       "    <tr>\n",
       "      <th>6</th>\n",
       "      <td>REFUND</td>\n",
       "      <td>0.011154</td>\n",
       "    </tr>\n",
       "    <tr>\n",
       "      <th>7</th>\n",
       "      <td>FEEDBACK</td>\n",
       "      <td>0.010736</td>\n",
       "    </tr>\n",
       "    <tr>\n",
       "      <th>8</th>\n",
       "      <td>SUBSCRIPTION</td>\n",
       "      <td>0.007538</td>\n",
       "    </tr>\n",
       "    <tr>\n",
       "      <th>9</th>\n",
       "      <td>SHIPPING</td>\n",
       "      <td>0.007288</td>\n",
       "    </tr>\n",
       "    <tr>\n",
       "      <th>10</th>\n",
       "      <td>DELIVERY</td>\n",
       "      <td>0.007113</td>\n",
       "    </tr>\n",
       "  </tbody>\n",
       "</table>\n",
       "</div>"
      ],
      "text/plain": [
       "          labels    scores\n",
       "0         CANCEL  0.737349\n",
       "1        ACCOUNT  0.132713\n",
       "2        INVOICE  0.035339\n",
       "3          ORDER  0.020385\n",
       "4        CONTACT  0.018864\n",
       "5        PAYMENT  0.011521\n",
       "6         REFUND  0.011154\n",
       "7       FEEDBACK  0.010736\n",
       "8   SUBSCRIPTION  0.007538\n",
       "9       SHIPPING  0.007288\n",
       "10      DELIVERY  0.007113"
      ]
     },
     "metadata": {},
     "output_type": "display_data"
    },
    {
     "data": {
      "text/plain": [
       "{'sequence': 'cancelling {{Account Category}} account',\n",
       " 'labels': ['CANCEL',\n",
       "  'ACCOUNT',\n",
       "  'INVOICE',\n",
       "  'ORDER',\n",
       "  'CONTACT',\n",
       "  'PAYMENT',\n",
       "  'REFUND',\n",
       "  'FEEDBACK',\n",
       "  'SUBSCRIPTION',\n",
       "  'SHIPPING',\n",
       "  'DELIVERY'],\n",
       " 'scores': [0.7373490929603577,\n",
       "  0.13271336257457733,\n",
       "  0.035339076071977615,\n",
       "  0.020384525880217552,\n",
       "  0.018863528966903687,\n",
       "  0.0115209324285388,\n",
       "  0.011154357343912125,\n",
       "  0.010736397467553616,\n",
       "  0.0075379349291324615,\n",
       "  0.007288334425538778,\n",
       "  0.007112595252692699]}"
      ]
     },
     "execution_count": 131,
     "metadata": {},
     "output_type": "execute_result"
    }
   ],
   "source": [
    "n=0\n",
    "print(tmpDF.loc[n, 'category'])\n",
    "predict_class(tmpDF.loc[n, 'instruction'], labels, print_summary=True)"
   ]
  },
  {
   "cell_type": "code",
   "execution_count": 132,
   "metadata": {},
   "outputs": [
    {
     "name": "stdout",
     "output_type": "stream",
     "text": [
      "FEEDBACK\n",
      "where do I make a customer reclamation against your company?\n"
     ]
    },
    {
     "data": {
      "text/html": [
       "<div>\n",
       "<style scoped>\n",
       "    .dataframe tbody tr th:only-of-type {\n",
       "        vertical-align: middle;\n",
       "    }\n",
       "\n",
       "    .dataframe tbody tr th {\n",
       "        vertical-align: top;\n",
       "    }\n",
       "\n",
       "    .dataframe thead th {\n",
       "        text-align: right;\n",
       "    }\n",
       "</style>\n",
       "<table border=\"1\" class=\"dataframe\">\n",
       "  <thead>\n",
       "    <tr style=\"text-align: right;\">\n",
       "      <th></th>\n",
       "      <th>labels</th>\n",
       "      <th>scores</th>\n",
       "    </tr>\n",
       "  </thead>\n",
       "  <tbody>\n",
       "    <tr>\n",
       "      <th>0</th>\n",
       "      <td>REFUND</td>\n",
       "      <td>0.520703</td>\n",
       "    </tr>\n",
       "    <tr>\n",
       "      <th>1</th>\n",
       "      <td>CONTACT</td>\n",
       "      <td>0.098496</td>\n",
       "    </tr>\n",
       "    <tr>\n",
       "      <th>2</th>\n",
       "      <td>INVOICE</td>\n",
       "      <td>0.08496</td>\n",
       "    </tr>\n",
       "    <tr>\n",
       "      <th>3</th>\n",
       "      <td>FEEDBACK</td>\n",
       "      <td>0.082622</td>\n",
       "    </tr>\n",
       "    <tr>\n",
       "      <th>4</th>\n",
       "      <td>ORDER</td>\n",
       "      <td>0.06257</td>\n",
       "    </tr>\n",
       "    <tr>\n",
       "      <th>5</th>\n",
       "      <td>ACCOUNT</td>\n",
       "      <td>0.045967</td>\n",
       "    </tr>\n",
       "    <tr>\n",
       "      <th>6</th>\n",
       "      <td>PAYMENT</td>\n",
       "      <td>0.031589</td>\n",
       "    </tr>\n",
       "    <tr>\n",
       "      <th>7</th>\n",
       "      <td>DELIVERY</td>\n",
       "      <td>0.028536</td>\n",
       "    </tr>\n",
       "    <tr>\n",
       "      <th>8</th>\n",
       "      <td>SUBSCRIPTION</td>\n",
       "      <td>0.015488</td>\n",
       "    </tr>\n",
       "    <tr>\n",
       "      <th>9</th>\n",
       "      <td>SHIPPING</td>\n",
       "      <td>0.014954</td>\n",
       "    </tr>\n",
       "    <tr>\n",
       "      <th>10</th>\n",
       "      <td>CANCEL</td>\n",
       "      <td>0.014115</td>\n",
       "    </tr>\n",
       "  </tbody>\n",
       "</table>\n",
       "</div>"
      ],
      "text/plain": [
       "          labels    scores\n",
       "0         REFUND  0.520703\n",
       "1        CONTACT  0.098496\n",
       "2        INVOICE   0.08496\n",
       "3       FEEDBACK  0.082622\n",
       "4          ORDER   0.06257\n",
       "5        ACCOUNT  0.045967\n",
       "6        PAYMENT  0.031589\n",
       "7       DELIVERY  0.028536\n",
       "8   SUBSCRIPTION  0.015488\n",
       "9       SHIPPING  0.014954\n",
       "10        CANCEL  0.014115"
      ]
     },
     "metadata": {},
     "output_type": "display_data"
    },
    {
     "data": {
      "text/plain": [
       "{'sequence': 'where do I make a customer reclamation against your company?',\n",
       " 'labels': ['REFUND',\n",
       "  'CONTACT',\n",
       "  'INVOICE',\n",
       "  'FEEDBACK',\n",
       "  'ORDER',\n",
       "  'ACCOUNT',\n",
       "  'PAYMENT',\n",
       "  'DELIVERY',\n",
       "  'SUBSCRIPTION',\n",
       "  'SHIPPING',\n",
       "  'CANCEL'],\n",
       " 'scores': [0.5207028388977051,\n",
       "  0.09849632531404495,\n",
       "  0.0849602147936821,\n",
       "  0.08262209594249725,\n",
       "  0.06256954371929169,\n",
       "  0.04596659541130066,\n",
       "  0.03158948943018913,\n",
       "  0.028535865247249603,\n",
       "  0.015488037839531898,\n",
       "  0.014953576028347015,\n",
       "  0.014115436002612114]}"
      ]
     },
     "execution_count": 132,
     "metadata": {},
     "output_type": "execute_result"
    }
   ],
   "source": [
    "n=1\n",
    "print(tmpDF.loc[n, 'category'])\n",
    "predict_class(tmpDF.loc[n, 'instruction'], labels, print_summary=True)"
   ]
  },
  {
   "cell_type": "markdown",
   "metadata": {},
   "source": [
    "# Snorkel\n",
    "## Preprocessing"
   ]
  },
  {
   "cell_type": "code",
   "execution_count": 176,
   "metadata": {},
   "outputs": [],
   "source": [
    "import nltk.corpus\n",
    "#nltk.download('stopwords')\n",
    "from nltk.corpus import stopwords\n",
    "import numpy as np"
   ]
  },
  {
   "cell_type": "code",
   "execution_count": 134,
   "metadata": {},
   "outputs": [
    {
     "name": "stdout",
     "output_type": "stream",
     "text": [
      "cancelling {{Account Category}} account\n"
     ]
    }
   ],
   "source": [
    "text = tmpDF.loc[0, 'instruction']\n",
    "print(text)"
   ]
  },
  {
   "cell_type": "code",
   "execution_count": 144,
   "metadata": {},
   "outputs": [],
   "source": [
    "def clean_text(text):\n",
    "    # Normalizing\n",
    "    text = text.lower()\n",
    "\n",
    "    # Remove everything inside parentheses and the parentheses themselves\n",
    "    text = re.sub(r'\\s* \\{\\{.*?\\}\\}\\s* ', ' ', text)\n",
    "\n",
    "    # Removing numbers\n",
    "    text = re.sub(r\"[0-9]+\", \"\", text)\n",
    "\n",
    "    # Removing characters\n",
    "    text = re.sub(r\"(@\\[A-Za-z0-9]+)|([^0-9A-Za-z \\t])|(\\w+:\\/\\/\\S+)|^rt|http.+?\", \" \", text)\n",
    "\n",
    "    # Removing stopwords\n",
    "    stop = stopwords.words('english')\n",
    "    text = \" \".join([word for word in text.split() if word not in stop])\n",
    "    return(text)"
   ]
  },
  {
   "cell_type": "code",
   "execution_count": 145,
   "metadata": {},
   "outputs": [
    {
     "data": {
      "text/html": [
       "<div>\n",
       "<style scoped>\n",
       "    .dataframe tbody tr th:only-of-type {\n",
       "        vertical-align: middle;\n",
       "    }\n",
       "\n",
       "    .dataframe tbody tr th {\n",
       "        vertical-align: top;\n",
       "    }\n",
       "\n",
       "    .dataframe thead th {\n",
       "        text-align: right;\n",
       "    }\n",
       "</style>\n",
       "<table border=\"1\" class=\"dataframe\">\n",
       "  <thead>\n",
       "    <tr style=\"text-align: right;\">\n",
       "      <th></th>\n",
       "      <th>flags</th>\n",
       "      <th>instruction</th>\n",
       "      <th>category</th>\n",
       "      <th>intent</th>\n",
       "      <th>response</th>\n",
       "      <th>instruction_cleaned</th>\n",
       "    </tr>\n",
       "  </thead>\n",
       "  <tbody>\n",
       "    <tr>\n",
       "      <th>0</th>\n",
       "      <td>BKL</td>\n",
       "      <td>cancelling {{Account Category}} account</td>\n",
       "      <td>ACCOUNT</td>\n",
       "      <td>delete_account</td>\n",
       "      <td>I appreciate you reaching out to us regarding ...</td>\n",
       "      <td>cancelling account</td>\n",
       "    </tr>\n",
       "    <tr>\n",
       "      <th>1</th>\n",
       "      <td>BIL</td>\n",
       "      <td>where do I make a customer reclamation against...</td>\n",
       "      <td>FEEDBACK</td>\n",
       "      <td>complaint</td>\n",
       "      <td>I sincerely apologize for any inconvenience yo...</td>\n",
       "      <td>make customer reclamation company</td>\n",
       "    </tr>\n",
       "    <tr>\n",
       "      <th>2</th>\n",
       "      <td>BLQ</td>\n",
       "      <td>i want assistance to swap something of purchas...</td>\n",
       "      <td>ORDER</td>\n",
       "      <td>change_order</td>\n",
       "      <td>We appreciate your request to swap an item in ...</td>\n",
       "      <td>want assistance swap something purchase order ...</td>\n",
       "    </tr>\n",
       "    <tr>\n",
       "      <th>3</th>\n",
       "      <td>BLQ</td>\n",
       "      <td>i need help to see the early termination charge</td>\n",
       "      <td>CANCEL</td>\n",
       "      <td>check_cancellation_fee</td>\n",
       "      <td>Sure! To view the early termination charge, yo...</td>\n",
       "      <td>need help see early termination charge</td>\n",
       "    </tr>\n",
       "    <tr>\n",
       "      <th>4</th>\n",
       "      <td>BILMW</td>\n",
       "      <td>how do I look for the fucking invoices from {{...</td>\n",
       "      <td>INVOICE</td>\n",
       "      <td>check_invoice</td>\n",
       "      <td>I apologize if there was any confusion in your...</td>\n",
       "      <td>look fucking invoices person name</td>\n",
       "    </tr>\n",
       "  </tbody>\n",
       "</table>\n",
       "</div>"
      ],
      "text/plain": [
       "   flags                                        instruction  category  \\\n",
       "0    BKL            cancelling {{Account Category}} account   ACCOUNT   \n",
       "1    BIL  where do I make a customer reclamation against...  FEEDBACK   \n",
       "2    BLQ  i want assistance to swap something of purchas...     ORDER   \n",
       "3    BLQ    i need help to see the early termination charge    CANCEL   \n",
       "4  BILMW  how do I look for the fucking invoices from {{...   INVOICE   \n",
       "\n",
       "                   intent                                           response  \\\n",
       "0          delete_account  I appreciate you reaching out to us regarding ...   \n",
       "1               complaint  I sincerely apologize for any inconvenience yo...   \n",
       "2            change_order  We appreciate your request to swap an item in ...   \n",
       "3  check_cancellation_fee  Sure! To view the early termination charge, yo...   \n",
       "4           check_invoice  I apologize if there was any confusion in your...   \n",
       "\n",
       "                                 instruction_cleaned  \n",
       "0                                 cancelling account  \n",
       "1                  make customer reclamation company  \n",
       "2  want assistance swap something purchase order ...  \n",
       "3             need help see early termination charge  \n",
       "4                  look fucking invoices person name  "
      ]
     },
     "execution_count": 145,
     "metadata": {},
     "output_type": "execute_result"
    }
   ],
   "source": [
    "tmpDF.head()"
   ]
  },
  {
   "cell_type": "code",
   "execution_count": 146,
   "metadata": {},
   "outputs": [
    {
     "data": {
      "text/html": [
       "<div>\n",
       "<style scoped>\n",
       "    .dataframe tbody tr th:only-of-type {\n",
       "        vertical-align: middle;\n",
       "    }\n",
       "\n",
       "    .dataframe tbody tr th {\n",
       "        vertical-align: top;\n",
       "    }\n",
       "\n",
       "    .dataframe thead th {\n",
       "        text-align: right;\n",
       "    }\n",
       "</style>\n",
       "<table border=\"1\" class=\"dataframe\">\n",
       "  <thead>\n",
       "    <tr style=\"text-align: right;\">\n",
       "      <th></th>\n",
       "      <th>flags</th>\n",
       "      <th>instruction</th>\n",
       "      <th>category</th>\n",
       "      <th>intent</th>\n",
       "      <th>response</th>\n",
       "      <th>instruction_cleaned</th>\n",
       "    </tr>\n",
       "  </thead>\n",
       "  <tbody>\n",
       "    <tr>\n",
       "      <th>105</th>\n",
       "      <td>BILM</td>\n",
       "      <td>what do I have to do to report issues with a s...</td>\n",
       "      <td>ACCOUNT</td>\n",
       "      <td>registration_problems</td>\n",
       "      <td>Appreciate your message to us about the issues...</td>\n",
       "      <td>report issues sign</td>\n",
       "    </tr>\n",
       "    <tr>\n",
       "      <th>106</th>\n",
       "      <td>BKLMZ</td>\n",
       "      <td>reimbusre {{Currency Symbol}}{{Refund Amount}}</td>\n",
       "      <td>REFUND</td>\n",
       "      <td>get_refund</td>\n",
       "      <td>I've decoded that you would like to inquire ab...</td>\n",
       "      <td>reimbusre currency symbol refund amount</td>\n",
       "    </tr>\n",
       "    <tr>\n",
       "      <th>107</th>\n",
       "      <td>BLMQ</td>\n",
       "      <td>need to inform of issues with payment</td>\n",
       "      <td>PAYMENT</td>\n",
       "      <td>payment_issue</td>\n",
       "      <td>I appreciate you reaching out to inform us abo...</td>\n",
       "      <td>need inform issues payment</td>\n",
       "    </tr>\n",
       "    <tr>\n",
       "      <th>108</th>\n",
       "      <td>BL</td>\n",
       "      <td>I don't know how I can see when will my item a...</td>\n",
       "      <td>DELIVERY</td>\n",
       "      <td>delivery_period</td>\n",
       "      <td>No worries at all! I'm here to help you with t...</td>\n",
       "      <td>know see item arrive</td>\n",
       "    </tr>\n",
       "    <tr>\n",
       "      <th>109</th>\n",
       "      <td>BL</td>\n",
       "      <td>I am trying to speak to somebody</td>\n",
       "      <td>CONTACT</td>\n",
       "      <td>contact_human_agent</td>\n",
       "      <td>Always good to connect! I'm attuned to the fac...</td>\n",
       "      <td>trying speak somebody</td>\n",
       "    </tr>\n",
       "  </tbody>\n",
       "</table>\n",
       "</div>"
      ],
      "text/plain": [
       "     flags                                        instruction  category  \\\n",
       "105   BILM  what do I have to do to report issues with a s...   ACCOUNT   \n",
       "106  BKLMZ     reimbusre {{Currency Symbol}}{{Refund Amount}}    REFUND   \n",
       "107   BLMQ              need to inform of issues with payment   PAYMENT   \n",
       "108     BL  I don't know how I can see when will my item a...  DELIVERY   \n",
       "109     BL                   I am trying to speak to somebody   CONTACT   \n",
       "\n",
       "                    intent                                           response  \\\n",
       "105  registration_problems  Appreciate your message to us about the issues...   \n",
       "106             get_refund  I've decoded that you would like to inquire ab...   \n",
       "107          payment_issue  I appreciate you reaching out to inform us abo...   \n",
       "108        delivery_period  No worries at all! I'm here to help you with t...   \n",
       "109    contact_human_agent  Always good to connect! I'm attuned to the fac...   \n",
       "\n",
       "                         instruction_cleaned  \n",
       "105                       report issues sign  \n",
       "106  reimbusre currency symbol refund amount  \n",
       "107               need inform issues payment  \n",
       "108                     know see item arrive  \n",
       "109                    trying speak somebody  "
      ]
     },
     "execution_count": 146,
     "metadata": {},
     "output_type": "execute_result"
    }
   ],
   "source": [
    "tmpDF['instruction_cleaned'] = tmpDF['instruction'].apply(clean_text)\n",
    "tmpDF.tail()"
   ]
  },
  {
   "cell_type": "code",
   "execution_count": 148,
   "metadata": {},
   "outputs": [
    {
     "name": "stdout",
     "output_type": "stream",
     "text": [
      "ACCOUNT\n",
      "account       5\n",
      "reset         2\n",
      "profile       2\n",
      "report        2\n",
      "sign          2\n",
      "problems      2\n",
      "cancelling    1\n",
      "want          1\n",
      "gold          1\n",
      "change        1\n",
      "Name: count, dtype: int64\n",
      "--------------\n",
      "\n",
      "FEEDBACK\n",
      "help           4\n",
      "feedback       4\n",
      "make           3\n",
      "reclamation    3\n",
      "company        3\n",
      "need           3\n",
      "file           2\n",
      "complaint      2\n",
      "ur             2\n",
      "customer       2\n",
      "Name: count, dtype: int64\n",
      "--------------\n",
      "\n",
      "ORDER\n",
      "order         7\n",
      "number        6\n",
      "purchase      6\n",
      "want          3\n",
      "status        3\n",
      "help          3\n",
      "cancel        2\n",
      "assistance    2\n",
      "seeing        2\n",
      "swap          2\n",
      "Name: count, dtype: int64\n",
      "--------------\n",
      "\n",
      "CANCEL\n",
      "termination     5\n",
      "check           5\n",
      "charges         4\n",
      "see             4\n",
      "early           4\n",
      "charge          4\n",
      "help            4\n",
      "need            2\n",
      "fee             2\n",
      "cancellation    2\n",
      "Name: count, dtype: int64\n",
      "--------------\n",
      "\n",
      "INVOICE\n",
      "person        6\n",
      "name          6\n",
      "bill          5\n",
      "want          3\n",
      "assistance    3\n",
      "look          2\n",
      "need          2\n",
      "find          2\n",
      "bills         2\n",
      "locate        1\n",
      "Name: count, dtype: int64\n",
      "--------------\n",
      "\n",
      "DELIVERY\n",
      "shipping    3\n",
      "check       3\n",
      "find        3\n",
      "see         2\n",
      "order       2\n",
      "delivery    2\n",
      "arrive      2\n",
      "options     2\n",
      "shipment    2\n",
      "methods     2\n",
      "Name: count, dtype: int64\n",
      "--------------\n",
      "\n",
      "SUBSCRIPTION\n",
      "newsletter      9\n",
      "unsubscribe     4\n",
      "company         4\n",
      "subscription    3\n",
      "ur              3\n",
      "cancel          2\n",
      "corporate       2\n",
      "help            2\n",
      "newsetter       1\n",
      "subscriptipn    1\n",
      "Name: count, dtype: int64\n",
      "--------------\n",
      "\n",
      "CONTACT\n",
      "customer    4\n",
      "speak       4\n",
      "person      4\n",
      "help        3\n",
      "check       2\n",
      "call        2\n",
      "service     2\n",
      "hours       2\n",
      "want        2\n",
      "support     1\n",
      "Name: count, dtype: int64\n",
      "--------------\n",
      "\n",
      "SHIPPING\n",
      "address        10\n",
      "delivery        5\n",
      "shipping        4\n",
      "secondary       2\n",
      "set             2\n",
      "problem         2\n",
      "new             2\n",
      "update          1\n",
      "problems        1\n",
      "information     1\n",
      "Name: count, dtype: int64\n",
      "--------------\n",
      "\n",
      "PAYMENT\n",
      "payment      7\n",
      "need         4\n",
      "help         4\n",
      "methods      4\n",
      "payments     3\n",
      "available    2\n",
      "want         2\n",
      "check        2\n",
      "online       2\n",
      "know         2\n",
      "Name: count, dtype: int64\n",
      "--------------\n",
      "\n",
      "REFUND\n",
      "reimbursement    4\n",
      "refund           4\n",
      "waiting          3\n",
      "see              3\n",
      "status           3\n",
      "currency         2\n",
      "dollars          2\n",
      "restitution      2\n",
      "check            2\n",
      "amount           2\n",
      "Name: count, dtype: int64\n",
      "--------------\n",
      "\n"
     ]
    }
   ],
   "source": [
    "for label in labels:\n",
    "    labelDF = tmpDF[tmpDF['category']==label]\n",
    "    allList = labelDF['instruction_cleaned'].values.tolist()\n",
    "\n",
    "    a = [text.split() for text in allList]\n",
    "    joined_list = [word for sublist in a for word in sublist]\n",
    "\n",
    "    print(label)\n",
    "    print(pd.Series(joined_list).value_counts().head(10))\n",
    "    print('--------------\\n')"
   ]
  },
  {
   "cell_type": "code",
   "execution_count": 149,
   "metadata": {},
   "outputs": [],
   "source": [
    "from snorkel.labeling import labeling_function"
   ]
  },
  {
   "cell_type": "code",
   "execution_count": 150,
   "metadata": {},
   "outputs": [],
   "source": [
    "ABSTAIN = -1\n",
    "ACCOUNT = 0\n",
    "FEEDBACK = 1\n",
    "ORDER = 2"
   ]
  },
  {
   "cell_type": "code",
   "execution_count": 171,
   "metadata": {},
   "outputs": [
    {
     "data": {
      "text/html": [
       "<div>\n",
       "<style scoped>\n",
       "    .dataframe tbody tr th:only-of-type {\n",
       "        vertical-align: middle;\n",
       "    }\n",
       "\n",
       "    .dataframe tbody tr th {\n",
       "        vertical-align: top;\n",
       "    }\n",
       "\n",
       "    .dataframe thead th {\n",
       "        text-align: right;\n",
       "    }\n",
       "</style>\n",
       "<table border=\"1\" class=\"dataframe\">\n",
       "  <thead>\n",
       "    <tr style=\"text-align: right;\">\n",
       "      <th></th>\n",
       "      <th>flags</th>\n",
       "      <th>instruction</th>\n",
       "      <th>category</th>\n",
       "      <th>intent</th>\n",
       "      <th>response</th>\n",
       "      <th>instruction_cleaned</th>\n",
       "    </tr>\n",
       "  </thead>\n",
       "  <tbody>\n",
       "    <tr>\n",
       "      <th>0</th>\n",
       "      <td>BKL</td>\n",
       "      <td>cancelling {{Account Category}} account</td>\n",
       "      <td>ACCOUNT</td>\n",
       "      <td>delete_account</td>\n",
       "      <td>I appreciate you reaching out to us regarding ...</td>\n",
       "      <td>cancelling account</td>\n",
       "    </tr>\n",
       "    <tr>\n",
       "      <th>1</th>\n",
       "      <td>BIL</td>\n",
       "      <td>where do I make a customer reclamation against...</td>\n",
       "      <td>FEEDBACK</td>\n",
       "      <td>complaint</td>\n",
       "      <td>I sincerely apologize for any inconvenience yo...</td>\n",
       "      <td>make customer reclamation company</td>\n",
       "    </tr>\n",
       "    <tr>\n",
       "      <th>2</th>\n",
       "      <td>BLQ</td>\n",
       "      <td>i want assistance to swap something of purchas...</td>\n",
       "      <td>ORDER</td>\n",
       "      <td>change_order</td>\n",
       "      <td>We appreciate your request to swap an item in ...</td>\n",
       "      <td>want assistance swap something purchase order ...</td>\n",
       "    </tr>\n",
       "    <tr>\n",
       "      <th>3</th>\n",
       "      <td>BLQ</td>\n",
       "      <td>help to file a complaint against ur company</td>\n",
       "      <td>FEEDBACK</td>\n",
       "      <td>complaint</td>\n",
       "      <td>I deeply regret any negative experience you've...</td>\n",
       "      <td>help file complaint ur company</td>\n",
       "    </tr>\n",
       "    <tr>\n",
       "      <th>4</th>\n",
       "      <td>BILQ</td>\n",
       "      <td>how can I reset my profile pass?</td>\n",
       "      <td>ACCOUNT</td>\n",
       "      <td>recover_password</td>\n",
       "      <td>I'm happy to help! I'm here to shed light on r...</td>\n",
       "      <td>reset profile pass</td>\n",
       "    </tr>\n",
       "  </tbody>\n",
       "</table>\n",
       "</div>"
      ],
      "text/plain": [
       "  flags                                        instruction  category  \\\n",
       "0   BKL            cancelling {{Account Category}} account   ACCOUNT   \n",
       "1   BIL  where do I make a customer reclamation against...  FEEDBACK   \n",
       "2   BLQ  i want assistance to swap something of purchas...     ORDER   \n",
       "3   BLQ        help to file a complaint against ur company  FEEDBACK   \n",
       "4  BILQ                   how can I reset my profile pass?   ACCOUNT   \n",
       "\n",
       "             intent                                           response  \\\n",
       "0    delete_account  I appreciate you reaching out to us regarding ...   \n",
       "1         complaint  I sincerely apologize for any inconvenience yo...   \n",
       "2      change_order  We appreciate your request to swap an item in ...   \n",
       "3         complaint  I deeply regret any negative experience you've...   \n",
       "4  recover_password  I'm happy to help! I'm here to shed light on r...   \n",
       "\n",
       "                                 instruction_cleaned  \n",
       "0                                 cancelling account  \n",
       "1                  make customer reclamation company  \n",
       "2  want assistance swap something purchase order ...  \n",
       "3                     help file complaint ur company  \n",
       "4                                 reset profile pass  "
      ]
     },
     "execution_count": 171,
     "metadata": {},
     "output_type": "execute_result"
    }
   ],
   "source": [
    "tmpDF2 = tmpDF[tmpDF.category.isin(['ACCOUNT', 'FEEDBACK', 'ORDER'])].reset_index(drop=True)\n",
    "tmpDF2.head()"
   ]
  },
  {
   "cell_type": "code",
   "execution_count": 172,
   "metadata": {},
   "outputs": [],
   "source": [
    "# Define the labeling function for account\n",
    "@labeling_function()\n",
    "def check_account(x):\n",
    "    text = x.text.lower()\n",
    "    strings = [\"account\", \"reset\", \"profile\", \"report\", \"sign\", \"problems\"]\n",
    "    for string in strings:\n",
    "        if string in text:\n",
    "            return ACCOUNT\n",
    "    return ABSTAIN\n",
    "\n",
    "\n",
    "# Define the labeling function for feedback\n",
    "@labeling_function()\n",
    "def check_feedback(x):\n",
    "    text = x.text.lower()\n",
    "    strings = [\"help\", \"feedback\", \"make\", \"reclamation\", \"company\", \"need\", \"complaint\", \"customer\"]\n",
    "    for string in strings:\n",
    "        if string in text:\n",
    "            return FEEDBACK\n",
    "    return ABSTAIN\n",
    "\n",
    "\n",
    "# Define the labeling function for feedback\n",
    "@labeling_function()\n",
    "def check_order(x):\n",
    "    text = x.text.lower()\n",
    "    strings = [\"order\", \"number\", \"purchase\", \"want\", \"status\", \"help\", \"cancel\", \"assistance\", \"seeing\", \"swap\"]\n",
    "    for string in strings:\n",
    "        if string in text:\n",
    "            return ORDER\n",
    "    return ABSTAIN"
   ]
  },
  {
   "cell_type": "code",
   "execution_count": 179,
   "metadata": {},
   "outputs": [
    {
     "data": {
      "text/html": [
       "<div>\n",
       "<style scoped>\n",
       "    .dataframe tbody tr th:only-of-type {\n",
       "        vertical-align: middle;\n",
       "    }\n",
       "\n",
       "    .dataframe tbody tr th {\n",
       "        vertical-align: top;\n",
       "    }\n",
       "\n",
       "    .dataframe thead th {\n",
       "        text-align: right;\n",
       "    }\n",
       "</style>\n",
       "<table border=\"1\" class=\"dataframe\">\n",
       "  <thead>\n",
       "    <tr style=\"text-align: right;\">\n",
       "      <th></th>\n",
       "      <th>text</th>\n",
       "      <th>label</th>\n",
       "    </tr>\n",
       "  </thead>\n",
       "  <tbody>\n",
       "    <tr>\n",
       "      <th>0</th>\n",
       "      <td>cancelling account</td>\n",
       "      <td>ACCOUNT</td>\n",
       "    </tr>\n",
       "    <tr>\n",
       "      <th>1</th>\n",
       "      <td>make customer reclamation company</td>\n",
       "      <td>FEEDBACK</td>\n",
       "    </tr>\n",
       "    <tr>\n",
       "      <th>2</th>\n",
       "      <td>want assistance swap something purchase order ...</td>\n",
       "      <td>ORDER</td>\n",
       "    </tr>\n",
       "    <tr>\n",
       "      <th>3</th>\n",
       "      <td>help file complaint ur company</td>\n",
       "      <td>FEEDBACK</td>\n",
       "    </tr>\n",
       "    <tr>\n",
       "      <th>4</th>\n",
       "      <td>reset profile pass</td>\n",
       "      <td>ACCOUNT</td>\n",
       "    </tr>\n",
       "  </tbody>\n",
       "</table>\n",
       "</div>"
      ],
      "text/plain": [
       "                                                text     label\n",
       "0                                 cancelling account   ACCOUNT\n",
       "1                  make customer reclamation company  FEEDBACK\n",
       "2  want assistance swap something purchase order ...     ORDER\n",
       "3                     help file complaint ur company  FEEDBACK\n",
       "4                                 reset profile pass   ACCOUNT"
      ]
     },
     "execution_count": 179,
     "metadata": {},
     "output_type": "execute_result"
    }
   ],
   "source": [
    "df_train = tmpDF2[['instruction_cleaned', 'category']].copy()\n",
    "df_train.rename(columns={'instruction_cleaned': 'text', 'category': 'label'}, inplace=True)\n",
    "df_train.head()"
   ]
  },
  {
   "cell_type": "code",
   "execution_count": 180,
   "metadata": {},
   "outputs": [
    {
     "name": "stderr",
     "output_type": "stream",
     "text": [
      "100%|██████████| 30/30 [00:00<00:00, 3449.74it/s]\n"
     ]
    }
   ],
   "source": [
    "from snorkel.labeling import PandasLFApplier\n",
    "\n",
    "lfs = [check_account, check_feedback, check_order]\n",
    "\n",
    "applier = PandasLFApplier(lfs=lfs)\n",
    "L_train = applier.apply(df=df_train)"
   ]
  },
  {
   "cell_type": "code",
   "execution_count": 181,
   "metadata": {},
   "outputs": [
    {
     "data": {
      "text/plain": [
       "array([[ 0, -1,  2],\n",
       "       [-1,  1, -1],\n",
       "       [-1, -1,  2],\n",
       "       [-1,  1,  2],\n",
       "       [ 0, -1, -1],\n",
       "       [-1,  1,  2],\n",
       "       [-1, -1,  2],\n",
       "       [-1,  1,  2],\n",
       "       [-1, -1,  2],\n",
       "       [-1,  1,  2],\n",
       "       [-1,  1, -1],\n",
       "       [-1,  1, -1],\n",
       "       [ 0, -1, -1],\n",
       "       [-1, -1, -1],\n",
       "       [-1,  1,  2],\n",
       "       [-1, -1,  2],\n",
       "       [ 0, -1, -1],\n",
       "       [-1, -1,  2],\n",
       "       [-1,  1,  2],\n",
       "       [-1,  1, -1],\n",
       "       [-1,  1, -1],\n",
       "       [ 0, -1, -1],\n",
       "       [-1,  1,  2],\n",
       "       [-1, -1,  2],\n",
       "       [-1,  1,  2],\n",
       "       [ 0, -1, -1],\n",
       "       [-1, -1,  2],\n",
       "       [ 0,  1,  2],\n",
       "       [ 0,  1, -1],\n",
       "       [ 0, -1, -1]])"
      ]
     },
     "execution_count": 181,
     "metadata": {},
     "output_type": "execute_result"
    }
   ],
   "source": [
    "L_train"
   ]
  },
  {
   "cell_type": "code",
   "execution_count": 182,
   "metadata": {},
   "outputs": [
    {
     "data": {
      "text/plain": [
       "array([2, 1, 2, 2, 0, 2, 2, 2, 2, 2, 1, 1, 0, 0, 2, 2, 0, 2, 2, 1, 1, 0,\n",
       "       2, 2, 2, 0, 2, 2, 1, 0])"
      ]
     },
     "execution_count": 182,
     "metadata": {},
     "output_type": "execute_result"
    }
   ],
   "source": [
    "np.argmax(L_train, axis=1)"
   ]
  },
  {
   "cell_type": "code",
   "execution_count": 190,
   "metadata": {},
   "outputs": [
    {
     "data": {
      "text/html": [
       "<div>\n",
       "<style scoped>\n",
       "    .dataframe tbody tr th:only-of-type {\n",
       "        vertical-align: middle;\n",
       "    }\n",
       "\n",
       "    .dataframe tbody tr th {\n",
       "        vertical-align: top;\n",
       "    }\n",
       "\n",
       "    .dataframe thead th {\n",
       "        text-align: right;\n",
       "    }\n",
       "</style>\n",
       "<table border=\"1\" class=\"dataframe\">\n",
       "  <thead>\n",
       "    <tr style=\"text-align: right;\">\n",
       "      <th></th>\n",
       "      <th>text</th>\n",
       "      <th>label</th>\n",
       "    </tr>\n",
       "  </thead>\n",
       "  <tbody>\n",
       "    <tr>\n",
       "      <th>0</th>\n",
       "      <td>cancelling account</td>\n",
       "      <td>ACCOUNT</td>\n",
       "    </tr>\n",
       "    <tr>\n",
       "      <th>1</th>\n",
       "      <td>make customer reclamation company</td>\n",
       "      <td>FEEDBACK</td>\n",
       "    </tr>\n",
       "    <tr>\n",
       "      <th>2</th>\n",
       "      <td>want assistance swap something purchase order ...</td>\n",
       "      <td>ORDER</td>\n",
       "    </tr>\n",
       "    <tr>\n",
       "      <th>3</th>\n",
       "      <td>help file complaint ur company</td>\n",
       "      <td>FEEDBACK</td>\n",
       "    </tr>\n",
       "    <tr>\n",
       "      <th>4</th>\n",
       "      <td>reset profile pass</td>\n",
       "      <td>ACCOUNT</td>\n",
       "    </tr>\n",
       "    <tr>\n",
       "      <th>5</th>\n",
       "      <td>help lodge customer reclamation</td>\n",
       "      <td>FEEDBACK</td>\n",
       "    </tr>\n",
       "    <tr>\n",
       "      <th>6</th>\n",
       "      <td>cannot poay purchase order number</td>\n",
       "      <td>ORDER</td>\n",
       "    </tr>\n",
       "    <tr>\n",
       "      <th>7</th>\n",
       "      <td>need assistance sending feedback service</td>\n",
       "      <td>FEEDBACK</td>\n",
       "    </tr>\n",
       "    <tr>\n",
       "      <th>8</th>\n",
       "      <td>want assistance acquiring ur article</td>\n",
       "      <td>ORDER</td>\n",
       "    </tr>\n",
       "    <tr>\n",
       "      <th>9</th>\n",
       "      <td>need help send feedback product</td>\n",
       "      <td>FEEDBACK</td>\n",
       "    </tr>\n",
       "    <tr>\n",
       "      <th>10</th>\n",
       "      <td>call leave feedback services</td>\n",
       "      <td>FEEDBACK</td>\n",
       "    </tr>\n",
       "    <tr>\n",
       "      <th>11</th>\n",
       "      <td>need file complaint business</td>\n",
       "      <td>FEEDBACK</td>\n",
       "    </tr>\n",
       "    <tr>\n",
       "      <th>12</th>\n",
       "      <td>report sign problems</td>\n",
       "      <td>ACCOUNT</td>\n",
       "    </tr>\n",
       "    <tr>\n",
       "      <th>13</th>\n",
       "      <td>remove accoint</td>\n",
       "      <td>ACCOUNT</td>\n",
       "    </tr>\n",
       "    <tr>\n",
       "      <th>14</th>\n",
       "      <td>need help seeing purchase status</td>\n",
       "      <td>ORDER</td>\n",
       "    </tr>\n",
       "    <tr>\n",
       "      <th>15</th>\n",
       "      <td>see status purchae order number</td>\n",
       "      <td>ORDER</td>\n",
       "    </tr>\n",
       "    <tr>\n",
       "      <th>16</th>\n",
       "      <td>forgot account password reset</td>\n",
       "      <td>ACCOUNT</td>\n",
       "    </tr>\n",
       "    <tr>\n",
       "      <th>17</th>\n",
       "      <td>seeing order current status</td>\n",
       "      <td>ORDER</td>\n",
       "    </tr>\n",
       "    <tr>\n",
       "      <th>18</th>\n",
       "      <td>shop product help</td>\n",
       "      <td>ORDER</td>\n",
       "    </tr>\n",
       "    <tr>\n",
       "      <th>19</th>\n",
       "      <td>make reclamation</td>\n",
       "      <td>FEEDBACK</td>\n",
       "    </tr>\n",
       "    <tr>\n",
       "      <th>20</th>\n",
       "      <td>send feedback ur company</td>\n",
       "      <td>FEEDBACK</td>\n",
       "    </tr>\n",
       "    <tr>\n",
       "      <th>21</th>\n",
       "      <td>modify information freemium account</td>\n",
       "      <td>ACCOUNT</td>\n",
       "    </tr>\n",
       "    <tr>\n",
       "      <th>22</th>\n",
       "      <td>want item help cancel purchase order number</td>\n",
       "      <td>ORDER</td>\n",
       "    </tr>\n",
       "    <tr>\n",
       "      <th>23</th>\n",
       "      <td>swap several items purchase order number</td>\n",
       "      <td>ORDER</td>\n",
       "    </tr>\n",
       "    <tr>\n",
       "      <th>24</th>\n",
       "      <td>help make claim compay</td>\n",
       "      <td>FEEDBACK</td>\n",
       "    </tr>\n",
       "    <tr>\n",
       "      <th>25</th>\n",
       "      <td>problems deletion account</td>\n",
       "      <td>ACCOUNT</td>\n",
       "    </tr>\n",
       "    <tr>\n",
       "      <th>26</th>\n",
       "      <td>could cancel purchase order number</td>\n",
       "      <td>ORDER</td>\n",
       "    </tr>\n",
       "    <tr>\n",
       "      <th>27</th>\n",
       "      <td>want help recovering access key profile</td>\n",
       "      <td>ACCOUNT</td>\n",
       "    </tr>\n",
       "    <tr>\n",
       "      <th>28</th>\n",
       "      <td>need change gold account</td>\n",
       "      <td>ACCOUNT</td>\n",
       "    </tr>\n",
       "    <tr>\n",
       "      <th>29</th>\n",
       "      <td>report issues sign</td>\n",
       "      <td>ACCOUNT</td>\n",
       "    </tr>\n",
       "  </tbody>\n",
       "</table>\n",
       "</div>"
      ],
      "text/plain": [
       "                                                 text     label\n",
       "0                                  cancelling account   ACCOUNT\n",
       "1                   make customer reclamation company  FEEDBACK\n",
       "2   want assistance swap something purchase order ...     ORDER\n",
       "3                      help file complaint ur company  FEEDBACK\n",
       "4                                  reset profile pass   ACCOUNT\n",
       "5                     help lodge customer reclamation  FEEDBACK\n",
       "6                   cannot poay purchase order number     ORDER\n",
       "7            need assistance sending feedback service  FEEDBACK\n",
       "8                want assistance acquiring ur article     ORDER\n",
       "9                     need help send feedback product  FEEDBACK\n",
       "10                       call leave feedback services  FEEDBACK\n",
       "11                       need file complaint business  FEEDBACK\n",
       "12                               report sign problems   ACCOUNT\n",
       "13                                     remove accoint   ACCOUNT\n",
       "14                   need help seeing purchase status     ORDER\n",
       "15                    see status purchae order number     ORDER\n",
       "16                      forgot account password reset   ACCOUNT\n",
       "17                        seeing order current status     ORDER\n",
       "18                                  shop product help     ORDER\n",
       "19                                   make reclamation  FEEDBACK\n",
       "20                           send feedback ur company  FEEDBACK\n",
       "21                modify information freemium account   ACCOUNT\n",
       "22        want item help cancel purchase order number     ORDER\n",
       "23           swap several items purchase order number     ORDER\n",
       "24                             help make claim compay  FEEDBACK\n",
       "25                          problems deletion account   ACCOUNT\n",
       "26                 could cancel purchase order number     ORDER\n",
       "27            want help recovering access key profile   ACCOUNT\n",
       "28                           need change gold account   ACCOUNT\n",
       "29                                 report issues sign   ACCOUNT"
      ]
     },
     "execution_count": 190,
     "metadata": {},
     "output_type": "execute_result"
    }
   ],
   "source": [
    "df_train"
   ]
  },
  {
   "cell_type": "code",
   "execution_count": null,
   "metadata": {},
   "outputs": [],
   "source": []
  }
 ],
 "metadata": {
  "kernelspec": {
   "display_name": "llm_env",
   "language": "python",
   "name": "python3"
  },
  "language_info": {
   "codemirror_mode": {
    "name": "ipython",
    "version": 3
   },
   "file_extension": ".py",
   "mimetype": "text/x-python",
   "name": "python",
   "nbconvert_exporter": "python",
   "pygments_lexer": "ipython3",
   "version": "3.12.3"
  }
 },
 "nbformat": 4,
 "nbformat_minor": 2
}
