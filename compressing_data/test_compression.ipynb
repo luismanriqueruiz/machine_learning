{
 "cells": [
  {
   "cell_type": "markdown",
   "id": "58ca2dc3",
   "metadata": {},
   "source": [
    "# Compressing table data as video\n",
    "\n",
    "## Loading packages"
   ]
  },
  {
   "cell_type": "code",
   "execution_count": 1,
   "id": "ea50aac8",
   "metadata": {},
   "outputs": [],
   "source": [
    "import numpy as np\n",
    "from PIL import Image\n",
    "import pandas as pd\n",
    "import os"
   ]
  },
  {
   "cell_type": "code",
   "execution_count": 2,
   "id": "e6f5f389",
   "metadata": {},
   "outputs": [],
   "source": [
    "# head -n 1000 \"cosmetics_all_data.csv\" > \"1000lines.csv\""
   ]
  },
  {
   "cell_type": "code",
   "execution_count": 6,
   "id": "7a37afaa",
   "metadata": {},
   "outputs": [
    {
     "name": "stdout",
     "output_type": "stream",
     "text": [
      "Created 1154 image frames.\n"
     ]
    }
   ],
   "source": [
    "def csv_to_images(csv_path, chunk_size=1024):\n",
    "    # Read CSV as raw bytes\n",
    "    with open(csv_path, 'rb') as f:\n",
    "        data = f.read()\n",
    "\n",
    "    os.makedirs('images', exist_ok=True)\n",
    "    total_chunks = (len(data) + chunk_size - 1) // chunk_size\n",
    "\n",
    "    for i in range(total_chunks):\n",
    "        chunk = data[i*chunk_size:(i+1)*chunk_size]\n",
    "        # Pad chunk to square size\n",
    "        length = len(chunk)\n",
    "        side = int(np.ceil(np.sqrt(length)))\n",
    "        padded = chunk + bytes(side*side - length)  # pad with zeros\n",
    "\n",
    "        arr = np.frombuffer(padded, dtype=np.uint8).reshape((side, side))\n",
    "        img = Image.fromarray(arr, mode='L')\n",
    "        img.save(f'images/frame_{i:04d}.png')\n",
    "\n",
    "    print(f\"Created {total_chunks} image frames.\")\n",
    "\n",
    "csv_to_images('10000lines.csv', chunk_size=1024)"
   ]
  },
  {
   "cell_type": "code",
   "execution_count": null,
   "id": "52017f5c",
   "metadata": {},
   "outputs": [],
   "source": [
    "# ffmpeg -framerate 10 -i images/frame_%04d.png -c:v libx264 -preset veryslow -crf 0 output.mkv\n",
    "\n",
    "# mkdir frames_out"
   ]
  },
  {
   "cell_type": "code",
   "execution_count": 7,
   "id": "a9ff9bc9",
   "metadata": {},
   "outputs": [],
   "source": [
    "def images_to_csv(output_csv_path, frames_folder='frames_out'):\n",
    "    import glob\n",
    "\n",
    "    images = sorted(glob.glob(f'{frames_folder}/frame_*.png'))\n",
    "    all_bytes = bytearray()\n",
    "\n",
    "    for img_path in images:\n",
    "        img = Image.open(img_path).convert('L')\n",
    "        arr = np.array(img)\n",
    "        all_bytes.extend(arr.flatten().tobytes())\n",
    "\n",
    "    # Trim trailing zeros if you know original size or keep as is\n",
    "    with open(output_csv_path, 'wb') as f_out:\n",
    "        f_out.write(all_bytes)\n",
    "\n",
    "images_to_csv('reconstructed.csv', 'images')"
   ]
  }
 ],
 "metadata": {
  "kernelspec": {
   "display_name": "zanalytics",
   "language": "python",
   "name": "python3"
  },
  "language_info": {
   "codemirror_mode": {
    "name": "ipython",
    "version": 3
   },
   "file_extension": ".py",
   "mimetype": "text/x-python",
   "name": "python",
   "nbconvert_exporter": "python",
   "pygments_lexer": "ipython3",
   "version": "3.12.6"
  }
 },
 "nbformat": 4,
 "nbformat_minor": 5
}
