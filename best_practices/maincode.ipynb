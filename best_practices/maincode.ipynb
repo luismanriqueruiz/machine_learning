{
 "cells": [
  {
   "cell_type": "markdown",
   "id": "2e067826",
   "metadata": {},
   "source": [
    "# Configuration files using yaml\n",
    "\n",
    "Based on [this](https://github.com/amitvkulkarni/Reproducible-ML-Reports-with-YAML-Configs/blob/main/notebook.ipynb) approach\n",
    "\n",
    "## Loading libraries\n"
   ]
  },
  {
   "cell_type": "code",
   "execution_count": 3,
   "id": "ee7e716d",
   "metadata": {},
   "outputs": [],
   "source": [
    "import yaml\n",
    "import os"
   ]
  },
  {
   "cell_type": "markdown",
   "id": "09d00d53",
   "metadata": {},
   "source": [
    "## Loading config file"
   ]
  },
  {
   "cell_type": "code",
   "execution_count": 4,
   "id": "0d634906",
   "metadata": {},
   "outputs": [
    {
     "name": "stdout",
     "output_type": "stream",
     "text": [
      "{'data_directory': './Data/', 'data_name': 'breast-cancer-wisconsin.csv', 'drop_columns': ['id', 'Unnamed: 32'], 'target_name': 'diagnosis', 'test_size': 0.3, 'random_state': 123, 'model_directory': './Model', 'model_name': 'KNN_classifier.pkl', 'n_neighbors': 3, 'weights': 'uniform', 'algorithm': 'auto', 'leaf_size': 15, 'p': 2, 'metric': 'minkowski', 'n_jobs': 1}\n"
     ]
    }
   ],
   "source": [
    "# folder to load config file\n",
    "CONFIG_PATH = \"./\"\n",
    "\n",
    "# Function to load yaml configuration file\n",
    "def load_config(config_name):\n",
    "    with open(os.path.join(CONFIG_PATH, config_name)) as file:\n",
    "        config = yaml.safe_load(file)\n",
    "\n",
    "    return config\n",
    "\n",
    "\n",
    "config = load_config(\"config.yaml\")\n",
    "print(config)"
   ]
  },
  {
   "cell_type": "markdown",
   "id": "8295ebc2",
   "metadata": {},
   "source": [
    "## Loading libraries"
   ]
  },
  {
   "cell_type": "code",
   "execution_count": 5,
   "id": "0ac382b7",
   "metadata": {},
   "outputs": [
    {
     "data": {
      "text/plain": [
       "'./Data/'"
      ]
     },
     "execution_count": 5,
     "metadata": {},
     "output_type": "execute_result"
    }
   ],
   "source": [
    "config['data_directory']"
   ]
  },
  {
   "cell_type": "code",
   "execution_count": 6,
   "id": "d3b81062",
   "metadata": {},
   "outputs": [
    {
     "data": {
      "text/plain": [
       "'breast-cancer-wisconsin.csv'"
      ]
     },
     "execution_count": 6,
     "metadata": {},
     "output_type": "execute_result"
    }
   ],
   "source": [
    "config['data_name']"
   ]
  },
  {
   "cell_type": "code",
   "execution_count": 7,
   "id": "54abd965",
   "metadata": {},
   "outputs": [
    {
     "data": {
      "text/plain": [
       "['id', 'Unnamed: 32']"
      ]
     },
     "execution_count": 7,
     "metadata": {},
     "output_type": "execute_result"
    }
   ],
   "source": [
    "config['drop_columns']"
   ]
  },
  {
   "cell_type": "code",
   "execution_count": 8,
   "id": "e99d5a3d",
   "metadata": {},
   "outputs": [
    {
     "data": {
      "text/plain": [
       "'diagnosis'"
      ]
     },
     "execution_count": 8,
     "metadata": {},
     "output_type": "execute_result"
    }
   ],
   "source": [
    "config['target_name']"
   ]
  },
  {
   "cell_type": "code",
   "execution_count": 9,
   "id": "b3eb35d3",
   "metadata": {},
   "outputs": [
    {
     "data": {
      "text/plain": [
       "0.3"
      ]
     },
     "execution_count": 9,
     "metadata": {},
     "output_type": "execute_result"
    }
   ],
   "source": [
    "config['test_size']"
   ]
  },
  {
   "cell_type": "code",
   "execution_count": 10,
   "id": "85baf85f",
   "metadata": {},
   "outputs": [
    {
     "data": {
      "text/plain": [
       "123"
      ]
     },
     "execution_count": 10,
     "metadata": {},
     "output_type": "execute_result"
    }
   ],
   "source": [
    "config['random_state']"
   ]
  },
  {
   "cell_type": "code",
   "execution_count": 11,
   "id": "9c60ccd0",
   "metadata": {},
   "outputs": [
    {
     "data": {
      "text/plain": [
       "'./Model'"
      ]
     },
     "execution_count": 11,
     "metadata": {},
     "output_type": "execute_result"
    }
   ],
   "source": [
    "config['model_directory']"
   ]
  },
  {
   "cell_type": "code",
   "execution_count": 12,
   "id": "e22e2127",
   "metadata": {},
   "outputs": [
    {
     "data": {
      "text/plain": [
       "'KNN_classifier.pkl'"
      ]
     },
     "execution_count": 12,
     "metadata": {},
     "output_type": "execute_result"
    }
   ],
   "source": [
    "config['model_name']"
   ]
  },
  {
   "cell_type": "code",
   "execution_count": 13,
   "id": "4f50ebc3",
   "metadata": {},
   "outputs": [
    {
     "data": {
      "text/plain": [
       "3"
      ]
     },
     "execution_count": 13,
     "metadata": {},
     "output_type": "execute_result"
    }
   ],
   "source": [
    "config['n_neighbors']"
   ]
  },
  {
   "cell_type": "code",
   "execution_count": null,
   "id": "0c3af68c",
   "metadata": {},
   "outputs": [],
   "source": []
  }
 ],
 "metadata": {
  "kernelspec": {
   "display_name": "zanalytics",
   "language": "python",
   "name": "python3"
  },
  "language_info": {
   "codemirror_mode": {
    "name": "ipython",
    "version": 3
   },
   "file_extension": ".py",
   "mimetype": "text/x-python",
   "name": "python",
   "nbconvert_exporter": "python",
   "pygments_lexer": "ipython3",
   "version": "3.12.6"
  }
 },
 "nbformat": 4,
 "nbformat_minor": 5
}
