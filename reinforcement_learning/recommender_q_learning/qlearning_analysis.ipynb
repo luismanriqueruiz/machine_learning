{
 "cells": [
  {
   "cell_type": "markdown",
   "metadata": {},
   "source": [
    "# Q learning\n",
    "\n",
    "## data preprocessing"
   ]
  },
  {
   "cell_type": "code",
   "execution_count": 11,
   "metadata": {},
   "outputs": [],
   "source": [
    "import pandas as pd\n",
    "import numpy as np\n",
    "from tqdm import tqdm\n",
    "import pickle\n",
    "import matplotlib.pyplot as plt\n",
    "import seaborn as sns"
   ]
  },
  {
   "cell_type": "code",
   "execution_count": 2,
   "metadata": {},
   "outputs": [],
   "source": [
    "# Load the data\n",
    "df_or = pd.read_csv(\"ecommerce_sessions.csv\")\n",
    "\n",
    "df_or['tv_size_char'] = pd.cut(df_or['tv_size'], bins=3, labels=['small', 'medium', 'large'])\n",
    "df_or['tv_price_char'] = pd.qcut(df_or['price'], q=3, labels=['cheap', 'medium', 'expensive'])\n",
    "\n",
    "# Define the states as a combination of features\n",
    "df_or['state'] = df_or[['tv_size_char', 'brand', 'resolution', 'tv_price_char']].apply(tuple, axis=1)\n",
    "\n",
    "# Map actions to numerical values\n",
    "action_map = {'view': 0, 'click': 1, 'purchase': 2}\n",
    "df_or['action'] = df_or['action'].map(action_map)\n",
    "\n",
    "# Assign rewards\n",
    "reward_map = {0: 0, 1: 0, 2: 1}  # Only purchase gives a positive reward\n",
    "df_or['reward'] = df_or['action'].map(reward_map)"
   ]
  },
  {
   "cell_type": "code",
   "execution_count": 3,
   "metadata": {},
   "outputs": [
    {
     "data": {
      "text/html": [
       "<div>\n",
       "<style scoped>\n",
       "    .dataframe tbody tr th:only-of-type {\n",
       "        vertical-align: middle;\n",
       "    }\n",
       "\n",
       "    .dataframe tbody tr th {\n",
       "        vertical-align: top;\n",
       "    }\n",
       "\n",
       "    .dataframe thead th {\n",
       "        text-align: right;\n",
       "    }\n",
       "</style>\n",
       "<table border=\"1\" class=\"dataframe\">\n",
       "  <thead>\n",
       "    <tr style=\"text-align: right;\">\n",
       "      <th></th>\n",
       "      <th>session_id</th>\n",
       "      <th>user_id</th>\n",
       "      <th>tv_size</th>\n",
       "      <th>brand</th>\n",
       "      <th>resolution</th>\n",
       "      <th>price</th>\n",
       "      <th>action</th>\n",
       "      <th>timestamp</th>\n",
       "      <th>tv_size_char</th>\n",
       "      <th>tv_price_char</th>\n",
       "      <th>state</th>\n",
       "      <th>reward</th>\n",
       "    </tr>\n",
       "  </thead>\n",
       "  <tbody>\n",
       "    <tr>\n",
       "      <th>0</th>\n",
       "      <td>1</td>\n",
       "      <td>487</td>\n",
       "      <td>55</td>\n",
       "      <td>BrandA</td>\n",
       "      <td>Full HD</td>\n",
       "      <td>1910</td>\n",
       "      <td>0</td>\n",
       "      <td>2024-11-04 03:00:04.497455</td>\n",
       "      <td>medium</td>\n",
       "      <td>expensive</td>\n",
       "      <td>(medium, BrandA, Full HD, expensive)</td>\n",
       "      <td>0</td>\n",
       "    </tr>\n",
       "    <tr>\n",
       "      <th>1</th>\n",
       "      <td>2</td>\n",
       "      <td>716</td>\n",
       "      <td>40</td>\n",
       "      <td>BrandA</td>\n",
       "      <td>HD</td>\n",
       "      <td>1220</td>\n",
       "      <td>2</td>\n",
       "      <td>2024-11-04 19:35:04.498923</td>\n",
       "      <td>small</td>\n",
       "      <td>expensive</td>\n",
       "      <td>(small, BrandA, HD, expensive)</td>\n",
       "      <td>1</td>\n",
       "    </tr>\n",
       "    <tr>\n",
       "      <th>2</th>\n",
       "      <td>3</td>\n",
       "      <td>1619</td>\n",
       "      <td>75</td>\n",
       "      <td>BrandA</td>\n",
       "      <td>HD</td>\n",
       "      <td>391</td>\n",
       "      <td>0</td>\n",
       "      <td>2024-11-24 23:11:04.499107</td>\n",
       "      <td>large</td>\n",
       "      <td>cheap</td>\n",
       "      <td>(large, BrandA, HD, cheap)</td>\n",
       "      <td>0</td>\n",
       "    </tr>\n",
       "    <tr>\n",
       "      <th>3</th>\n",
       "      <td>4</td>\n",
       "      <td>1173</td>\n",
       "      <td>65</td>\n",
       "      <td>BrandD</td>\n",
       "      <td>Full HD</td>\n",
       "      <td>307</td>\n",
       "      <td>1</td>\n",
       "      <td>2024-11-08 09:46:04.499286</td>\n",
       "      <td>large</td>\n",
       "      <td>cheap</td>\n",
       "      <td>(large, BrandD, Full HD, cheap)</td>\n",
       "      <td>0</td>\n",
       "    </tr>\n",
       "    <tr>\n",
       "      <th>4</th>\n",
       "      <td>5</td>\n",
       "      <td>1377</td>\n",
       "      <td>65</td>\n",
       "      <td>BrandD</td>\n",
       "      <td>4K</td>\n",
       "      <td>577</td>\n",
       "      <td>1</td>\n",
       "      <td>2024-11-19 16:20:04.499444</td>\n",
       "      <td>large</td>\n",
       "      <td>medium</td>\n",
       "      <td>(large, BrandD, 4K, medium)</td>\n",
       "      <td>0</td>\n",
       "    </tr>\n",
       "  </tbody>\n",
       "</table>\n",
       "</div>"
      ],
      "text/plain": [
       "   session_id  user_id  tv_size   brand resolution  price  action  \\\n",
       "0           1      487       55  BrandA    Full HD   1910       0   \n",
       "1           2      716       40  BrandA         HD   1220       2   \n",
       "2           3     1619       75  BrandA         HD    391       0   \n",
       "3           4     1173       65  BrandD    Full HD    307       1   \n",
       "4           5     1377       65  BrandD         4K    577       1   \n",
       "\n",
       "                    timestamp tv_size_char tv_price_char  \\\n",
       "0  2024-11-04 03:00:04.497455       medium     expensive   \n",
       "1  2024-11-04 19:35:04.498923        small     expensive   \n",
       "2  2024-11-24 23:11:04.499107        large         cheap   \n",
       "3  2024-11-08 09:46:04.499286        large         cheap   \n",
       "4  2024-11-19 16:20:04.499444        large        medium   \n",
       "\n",
       "                                  state  reward  \n",
       "0  (medium, BrandA, Full HD, expensive)       0  \n",
       "1        (small, BrandA, HD, expensive)       1  \n",
       "2            (large, BrandA, HD, cheap)       0  \n",
       "3       (large, BrandD, Full HD, cheap)       0  \n",
       "4           (large, BrandD, 4K, medium)       0  "
      ]
     },
     "metadata": {},
     "output_type": "display_data"
    }
   ],
   "source": [
    "df = df_or.copy()\n",
    "display(df.head())"
   ]
  },
  {
   "cell_type": "code",
   "execution_count": 26,
   "metadata": {},
   "outputs": [
    {
     "data": {
      "text/html": [
       "<div>\n",
       "<style scoped>\n",
       "    .dataframe tbody tr th:only-of-type {\n",
       "        vertical-align: middle;\n",
       "    }\n",
       "\n",
       "    .dataframe tbody tr th {\n",
       "        vertical-align: top;\n",
       "    }\n",
       "\n",
       "    .dataframe thead th {\n",
       "        text-align: right;\n",
       "    }\n",
       "</style>\n",
       "<table border=\"1\" class=\"dataframe\">\n",
       "  <thead>\n",
       "    <tr style=\"text-align: right;\">\n",
       "      <th></th>\n",
       "      <th>tv_size_char</th>\n",
       "      <th>brand</th>\n",
       "      <th>resolution</th>\n",
       "      <th>tv_price_char</th>\n",
       "    </tr>\n",
       "  </thead>\n",
       "  <tbody>\n",
       "    <tr>\n",
       "      <th>0</th>\n",
       "      <td>medium</td>\n",
       "      <td>BrandA</td>\n",
       "      <td>Full HD</td>\n",
       "      <td>expensive</td>\n",
       "    </tr>\n",
       "    <tr>\n",
       "      <th>1</th>\n",
       "      <td>small</td>\n",
       "      <td>BrandA</td>\n",
       "      <td>HD</td>\n",
       "      <td>expensive</td>\n",
       "    </tr>\n",
       "    <tr>\n",
       "      <th>2</th>\n",
       "      <td>large</td>\n",
       "      <td>BrandA</td>\n",
       "      <td>HD</td>\n",
       "      <td>cheap</td>\n",
       "    </tr>\n",
       "    <tr>\n",
       "      <th>3</th>\n",
       "      <td>large</td>\n",
       "      <td>BrandD</td>\n",
       "      <td>Full HD</td>\n",
       "      <td>cheap</td>\n",
       "    </tr>\n",
       "    <tr>\n",
       "      <th>4</th>\n",
       "      <td>large</td>\n",
       "      <td>BrandD</td>\n",
       "      <td>4K</td>\n",
       "      <td>medium</td>\n",
       "    </tr>\n",
       "    <tr>\n",
       "      <th>...</th>\n",
       "      <td>...</td>\n",
       "      <td>...</td>\n",
       "      <td>...</td>\n",
       "      <td>...</td>\n",
       "    </tr>\n",
       "    <tr>\n",
       "      <th>490</th>\n",
       "      <td>small</td>\n",
       "      <td>BrandC</td>\n",
       "      <td>HD</td>\n",
       "      <td>expensive</td>\n",
       "    </tr>\n",
       "    <tr>\n",
       "      <th>528</th>\n",
       "      <td>large</td>\n",
       "      <td>BrandA</td>\n",
       "      <td>4K</td>\n",
       "      <td>cheap</td>\n",
       "    </tr>\n",
       "    <tr>\n",
       "      <th>624</th>\n",
       "      <td>small</td>\n",
       "      <td>BrandD</td>\n",
       "      <td>8K</td>\n",
       "      <td>medium</td>\n",
       "    </tr>\n",
       "    <tr>\n",
       "      <th>625</th>\n",
       "      <td>small</td>\n",
       "      <td>BrandD</td>\n",
       "      <td>Full HD</td>\n",
       "      <td>cheap</td>\n",
       "    </tr>\n",
       "    <tr>\n",
       "      <th>897</th>\n",
       "      <td>large</td>\n",
       "      <td>BrandC</td>\n",
       "      <td>4K</td>\n",
       "      <td>medium</td>\n",
       "    </tr>\n",
       "  </tbody>\n",
       "</table>\n",
       "<p>144 rows × 4 columns</p>\n",
       "</div>"
      ],
      "text/plain": [
       "    tv_size_char   brand resolution tv_price_char\n",
       "0         medium  BrandA    Full HD     expensive\n",
       "1          small  BrandA         HD     expensive\n",
       "2          large  BrandA         HD         cheap\n",
       "3          large  BrandD    Full HD         cheap\n",
       "4          large  BrandD         4K        medium\n",
       "..           ...     ...        ...           ...\n",
       "490        small  BrandC         HD     expensive\n",
       "528        large  BrandA         4K         cheap\n",
       "624        small  BrandD         8K        medium\n",
       "625        small  BrandD    Full HD         cheap\n",
       "897        large  BrandC         4K        medium\n",
       "\n",
       "[144 rows x 4 columns]"
      ]
     },
     "execution_count": 26,
     "metadata": {},
     "output_type": "execute_result"
    }
   ],
   "source": [
    "df_or[['tv_size_char', 'brand', 'resolution', 'tv_price_char']].drop_duplicates()"
   ]
  },
  {
   "cell_type": "code",
   "execution_count": 4,
   "metadata": {},
   "outputs": [],
   "source": [
    "# Initialize Q-table\n",
    "states = df['state'].unique()\n",
    "actions = [0, 1, 2]  # View, Click, Purchase\n",
    "q_table = {state: {action: 0 for action in actions} for state in states}"
   ]
  },
  {
   "cell_type": "code",
   "execution_count": 5,
   "metadata": {},
   "outputs": [],
   "source": [
    "# Hyperparameters\n",
    "alpha = 0.1  # Learning rate, we can increase it to 0.2\n",
    "gamma = 0.9  # Discount factor\n",
    "epsilon = 0.2  # Exploration rate it could be to 0.2"
   ]
  },
  {
   "cell_type": "code",
   "execution_count": 6,
   "metadata": {},
   "outputs": [
    {
     "name": "stderr",
     "output_type": "stream",
     "text": [
      "100%|██████████| 50000/50000 [02:08<00:00, 388.30it/s]"
     ]
    },
    {
     "name": "stdout",
     "output_type": "stream",
     "text": [
      "State: ('medium', 'BrandA', 'Full HD', 'expensive'), Best Action: 2\n",
      "State: ('small', 'BrandA', 'HD', 'expensive'), Best Action: 0\n",
      "State: ('large', 'BrandA', 'HD', 'cheap'), Best Action: 2\n",
      "State: ('large', 'BrandD', 'Full HD', 'cheap'), Best Action: 2\n",
      "State: ('large', 'BrandD', '4K', 'medium'), Best Action: 2\n"
     ]
    },
    {
     "name": "stderr",
     "output_type": "stream",
     "text": [
      "\n"
     ]
    }
   ],
   "source": [
    "# Simulate episodes\n",
    "\n",
    "# List to store Q-tables at each episode (if you want to track progress)\n",
    "q_table_history = []\n",
    "cumulative_rewards = []\n",
    "\n",
    "for episode in tqdm(range(50000)):\n",
    "    total_reward = 0\n",
    "\n",
    "    # Randomly pick a session\n",
    "    session = df.sample(1).iloc[0]\n",
    "    state = session['state']\n",
    "    action = np.random.choice(actions) if np.random.rand() < epsilon else max(q_table[state], key=q_table[state].get)\n",
    "\n",
    "    reward = session['reward']\n",
    "    total_reward += reward\n",
    "\n",
    "    # To be introduced\n",
    "    #epsilon = max(0.1, epsilon * 0.995)  # Gradually decay epsilon\n",
    "\n",
    "    # Update Q-value\n",
    "    next_state = session['state']  # Assume state transitions are self-contained here\n",
    "    q_table[state][action] = q_table[state][action] + alpha * (\n",
    "        reward + gamma * max(q_table[next_state].values()) - q_table[state][action]\n",
    "    )\n",
    "\n",
    "    # Save Q-table at every 1000th episode (or after each episode if desired)\n",
    "    if episode % 1000 == 0:\n",
    "        q_table_history.append(q_table.copy())  # Save a copy of the Q-table\n",
    "    \n",
    "    # Append the cumulative reward for this episode\n",
    "    cumulative_rewards.append(total_reward) \n",
    "\n",
    "# Inspect learned policy\n",
    "for state, actions in list(q_table.items())[:5]:\n",
    "    print(f\"State: {state}, Best Action: {max(actions, key=actions.get)}\")"
   ]
  },
  {
   "cell_type": "markdown",
   "metadata": {},
   "source": [
    "## Saving matrix"
   ]
  },
  {
   "cell_type": "code",
   "execution_count": 7,
   "metadata": {},
   "outputs": [
    {
     "name": "stdout",
     "output_type": "stream",
     "text": [
      "Q-table history saved.\n",
      "Q-table saved successfully!\n"
     ]
    }
   ],
   "source": [
    "# Optionally save Q-table history to a file\n",
    "with open('q_table_history.pkl', 'wb') as f:\n",
    "    pickle.dump(q_table_history, f)\n",
    "\n",
    "print(\"Q-table history saved.\")\n",
    "\n",
    "\n",
    "# Save Q-table to a file\n",
    "with open(\"q_table.pkl\", \"wb\") as f:\n",
    "    pickle.dump(q_table, f)\n",
    "\n",
    "print(\"Q-table saved successfully!\")"
   ]
  },
  {
   "cell_type": "markdown",
   "metadata": {},
   "source": [
    "## Loading matrix"
   ]
  },
  {
   "cell_type": "code",
   "execution_count": 8,
   "metadata": {},
   "outputs": [
    {
     "name": "stdout",
     "output_type": "stream",
     "text": [
      "Q-table loaded successfully!\n"
     ]
    }
   ],
   "source": [
    "# Load Q-table from a file\n",
    "with open(\"q_table.pkl\", \"rb\") as f:\n",
    "    q_table = pickle.load(f)\n",
    "\n",
    "print(\"Q-table loaded successfully!\")"
   ]
  },
  {
   "cell_type": "markdown",
   "metadata": {},
   "source": [
    "## Verifying loading matrix"
   ]
  },
  {
   "cell_type": "code",
   "execution_count": 9,
   "metadata": {},
   "outputs": [
    {
     "name": "stdout",
     "output_type": "stream",
     "text": [
      "State: ('medium', 'BrandA', 'Full HD', 'expensive'), Actions: {0: 0.6945913473496473, 1: 0.6546682136303579, 2: 0.8931339153629503}\n",
      "State: ('small', 'BrandA', 'HD', 'expensive'), Actions: {0: 0.7100638780191963, 1: 0.3731218443213882, 2: 0.4683997363398336}\n",
      "State: ('large', 'BrandA', 'HD', 'cheap'), Actions: {0: 0.7942709699334491, 1: 0.7443038427385986, 2: 0.9150610399996347}\n",
      "State: ('large', 'BrandD', 'Full HD', 'cheap'), Actions: {0: 0.6247072522562012, 1: 0.5711772322278736, 2: 1.1135838902980462}\n",
      "State: ('large', 'BrandD', '4K', 'medium'), Actions: {0: 0.8578420850993526, 1: 0.6062871086499856, 2: 1.0329170958343556}\n"
     ]
    }
   ],
   "source": [
    "# Print a sample state and its actions\n",
    "for state, actions in list(q_table.items())[:5]:\n",
    "    print(f\"State: {state}, Actions: {actions}\")"
   ]
  },
  {
   "cell_type": "code",
   "execution_count": 10,
   "metadata": {},
   "outputs": [],
   "source": [
    "#q_table_dict = {'view': 0, 'click': 1, 'purchase': 2}\n",
    "q_table_df = pd.DataFrame(list(q_table.items()), columns=['action', 'q_value'])\n",
    "q_table_df.to_csv('q_table.txt', index=False)"
   ]
  },
  {
   "cell_type": "markdown",
   "metadata": {},
   "source": [
    "## Plotting matrix"
   ]
  },
  {
   "cell_type": "code",
   "execution_count": 17,
   "metadata": {},
   "outputs": [
    {
     "data": {
      "image/png": "[encoded data removed]",
      "text/plain": [
       "<Figure size 1500x600 with 1 Axes>"
      ]
     },
     "metadata": {},
     "output_type": "display_data"
    }
   ],
   "source": [
    "# Plot cumulative reward over episodes\n",
    "plt.figure(figsize=(15, 6))\n",
    "plt.plot(range(1, len(cumulative_rewards) + 1), np.cumsum(cumulative_rewards))\n",
    "plt.xlabel('Episodes')\n",
    "plt.ylabel('Cumulative Reward')\n",
    "plt.title('Cumulative Reward During Training')\n",
    "plt.show()"
   ]
  },
  {
   "cell_type": "code",
   "execution_count": 18,
   "metadata": {},
   "outputs": [],
   "source": [
    "# Assuming the Q-table has keys as states and actions, we can plot Q-values\n",
    "episode_numbers = np.arange(0, len(q_table_history) * 1000, 1000)  # Episode numbers at which we saved Q-table\n",
    "\n",
    "# Example: Plotting the Q-values for a specific state-action pair, say ('small', 'BrandC', 'HD', 'medium')\n",
    "specific_state = ('small', 'BrandC', 'HD', 'medium')\n",
    "q_values_for_specific_state = [q_table_history[i][specific_state] for i in range(len(q_table_history))]"
   ]
  },
  {
   "cell_type": "code",
   "execution_count": 19,
   "metadata": {},
   "outputs": [
    {
     "data": {
      "image/png": "[encoded data removed]",
      "text/plain": [
       "<Figure size 1000x600 with 1 Axes>"
      ]
     },
     "metadata": {},
     "output_type": "display_data"
    }
   ],
   "source": [
    "# Plot Q-values for each action (0, 1, 2) for the specific state\n",
    "plt.figure(figsize=(10, 6))\n",
    "actions = [0, 1, 2]  # View, Click, Purchase\n",
    "for action in actions:\n",
    "    plt.plot(episode_numbers, [q_values_for_specific_state[i][action] for i in range(len(q_values_for_specific_state))], label=f'Action {action}')\n",
    "plt.xlabel('Episodes')\n",
    "plt.ylabel('Q-values')\n",
    "plt.title(f\"Q-values for state {specific_state} over training\")\n",
    "plt.legend()\n",
    "plt.grid(True)\n",
    "plt.show()"
   ]
  },
  {
   "cell_type": "code",
   "execution_count": 20,
   "metadata": {},
   "outputs": [
    {
     "data": {
      "image/png": "[encoded data removed]",
      "text/plain": [
       "<Figure size 1000x600 with 2 Axes>"
      ]
     },
     "metadata": {},
     "output_type": "display_data"
    }
   ],
   "source": [
    "# Example: Convert Q-values for a subset of states into a 2D matrix for heatmap\n",
    "state_subset = [('large', 'BrandA', '4K', 'medium'), ('large', 'BrandA', 'Full HD', 'expensive')]  # Subset of states\n",
    "\n",
    "# Extract the Q-values for these states for each action\n",
    "q_values_matrix = np.array([[q_table_history[-1][state][action] for action in [0, 1, 2]] for state in state_subset])\n",
    "\n",
    "# Plot the heatmap\n",
    "plt.figure(figsize=(10, 6))\n",
    "sns.heatmap(q_values_matrix, annot=True, cmap='coolwarm', xticklabels=[\"View\", \"Click\", \"Purchase\"], yticklabels=state_subset)\n",
    "plt.title('Q-values Heatmap for Selected States')\n",
    "plt.xlabel('Actions')\n",
    "plt.ylabel('States')\n",
    "plt.show()"
   ]
  },
  {
   "cell_type": "markdown",
   "metadata": {},
   "source": [
    "## Future recommendations"
   ]
  },
  {
   "cell_type": "code",
   "execution_count": 21,
   "metadata": {},
   "outputs": [
    {
     "data": {
      "text/plain": [
       "('small', 'BrandB', '8K', 'medium')"
      ]
     },
     "execution_count": 21,
     "metadata": {},
     "output_type": "execute_result"
    }
   ],
   "source": [
    "tmp = df[['tv_size_char', 'brand', 'resolution', 'tv_price_char']].drop_duplicates().sample(1).values[0]\n",
    "current_state = tuple(tmp)\n",
    "current_state"
   ]
  },
  {
   "cell_type": "code",
   "execution_count": 22,
   "metadata": {},
   "outputs": [
    {
     "name": "stdout",
     "output_type": "stream",
     "text": [
      "Best action for state ('small', 'BrandB', '8K', 'medium'): 1\n"
     ]
    }
   ],
   "source": [
    "if current_state in q_table:\n",
    "    best_action = max(q_table[current_state], key=q_table[current_state].get)\n",
    "    print(f\"Best action for state {current_state}: {best_action}\")\n",
    "else:\n",
    "    print(f\"State {current_state} not found in Q-table.\")"
   ]
  },
  {
   "cell_type": "markdown",
   "metadata": {},
   "source": [
    "### Handle Unseen States Gracefully"
   ]
  },
  {
   "cell_type": "code",
   "execution_count": 23,
   "metadata": {},
   "outputs": [],
   "source": [
    "action_map_inv = {v: k for k, v in action_map.items()}"
   ]
  },
  {
   "cell_type": "code",
   "execution_count": 24,
   "metadata": {},
   "outputs": [
    {
     "name": "stdout",
     "output_type": "stream",
     "text": [
      "Best action for state ('small', 'BrandB', '8K', 'medium'): click\n"
     ]
    }
   ],
   "source": [
    "if current_state in q_table:\n",
    "    best_action = max(q_table[current_state], key=q_table[current_state].get)\n",
    "else:\n",
    "    best_action = np.random.choice([0, 1, 2])  # Random action as fallback\n",
    "\n",
    "print(f\"Best action for state {current_state}: {action_map_inv[best_action]}\")"
   ]
  },
  {
   "cell_type": "code",
   "execution_count": 25,
   "metadata": {},
   "outputs": [
    {
     "name": "stdout",
     "output_type": "stream",
     "text": [
      "Best action for state ('small', 'BrandB', '8K', 'medium'): click\n"
     ]
    }
   ],
   "source": [
    "if current_state not in q_table:\n",
    "    q_table[current_state] = {0: 0, 1: 0, 2: 0}  # Default Q-values\n",
    "\n",
    "best_action = max(q_table[current_state], key=q_table[current_state].get)\n",
    "print(f\"Best action for state {current_state}: {action_map_inv[best_action]}\")"
   ]
  },
  {
   "cell_type": "code",
   "execution_count": null,
   "metadata": {},
   "outputs": [],
   "source": []
  }
 ],
 "metadata": {
  "kernelspec": {
   "display_name": "zanalytics",
   "language": "python",
   "name": "python3"
  },
  "language_info": {
   "codemirror_mode": {
    "name": "ipython",
    "version": 3
   },
   "file_extension": ".py",
   "mimetype": "text/x-python",
   "name": "python",
   "nbconvert_exporter": "python",
   "pygments_lexer": "ipython3",
   "version": "3.12.6"
  }
 },
 "nbformat": 4,
 "nbformat_minor": 2
}
