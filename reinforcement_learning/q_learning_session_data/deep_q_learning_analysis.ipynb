{
 "cells": [
  {
   "cell_type": "code",
   "execution_count": 1,
   "metadata": {},
   "outputs": [],
   "source": [
    "# env: zanalitycs\n",
    "import pandas as pd\n",
    "import numpy as np\n",
    "from datetime import datetime, timedelta\n",
    "from tqdm import tqdm\n",
    "from glob2 import glob\n",
    "import matplotlib.pyplot as plt"
   ]
  },
  {
   "cell_type": "markdown",
   "metadata": {},
   "source": [
    "## Simulating data"
   ]
  },
  {
   "cell_type": "code",
   "execution_count": 2,
   "metadata": {},
   "outputs": [],
   "source": [
    "# Parameters\n",
    "num_users = 10000\n",
    "states = ['greeting', 'product_inquiry', 'purchase_decision', 'confirm_purchase', 'terminal']\n",
    "actions = ['ask_preferences', 'recommend_product', 'show_discounts', 'confirm_purchase']"
   ]
  },
  {
   "cell_type": "code",
   "execution_count": 3,
   "metadata": {},
   "outputs": [],
   "source": [
    "# Probabilities for transitions\n",
    "state_transitions = {\n",
    "    'greeting': {'product_inquiry': 0.8, 'terminal': 0.2},\n",
    "    'product_inquiry': {'purchase_decision': 0.7, 'terminal': 0.3},\n",
    "    'purchase_decision': {'confirm_purchase': 0.6, 'terminal': 0.4},\n",
    "    'confirm_purchase': {'terminal': 1.0},\n",
    "}"
   ]
  },
  {
   "cell_type": "code",
   "execution_count": 4,
   "metadata": {},
   "outputs": [],
   "source": [
    "# Probabilities for actions per state\n",
    "action_choices = {\n",
    "    'greeting': ['ask_preferences', 'show_discounts'],\n",
    "    'product_inquiry': ['recommend_product'],\n",
    "    'purchase_decision': ['confirm_purchase'],\n",
    "    'confirm_purchase': ['confirm_purchase'],\n",
    "}"
   ]
  },
  {
   "cell_type": "code",
   "execution_count": 5,
   "metadata": {},
   "outputs": [],
   "source": [
    "# Simulate sessions\n",
    "data = []\n",
    "\n",
    "for session_id in range(1, num_users + 1):\n",
    "    state = 'greeting'\n",
    "    timestamp = datetime(2024, 12, 5, 9, 0, 0) + timedelta(minutes=np.random.randint(0, 1440))  # Random start time\n",
    "    converted = 0\n",
    "\n",
    "    while state != 'terminal':\n",
    "        action = np.random.choice(action_choices[state])  # Choose an action for the state\n",
    "        next_states = list(state_transitions[state].keys())\n",
    "        next_state_probs = list(state_transitions[state].values())\n",
    "        next_state = np.random.choice(next_states, p=next_state_probs)  # Choose next state\n",
    "\n",
    "        # Time lapse for transition\n",
    "        time_lapse = np.random.randint(5, 30)\n",
    "        timestamp += timedelta(seconds=time_lapse)\n",
    "\n",
    "        # Determine conversion at 'confirm_purchase' state\n",
    "        if state == 'confirm_purchase' and next_state == 'terminal':\n",
    "            converted = np.random.choice([0, 1], p=[0.5, 0.5])  # 50% chance of purchase\n",
    "\n",
    "        # Append the row\n",
    "        data.append({\n",
    "            'session_id': session_id,\n",
    "            'timestamp': timestamp,\n",
    "            'state': state,\n",
    "            'action': action,\n",
    "            'next_state': next_state,\n",
    "            'time_lapse': time_lapse,\n",
    "            'converted': converted\n",
    "        })\n",
    "\n",
    "        state = next_state  # Update to the next state"
   ]
  },
  {
   "cell_type": "code",
   "execution_count": 6,
   "metadata": {},
   "outputs": [
    {
     "data": {
      "text/html": [
       "<div>\n",
       "<style scoped>\n",
       "    .dataframe tbody tr th:only-of-type {\n",
       "        vertical-align: middle;\n",
       "    }\n",
       "\n",
       "    .dataframe tbody tr th {\n",
       "        vertical-align: top;\n",
       "    }\n",
       "\n",
       "    .dataframe thead th {\n",
       "        text-align: right;\n",
       "    }\n",
       "</style>\n",
       "<table border=\"1\" class=\"dataframe\">\n",
       "  <thead>\n",
       "    <tr style=\"text-align: right;\">\n",
       "      <th></th>\n",
       "      <th>session_id</th>\n",
       "      <th>timestamp</th>\n",
       "      <th>state</th>\n",
       "      <th>action</th>\n",
       "      <th>next_state</th>\n",
       "      <th>time_lapse</th>\n",
       "      <th>converted</th>\n",
       "    </tr>\n",
       "  </thead>\n",
       "  <tbody>\n",
       "    <tr>\n",
       "      <th>0</th>\n",
       "      <td>1</td>\n",
       "      <td>2024-12-05 19:55:09</td>\n",
       "      <td>greeting</td>\n",
       "      <td>ask_preferences</td>\n",
       "      <td>terminal</td>\n",
       "      <td>9</td>\n",
       "      <td>0</td>\n",
       "    </tr>\n",
       "    <tr>\n",
       "      <th>1</th>\n",
       "      <td>2</td>\n",
       "      <td>2024-12-05 10:16:26</td>\n",
       "      <td>greeting</td>\n",
       "      <td>ask_preferences</td>\n",
       "      <td>product_inquiry</td>\n",
       "      <td>26</td>\n",
       "      <td>0</td>\n",
       "    </tr>\n",
       "    <tr>\n",
       "      <th>2</th>\n",
       "      <td>2</td>\n",
       "      <td>2024-12-05 10:16:36</td>\n",
       "      <td>product_inquiry</td>\n",
       "      <td>recommend_product</td>\n",
       "      <td>purchase_decision</td>\n",
       "      <td>10</td>\n",
       "      <td>0</td>\n",
       "    </tr>\n",
       "    <tr>\n",
       "      <th>3</th>\n",
       "      <td>2</td>\n",
       "      <td>2024-12-05 10:16:53</td>\n",
       "      <td>purchase_decision</td>\n",
       "      <td>confirm_purchase</td>\n",
       "      <td>terminal</td>\n",
       "      <td>17</td>\n",
       "      <td>0</td>\n",
       "    </tr>\n",
       "    <tr>\n",
       "      <th>4</th>\n",
       "      <td>3</td>\n",
       "      <td>2024-12-05 15:25:16</td>\n",
       "      <td>greeting</td>\n",
       "      <td>ask_preferences</td>\n",
       "      <td>product_inquiry</td>\n",
       "      <td>16</td>\n",
       "      <td>0</td>\n",
       "    </tr>\n",
       "    <tr>\n",
       "      <th>5</th>\n",
       "      <td>3</td>\n",
       "      <td>2024-12-05 15:25:32</td>\n",
       "      <td>product_inquiry</td>\n",
       "      <td>recommend_product</td>\n",
       "      <td>terminal</td>\n",
       "      <td>16</td>\n",
       "      <td>0</td>\n",
       "    </tr>\n",
       "    <tr>\n",
       "      <th>6</th>\n",
       "      <td>4</td>\n",
       "      <td>2024-12-05 22:26:29</td>\n",
       "      <td>greeting</td>\n",
       "      <td>ask_preferences</td>\n",
       "      <td>product_inquiry</td>\n",
       "      <td>29</td>\n",
       "      <td>1</td>\n",
       "    </tr>\n",
       "    <tr>\n",
       "      <th>7</th>\n",
       "      <td>4</td>\n",
       "      <td>2024-12-05 22:26:41</td>\n",
       "      <td>product_inquiry</td>\n",
       "      <td>recommend_product</td>\n",
       "      <td>purchase_decision</td>\n",
       "      <td>12</td>\n",
       "      <td>1</td>\n",
       "    </tr>\n",
       "    <tr>\n",
       "      <th>8</th>\n",
       "      <td>4</td>\n",
       "      <td>2024-12-05 22:26:59</td>\n",
       "      <td>purchase_decision</td>\n",
       "      <td>confirm_purchase</td>\n",
       "      <td>confirm_purchase</td>\n",
       "      <td>18</td>\n",
       "      <td>1</td>\n",
       "    </tr>\n",
       "    <tr>\n",
       "      <th>9</th>\n",
       "      <td>4</td>\n",
       "      <td>2024-12-05 22:27:15</td>\n",
       "      <td>confirm_purchase</td>\n",
       "      <td>confirm_purchase</td>\n",
       "      <td>terminal</td>\n",
       "      <td>16</td>\n",
       "      <td>1</td>\n",
       "    </tr>\n",
       "  </tbody>\n",
       "</table>\n",
       "</div>"
      ],
      "text/plain": [
       "   session_id           timestamp              state             action  \\\n",
       "0           1 2024-12-05 19:55:09           greeting    ask_preferences   \n",
       "1           2 2024-12-05 10:16:26           greeting    ask_preferences   \n",
       "2           2 2024-12-05 10:16:36    product_inquiry  recommend_product   \n",
       "3           2 2024-12-05 10:16:53  purchase_decision   confirm_purchase   \n",
       "4           3 2024-12-05 15:25:16           greeting    ask_preferences   \n",
       "5           3 2024-12-05 15:25:32    product_inquiry  recommend_product   \n",
       "6           4 2024-12-05 22:26:29           greeting    ask_preferences   \n",
       "7           4 2024-12-05 22:26:41    product_inquiry  recommend_product   \n",
       "8           4 2024-12-05 22:26:59  purchase_decision   confirm_purchase   \n",
       "9           4 2024-12-05 22:27:15   confirm_purchase   confirm_purchase   \n",
       "\n",
       "          next_state  time_lapse  converted  \n",
       "0           terminal           9          0  \n",
       "1    product_inquiry          26          0  \n",
       "2  purchase_decision          10          0  \n",
       "3           terminal          17          0  \n",
       "4    product_inquiry          16          0  \n",
       "5           terminal          16          0  \n",
       "6    product_inquiry          29          1  \n",
       "7  purchase_decision          12          1  \n",
       "8   confirm_purchase          18          1  \n",
       "9           terminal          16          1  "
      ]
     },
     "metadata": {},
     "output_type": "display_data"
    }
   ],
   "source": [
    "# Create the DataFrame\n",
    "df = pd.DataFrame(data)\n",
    "\n",
    "# Ensure 'converted' is consistent within a session\n",
    "df['converted'] = df.groupby('session_id')['converted'].transform('max')\n",
    "\n",
    "display(df.head(10))"
   ]
  },
  {
   "cell_type": "code",
   "execution_count": 7,
   "metadata": {},
   "outputs": [],
   "source": [
    "# Sort by session_id and timestamp to ensure proper sequence\n",
    "df = df.sort_values(by=['session_id', 'timestamp'])\n",
    "\n",
    "# Add the next_state column\n",
    "df['next_state'] = df.groupby('session_id')['state'].shift(-1)\n",
    "\n",
    "# Fill NaN next_state for the last step in each session\n",
    "df['next_state'] = df['next_state'].fillna('terminal')\n",
    "\n",
    "# Add reward column (1 for purchase at the end of session, 0 otherwise)\n",
    "df['reward'] = df.groupby('session_id')['converted'].transform('max')\n"
   ]
  },
  {
   "cell_type": "code",
   "execution_count": 8,
   "metadata": {},
   "outputs": [
    {
     "data": {
      "text/html": [
       "<div>\n",
       "<style scoped>\n",
       "    .dataframe tbody tr th:only-of-type {\n",
       "        vertical-align: middle;\n",
       "    }\n",
       "\n",
       "    .dataframe tbody tr th {\n",
       "        vertical-align: top;\n",
       "    }\n",
       "\n",
       "    .dataframe thead th {\n",
       "        text-align: right;\n",
       "    }\n",
       "</style>\n",
       "<table border=\"1\" class=\"dataframe\">\n",
       "  <thead>\n",
       "    <tr style=\"text-align: right;\">\n",
       "      <th></th>\n",
       "      <th>session_id</th>\n",
       "      <th>timestamp</th>\n",
       "      <th>state</th>\n",
       "      <th>action</th>\n",
       "      <th>next_state</th>\n",
       "      <th>time_lapse</th>\n",
       "      <th>converted</th>\n",
       "      <th>reward</th>\n",
       "    </tr>\n",
       "  </thead>\n",
       "  <tbody>\n",
       "    <tr>\n",
       "      <th>0</th>\n",
       "      <td>1</td>\n",
       "      <td>2024-12-05 19:55:09</td>\n",
       "      <td>greeting</td>\n",
       "      <td>ask_preferences</td>\n",
       "      <td>terminal</td>\n",
       "      <td>9</td>\n",
       "      <td>0</td>\n",
       "      <td>0</td>\n",
       "    </tr>\n",
       "    <tr>\n",
       "      <th>1</th>\n",
       "      <td>2</td>\n",
       "      <td>2024-12-05 10:16:26</td>\n",
       "      <td>greeting</td>\n",
       "      <td>ask_preferences</td>\n",
       "      <td>product_inquiry</td>\n",
       "      <td>26</td>\n",
       "      <td>0</td>\n",
       "      <td>0</td>\n",
       "    </tr>\n",
       "    <tr>\n",
       "      <th>2</th>\n",
       "      <td>2</td>\n",
       "      <td>2024-12-05 10:16:36</td>\n",
       "      <td>product_inquiry</td>\n",
       "      <td>recommend_product</td>\n",
       "      <td>purchase_decision</td>\n",
       "      <td>10</td>\n",
       "      <td>0</td>\n",
       "      <td>0</td>\n",
       "    </tr>\n",
       "    <tr>\n",
       "      <th>3</th>\n",
       "      <td>2</td>\n",
       "      <td>2024-12-05 10:16:53</td>\n",
       "      <td>purchase_decision</td>\n",
       "      <td>confirm_purchase</td>\n",
       "      <td>terminal</td>\n",
       "      <td>17</td>\n",
       "      <td>0</td>\n",
       "      <td>0</td>\n",
       "    </tr>\n",
       "    <tr>\n",
       "      <th>4</th>\n",
       "      <td>3</td>\n",
       "      <td>2024-12-05 15:25:16</td>\n",
       "      <td>greeting</td>\n",
       "      <td>ask_preferences</td>\n",
       "      <td>product_inquiry</td>\n",
       "      <td>16</td>\n",
       "      <td>0</td>\n",
       "      <td>0</td>\n",
       "    </tr>\n",
       "    <tr>\n",
       "      <th>5</th>\n",
       "      <td>3</td>\n",
       "      <td>2024-12-05 15:25:32</td>\n",
       "      <td>product_inquiry</td>\n",
       "      <td>recommend_product</td>\n",
       "      <td>terminal</td>\n",
       "      <td>16</td>\n",
       "      <td>0</td>\n",
       "      <td>0</td>\n",
       "    </tr>\n",
       "    <tr>\n",
       "      <th>6</th>\n",
       "      <td>4</td>\n",
       "      <td>2024-12-05 22:26:29</td>\n",
       "      <td>greeting</td>\n",
       "      <td>ask_preferences</td>\n",
       "      <td>product_inquiry</td>\n",
       "      <td>29</td>\n",
       "      <td>1</td>\n",
       "      <td>1</td>\n",
       "    </tr>\n",
       "    <tr>\n",
       "      <th>7</th>\n",
       "      <td>4</td>\n",
       "      <td>2024-12-05 22:26:41</td>\n",
       "      <td>product_inquiry</td>\n",
       "      <td>recommend_product</td>\n",
       "      <td>purchase_decision</td>\n",
       "      <td>12</td>\n",
       "      <td>1</td>\n",
       "      <td>1</td>\n",
       "    </tr>\n",
       "    <tr>\n",
       "      <th>8</th>\n",
       "      <td>4</td>\n",
       "      <td>2024-12-05 22:26:59</td>\n",
       "      <td>purchase_decision</td>\n",
       "      <td>confirm_purchase</td>\n",
       "      <td>confirm_purchase</td>\n",
       "      <td>18</td>\n",
       "      <td>1</td>\n",
       "      <td>1</td>\n",
       "    </tr>\n",
       "    <tr>\n",
       "      <th>9</th>\n",
       "      <td>4</td>\n",
       "      <td>2024-12-05 22:27:15</td>\n",
       "      <td>confirm_purchase</td>\n",
       "      <td>confirm_purchase</td>\n",
       "      <td>terminal</td>\n",
       "      <td>16</td>\n",
       "      <td>1</td>\n",
       "      <td>1</td>\n",
       "    </tr>\n",
       "  </tbody>\n",
       "</table>\n",
       "</div>"
      ],
      "text/plain": [
       "   session_id           timestamp              state             action  \\\n",
       "0           1 2024-12-05 19:55:09           greeting    ask_preferences   \n",
       "1           2 2024-12-05 10:16:26           greeting    ask_preferences   \n",
       "2           2 2024-12-05 10:16:36    product_inquiry  recommend_product   \n",
       "3           2 2024-12-05 10:16:53  purchase_decision   confirm_purchase   \n",
       "4           3 2024-12-05 15:25:16           greeting    ask_preferences   \n",
       "5           3 2024-12-05 15:25:32    product_inquiry  recommend_product   \n",
       "6           4 2024-12-05 22:26:29           greeting    ask_preferences   \n",
       "7           4 2024-12-05 22:26:41    product_inquiry  recommend_product   \n",
       "8           4 2024-12-05 22:26:59  purchase_decision   confirm_purchase   \n",
       "9           4 2024-12-05 22:27:15   confirm_purchase   confirm_purchase   \n",
       "\n",
       "          next_state  time_lapse  converted  reward  \n",
       "0           terminal           9          0       0  \n",
       "1    product_inquiry          26          0       0  \n",
       "2  purchase_decision          10          0       0  \n",
       "3           terminal          17          0       0  \n",
       "4    product_inquiry          16          0       0  \n",
       "5           terminal          16          0       0  \n",
       "6    product_inquiry          29          1       1  \n",
       "7  purchase_decision          12          1       1  \n",
       "8   confirm_purchase          18          1       1  \n",
       "9           terminal          16          1       1  "
      ]
     },
     "execution_count": 8,
     "metadata": {},
     "output_type": "execute_result"
    }
   ],
   "source": [
    "df.head(10)"
   ]
  },
  {
   "cell_type": "code",
   "execution_count": 9,
   "metadata": {},
   "outputs": [
    {
     "data": {
      "text/plain": [
       "10000"
      ]
     },
     "execution_count": 9,
     "metadata": {},
     "output_type": "execute_result"
    }
   ],
   "source": [
    "df['session_id'].nunique()"
   ]
  },
  {
   "cell_type": "code",
   "execution_count": 10,
   "metadata": {},
   "outputs": [
    {
     "data": {
      "text/plain": [
       "215128"
      ]
     },
     "execution_count": 10,
     "metadata": {},
     "output_type": "execute_result"
    }
   ],
   "source": [
    "df.size"
   ]
  },
  {
   "cell_type": "code",
   "execution_count": 11,
   "metadata": {},
   "outputs": [
    {
     "name": "stdout",
     "output_type": "stream",
     "text": [
      "File exists\n"
     ]
    }
   ],
   "source": [
    "if 'simmulated_data.csv' in glob('*.csv'):\n",
    "    print(\"File exists\")\n",
    "else:\n",
    "    print(\"Saving file\")\n",
    "    df.to_csv('simmulated_data.csv', index=False)"
   ]
  },
  {
   "cell_type": "markdown",
   "metadata": {},
   "source": [
    "## Preparing dataframe"
   ]
  },
  {
   "cell_type": "code",
   "execution_count": 12,
   "metadata": {},
   "outputs": [
    {
     "data": {
      "text/html": [
       "<div>\n",
       "<style scoped>\n",
       "    .dataframe tbody tr th:only-of-type {\n",
       "        vertical-align: middle;\n",
       "    }\n",
       "\n",
       "    .dataframe tbody tr th {\n",
       "        vertical-align: top;\n",
       "    }\n",
       "\n",
       "    .dataframe thead th {\n",
       "        text-align: right;\n",
       "    }\n",
       "</style>\n",
       "<table border=\"1\" class=\"dataframe\">\n",
       "  <thead>\n",
       "    <tr style=\"text-align: right;\">\n",
       "      <th></th>\n",
       "      <th>session_id</th>\n",
       "      <th>timestamp</th>\n",
       "      <th>state</th>\n",
       "      <th>action</th>\n",
       "      <th>next_state</th>\n",
       "      <th>time_lapse</th>\n",
       "      <th>converted</th>\n",
       "      <th>reward</th>\n",
       "    </tr>\n",
       "  </thead>\n",
       "  <tbody>\n",
       "    <tr>\n",
       "      <th>0</th>\n",
       "      <td>1</td>\n",
       "      <td>2024-12-05 13:03:15</td>\n",
       "      <td>greeting</td>\n",
       "      <td>ask_preferences</td>\n",
       "      <td>product_inquiry</td>\n",
       "      <td>15</td>\n",
       "      <td>0</td>\n",
       "      <td>0</td>\n",
       "    </tr>\n",
       "    <tr>\n",
       "      <th>1</th>\n",
       "      <td>1</td>\n",
       "      <td>2024-12-05 13:03:28</td>\n",
       "      <td>product_inquiry</td>\n",
       "      <td>recommend_product</td>\n",
       "      <td>terminal</td>\n",
       "      <td>13</td>\n",
       "      <td>0</td>\n",
       "      <td>0</td>\n",
       "    </tr>\n",
       "    <tr>\n",
       "      <th>2</th>\n",
       "      <td>2</td>\n",
       "      <td>2024-12-05 18:05:25</td>\n",
       "      <td>greeting</td>\n",
       "      <td>show_discounts</td>\n",
       "      <td>product_inquiry</td>\n",
       "      <td>25</td>\n",
       "      <td>1</td>\n",
       "      <td>1</td>\n",
       "    </tr>\n",
       "    <tr>\n",
       "      <th>3</th>\n",
       "      <td>2</td>\n",
       "      <td>2024-12-05 18:05:39</td>\n",
       "      <td>product_inquiry</td>\n",
       "      <td>recommend_product</td>\n",
       "      <td>purchase_decision</td>\n",
       "      <td>14</td>\n",
       "      <td>1</td>\n",
       "      <td>1</td>\n",
       "    </tr>\n",
       "    <tr>\n",
       "      <th>4</th>\n",
       "      <td>2</td>\n",
       "      <td>2024-12-05 18:05:48</td>\n",
       "      <td>purchase_decision</td>\n",
       "      <td>confirm_purchase</td>\n",
       "      <td>confirm_purchase</td>\n",
       "      <td>9</td>\n",
       "      <td>1</td>\n",
       "      <td>1</td>\n",
       "    </tr>\n",
       "  </tbody>\n",
       "</table>\n",
       "</div>"
      ],
      "text/plain": [
       "   session_id            timestamp              state             action  \\\n",
       "0           1  2024-12-05 13:03:15           greeting    ask_preferences   \n",
       "1           1  2024-12-05 13:03:28    product_inquiry  recommend_product   \n",
       "2           2  2024-12-05 18:05:25           greeting     show_discounts   \n",
       "3           2  2024-12-05 18:05:39    product_inquiry  recommend_product   \n",
       "4           2  2024-12-05 18:05:48  purchase_decision   confirm_purchase   \n",
       "\n",
       "          next_state  time_lapse  converted  reward  \n",
       "0    product_inquiry          15          0       0  \n",
       "1           terminal          13          0       0  \n",
       "2    product_inquiry          25          1       1  \n",
       "3  purchase_decision          14          1       1  \n",
       "4   confirm_purchase           9          1       1  "
      ]
     },
     "execution_count": 12,
     "metadata": {},
     "output_type": "execute_result"
    }
   ],
   "source": [
    "df = pd.read_csv('simmulated_data.csv')\n",
    "df.head()"
   ]
  },
  {
   "cell_type": "markdown",
   "metadata": {},
   "source": [
    "## Starting deep q-learning"
   ]
  },
  {
   "cell_type": "code",
   "execution_count": 13,
   "metadata": {},
   "outputs": [],
   "source": [
    "import torch\n",
    "import torch.nn as nn\n",
    "import torch.optim as optim\n",
    "from collections import deque\n",
    "import random"
   ]
  },
  {
   "cell_type": "code",
   "execution_count": 14,
   "metadata": {},
   "outputs": [],
   "source": [
    "class QNetwork(nn.Module):\n",
    "    def __init__(self, state_size, action_size):\n",
    "        super(QNetwork, self).__init__()\n",
    "        self.fc1 = nn.Linear(state_size, 128)\n",
    "        self.fc2 = nn.Linear(128, 128)\n",
    "        self.fc3 = nn.Linear(128, action_size)\n",
    "\n",
    "    def forward(self, x):\n",
    "        x = torch.relu(self.fc1(x))\n",
    "        x = torch.relu(self.fc2(x))\n",
    "        return self.fc3(x)"
   ]
  },
  {
   "cell_type": "code",
   "execution_count": 15,
   "metadata": {},
   "outputs": [],
   "source": [
    "class ReplayBuffer:\n",
    "    def __init__(self, buffer_size):\n",
    "        self.buffer = deque(maxlen=buffer_size)\n",
    "\n",
    "    def add(self, transition):\n",
    "        self.buffer.append(transition)\n",
    "\n",
    "    def sample(self, batch_size):\n",
    "        return random.sample(self.buffer, batch_size)\n",
    "\n",
    "    def __len__(self):\n",
    "        return len(self.buffer)"
   ]
  },
  {
   "cell_type": "code",
   "execution_count": 16,
   "metadata": {},
   "outputs": [],
   "source": [
    "from sklearn.preprocessing import LabelEncoder"
   ]
  },
  {
   "cell_type": "code",
   "execution_count": 17,
   "metadata": {},
   "outputs": [
    {
     "data": {
      "text/html": [
       "<div>\n",
       "<style scoped>\n",
       "    .dataframe tbody tr th:only-of-type {\n",
       "        vertical-align: middle;\n",
       "    }\n",
       "\n",
       "    .dataframe tbody tr th {\n",
       "        vertical-align: top;\n",
       "    }\n",
       "\n",
       "    .dataframe thead th {\n",
       "        text-align: right;\n",
       "    }\n",
       "</style>\n",
       "<table border=\"1\" class=\"dataframe\">\n",
       "  <thead>\n",
       "    <tr style=\"text-align: right;\">\n",
       "      <th></th>\n",
       "      <th>session_id</th>\n",
       "      <th>timestamp</th>\n",
       "      <th>state</th>\n",
       "      <th>action</th>\n",
       "      <th>next_state</th>\n",
       "      <th>time_lapse</th>\n",
       "      <th>converted</th>\n",
       "      <th>reward</th>\n",
       "    </tr>\n",
       "  </thead>\n",
       "  <tbody>\n",
       "    <tr>\n",
       "      <th>0</th>\n",
       "      <td>1</td>\n",
       "      <td>2024-12-05 13:03:15</td>\n",
       "      <td>greeting</td>\n",
       "      <td>ask_preferences</td>\n",
       "      <td>product_inquiry</td>\n",
       "      <td>15</td>\n",
       "      <td>0</td>\n",
       "      <td>0</td>\n",
       "    </tr>\n",
       "    <tr>\n",
       "      <th>1</th>\n",
       "      <td>1</td>\n",
       "      <td>2024-12-05 13:03:28</td>\n",
       "      <td>product_inquiry</td>\n",
       "      <td>recommend_product</td>\n",
       "      <td>terminal</td>\n",
       "      <td>13</td>\n",
       "      <td>0</td>\n",
       "      <td>0</td>\n",
       "    </tr>\n",
       "    <tr>\n",
       "      <th>2</th>\n",
       "      <td>2</td>\n",
       "      <td>2024-12-05 18:05:25</td>\n",
       "      <td>greeting</td>\n",
       "      <td>show_discounts</td>\n",
       "      <td>product_inquiry</td>\n",
       "      <td>25</td>\n",
       "      <td>1</td>\n",
       "      <td>1</td>\n",
       "    </tr>\n",
       "    <tr>\n",
       "      <th>3</th>\n",
       "      <td>2</td>\n",
       "      <td>2024-12-05 18:05:39</td>\n",
       "      <td>product_inquiry</td>\n",
       "      <td>recommend_product</td>\n",
       "      <td>purchase_decision</td>\n",
       "      <td>14</td>\n",
       "      <td>1</td>\n",
       "      <td>1</td>\n",
       "    </tr>\n",
       "    <tr>\n",
       "      <th>4</th>\n",
       "      <td>2</td>\n",
       "      <td>2024-12-05 18:05:48</td>\n",
       "      <td>purchase_decision</td>\n",
       "      <td>confirm_purchase</td>\n",
       "      <td>confirm_purchase</td>\n",
       "      <td>9</td>\n",
       "      <td>1</td>\n",
       "      <td>1</td>\n",
       "    </tr>\n",
       "  </tbody>\n",
       "</table>\n",
       "</div>"
      ],
      "text/plain": [
       "   session_id            timestamp              state             action  \\\n",
       "0           1  2024-12-05 13:03:15           greeting    ask_preferences   \n",
       "1           1  2024-12-05 13:03:28    product_inquiry  recommend_product   \n",
       "2           2  2024-12-05 18:05:25           greeting     show_discounts   \n",
       "3           2  2024-12-05 18:05:39    product_inquiry  recommend_product   \n",
       "4           2  2024-12-05 18:05:48  purchase_decision   confirm_purchase   \n",
       "\n",
       "          next_state  time_lapse  converted  reward  \n",
       "0    product_inquiry          15          0       0  \n",
       "1           terminal          13          0       0  \n",
       "2    product_inquiry          25          1       1  \n",
       "3  purchase_decision          14          1       1  \n",
       "4   confirm_purchase           9          1       1  "
      ]
     },
     "execution_count": 17,
     "metadata": {},
     "output_type": "execute_result"
    }
   ],
   "source": [
    "df.head()"
   ]
  },
  {
   "cell_type": "code",
   "execution_count": 18,
   "metadata": {},
   "outputs": [
    {
     "data": {
      "text/html": [
       "<div>\n",
       "<style scoped>\n",
       "    .dataframe tbody tr th:only-of-type {\n",
       "        vertical-align: middle;\n",
       "    }\n",
       "\n",
       "    .dataframe tbody tr th {\n",
       "        vertical-align: top;\n",
       "    }\n",
       "\n",
       "    .dataframe thead th {\n",
       "        text-align: right;\n",
       "    }\n",
       "</style>\n",
       "<table border=\"1\" class=\"dataframe\">\n",
       "  <thead>\n",
       "    <tr style=\"text-align: right;\">\n",
       "      <th></th>\n",
       "      <th>session_id</th>\n",
       "      <th>timestamp</th>\n",
       "      <th>state</th>\n",
       "      <th>action</th>\n",
       "      <th>next_state</th>\n",
       "      <th>time_lapse</th>\n",
       "      <th>converted</th>\n",
       "      <th>reward</th>\n",
       "    </tr>\n",
       "  </thead>\n",
       "  <tbody>\n",
       "    <tr>\n",
       "      <th>0</th>\n",
       "      <td>1</td>\n",
       "      <td>2024-12-05 13:03:15</td>\n",
       "      <td>1</td>\n",
       "      <td>ask_preferences</td>\n",
       "      <td>2</td>\n",
       "      <td>15</td>\n",
       "      <td>0</td>\n",
       "      <td>0</td>\n",
       "    </tr>\n",
       "    <tr>\n",
       "      <th>1</th>\n",
       "      <td>1</td>\n",
       "      <td>2024-12-05 13:03:28</td>\n",
       "      <td>2</td>\n",
       "      <td>recommend_product</td>\n",
       "      <td>4</td>\n",
       "      <td>13</td>\n",
       "      <td>0</td>\n",
       "      <td>0</td>\n",
       "    </tr>\n",
       "    <tr>\n",
       "      <th>2</th>\n",
       "      <td>2</td>\n",
       "      <td>2024-12-05 18:05:25</td>\n",
       "      <td>1</td>\n",
       "      <td>show_discounts</td>\n",
       "      <td>2</td>\n",
       "      <td>25</td>\n",
       "      <td>1</td>\n",
       "      <td>1</td>\n",
       "    </tr>\n",
       "    <tr>\n",
       "      <th>3</th>\n",
       "      <td>2</td>\n",
       "      <td>2024-12-05 18:05:39</td>\n",
       "      <td>2</td>\n",
       "      <td>recommend_product</td>\n",
       "      <td>3</td>\n",
       "      <td>14</td>\n",
       "      <td>1</td>\n",
       "      <td>1</td>\n",
       "    </tr>\n",
       "    <tr>\n",
       "      <th>4</th>\n",
       "      <td>2</td>\n",
       "      <td>2024-12-05 18:05:48</td>\n",
       "      <td>3</td>\n",
       "      <td>confirm_purchase</td>\n",
       "      <td>0</td>\n",
       "      <td>9</td>\n",
       "      <td>1</td>\n",
       "      <td>1</td>\n",
       "    </tr>\n",
       "  </tbody>\n",
       "</table>\n",
       "</div>"
      ],
      "text/plain": [
       "   session_id            timestamp  state             action  next_state  \\\n",
       "0           1  2024-12-05 13:03:15      1    ask_preferences           2   \n",
       "1           1  2024-12-05 13:03:28      2  recommend_product           4   \n",
       "2           2  2024-12-05 18:05:25      1     show_discounts           2   \n",
       "3           2  2024-12-05 18:05:39      2  recommend_product           3   \n",
       "4           2  2024-12-05 18:05:48      3   confirm_purchase           0   \n",
       "\n",
       "   time_lapse  converted  reward  \n",
       "0          15          0       0  \n",
       "1          13          0       0  \n",
       "2          25          1       1  \n",
       "3          14          1       1  \n",
       "4           9          1       1  "
      ]
     },
     "execution_count": 18,
     "metadata": {},
     "output_type": "execute_result"
    }
   ],
   "source": [
    "# Include all states and next states in the label encoding\n",
    "all_states = pd.concat([df['state'], df['next_state']]).unique()\n",
    "le_state = LabelEncoder()\n",
    "le_state.fit(all_states)\n",
    "\n",
    "# Encode state and next_state\n",
    "df['state'] = le_state.transform(df['state'])\n",
    "df['next_state'] = le_state.transform(df['next_state'])\n",
    "df.head()"
   ]
  },
  {
   "cell_type": "code",
   "execution_count": 19,
   "metadata": {},
   "outputs": [
    {
     "data": {
      "text/html": [
       "<div>\n",
       "<style scoped>\n",
       "    .dataframe tbody tr th:only-of-type {\n",
       "        vertical-align: middle;\n",
       "    }\n",
       "\n",
       "    .dataframe tbody tr th {\n",
       "        vertical-align: top;\n",
       "    }\n",
       "\n",
       "    .dataframe thead th {\n",
       "        text-align: right;\n",
       "    }\n",
       "</style>\n",
       "<table border=\"1\" class=\"dataframe\">\n",
       "  <thead>\n",
       "    <tr style=\"text-align: right;\">\n",
       "      <th></th>\n",
       "      <th>session_id</th>\n",
       "      <th>timestamp</th>\n",
       "      <th>state</th>\n",
       "      <th>action</th>\n",
       "      <th>next_state</th>\n",
       "      <th>time_lapse</th>\n",
       "      <th>converted</th>\n",
       "      <th>reward</th>\n",
       "    </tr>\n",
       "  </thead>\n",
       "  <tbody>\n",
       "    <tr>\n",
       "      <th>0</th>\n",
       "      <td>1</td>\n",
       "      <td>2024-12-05 13:03:15</td>\n",
       "      <td>1</td>\n",
       "      <td>0</td>\n",
       "      <td>2</td>\n",
       "      <td>15</td>\n",
       "      <td>0</td>\n",
       "      <td>0</td>\n",
       "    </tr>\n",
       "    <tr>\n",
       "      <th>1</th>\n",
       "      <td>1</td>\n",
       "      <td>2024-12-05 13:03:28</td>\n",
       "      <td>2</td>\n",
       "      <td>2</td>\n",
       "      <td>4</td>\n",
       "      <td>13</td>\n",
       "      <td>0</td>\n",
       "      <td>0</td>\n",
       "    </tr>\n",
       "    <tr>\n",
       "      <th>2</th>\n",
       "      <td>2</td>\n",
       "      <td>2024-12-05 18:05:25</td>\n",
       "      <td>1</td>\n",
       "      <td>3</td>\n",
       "      <td>2</td>\n",
       "      <td>25</td>\n",
       "      <td>1</td>\n",
       "      <td>1</td>\n",
       "    </tr>\n",
       "    <tr>\n",
       "      <th>3</th>\n",
       "      <td>2</td>\n",
       "      <td>2024-12-05 18:05:39</td>\n",
       "      <td>2</td>\n",
       "      <td>2</td>\n",
       "      <td>3</td>\n",
       "      <td>14</td>\n",
       "      <td>1</td>\n",
       "      <td>1</td>\n",
       "    </tr>\n",
       "    <tr>\n",
       "      <th>4</th>\n",
       "      <td>2</td>\n",
       "      <td>2024-12-05 18:05:48</td>\n",
       "      <td>3</td>\n",
       "      <td>1</td>\n",
       "      <td>0</td>\n",
       "      <td>9</td>\n",
       "      <td>1</td>\n",
       "      <td>1</td>\n",
       "    </tr>\n",
       "  </tbody>\n",
       "</table>\n",
       "</div>"
      ],
      "text/plain": [
       "   session_id            timestamp  state  action  next_state  time_lapse  \\\n",
       "0           1  2024-12-05 13:03:15      1       0           2          15   \n",
       "1           1  2024-12-05 13:03:28      2       2           4          13   \n",
       "2           2  2024-12-05 18:05:25      1       3           2          25   \n",
       "3           2  2024-12-05 18:05:39      2       2           3          14   \n",
       "4           2  2024-12-05 18:05:48      3       1           0           9   \n",
       "\n",
       "   converted  reward  \n",
       "0          0       0  \n",
       "1          0       0  \n",
       "2          1       1  \n",
       "3          1       1  \n",
       "4          1       1  "
      ]
     },
     "execution_count": 19,
     "metadata": {},
     "output_type": "execute_result"
    }
   ],
   "source": [
    "# Encode actions\n",
    "le_action = LabelEncoder()\n",
    "df['action'] = le_action.fit_transform(df['action'])\n",
    "df.head()"
   ]
  },
  {
   "cell_type": "code",
   "execution_count": 20,
   "metadata": {},
   "outputs": [],
   "source": [
    "# Create transitions\n",
    "data = []\n",
    "for _, row in df.iterrows():\n",
    "    state = row['state']\n",
    "    action = row['action']\n",
    "    reward = row['reward']\n",
    "    next_state = row['next_state']\n",
    "    done = 1 if row['converted'] == 1 or row['next_state'] == 'terminal' else 0\n",
    "    data.append((state, action, reward, next_state, done))"
   ]
  },
  {
   "cell_type": "code",
   "execution_count": 21,
   "metadata": {},
   "outputs": [],
   "source": [
    "state_size = len(le_state.classes_)\n",
    "action_size = len(le_action.classes_)"
   ]
  },
  {
   "cell_type": "code",
   "execution_count": 22,
   "metadata": {},
   "outputs": [
    {
     "data": {
      "text/plain": [
       "5"
      ]
     },
     "execution_count": 22,
     "metadata": {},
     "output_type": "execute_result"
    }
   ],
   "source": [
    "state_size"
   ]
  },
  {
   "cell_type": "code",
   "execution_count": 23,
   "metadata": {},
   "outputs": [
    {
     "data": {
      "text/plain": [
       "4"
      ]
     },
     "execution_count": 23,
     "metadata": {},
     "output_type": "execute_result"
    }
   ],
   "source": [
    "action_size"
   ]
  },
  {
   "cell_type": "code",
   "execution_count": 40,
   "metadata": {},
   "outputs": [],
   "source": [
    "def dqn(data, state_size, action_size, num_episodes=100, batch_size=64, \n",
    "        gamma=0.99, lr=0.001, epsilon=1.0, epsilon_decay=0.995, epsilon_min=0.01, \n",
    "        save_path=\"q_network.pth\"):\n",
    "\n",
    "    # Initialize Q-network, target network, and optimizer\n",
    "    q_network = QNetwork(state_size, action_size)\n",
    "    target_network = QNetwork(state_size, action_size)\n",
    "    target_network.load_state_dict(q_network.state_dict())\n",
    "    target_network.eval()\n",
    "    optimizer = optim.Adam(q_network.parameters(), lr=lr)\n",
    "    loss_fn = nn.MSELoss()\n",
    "    losses_lt = []\n",
    "    \n",
    "    # Initialize replay buffer\n",
    "    replay_buffer = ReplayBuffer(buffer_size=10000)\n",
    "    \n",
    "    # Training loop\n",
    "    for episode in range(num_episodes):\n",
    "        for transition in data:\n",
    "            # Parse transition\n",
    "            state, action, reward, next_state, done = transition\n",
    "            \n",
    "            # Add transition to replay buffer\n",
    "            replay_buffer.add((state, action, reward, next_state, done))\n",
    "            \n",
    "            # Sample a batch of transitions\n",
    "            if len(replay_buffer) >= batch_size:\n",
    "                batch = replay_buffer.sample(batch_size)\n",
    "                states, actions, rewards, next_states, dones = zip(*batch)\n",
    "                \n",
    "                # Convert to tensors\n",
    "                states = torch.tensor(states, dtype=torch.int64)\n",
    "                states = torch.nn.functional.one_hot(states, num_classes=state_size).float()  # Fix state shape\n",
    "                actions = torch.tensor(actions, dtype=torch.int64).unsqueeze(1)\n",
    "                rewards = torch.tensor(rewards, dtype=torch.float32)\n",
    "                next_states = torch.tensor(next_states, dtype=torch.int64)\n",
    "                next_states = torch.nn.functional.one_hot(next_states, num_classes=state_size).float()\n",
    "                dones = torch.tensor(dones, dtype=torch.float32)\n",
    "                \n",
    "                # Compute current Q-values and target Q-values\n",
    "                q_values = q_network(states).gather(1, actions).squeeze()\n",
    "                next_q_values = target_network(next_states).max(dim=1)[0]\n",
    "                targets = rewards + gamma * next_q_values * (1 - dones)\n",
    "                \n",
    "                # Compute loss\n",
    "                loss = loss_fn(q_values, targets)\n",
    "                \n",
    "                # Backpropagation\n",
    "                optimizer.zero_grad()\n",
    "                loss.backward()\n",
    "                optimizer.step()\n",
    "        \n",
    "        # Update epsilon\n",
    "        epsilon = max(epsilon_min, epsilon * epsilon_decay)\n",
    "        \n",
    "        # Periodically update the target network\n",
    "        if episode % 10 == 0:\n",
    "            target_network.load_state_dict(q_network.state_dict())\n",
    "\n",
    "        print(f\"Episode {episode + 1}/{num_episodes}, Loss: {loss.item():.5f}\")\n",
    "        losses_lt.append(loss.item())\n",
    "\n",
    "    # Save the trained model\n",
    "    torch.save(q_network.state_dict(), save_path)\n",
    "    print(f\"Model saved to {save_path}\")\n",
    "    \n",
    "    return q_network, losses_lt"
   ]
  },
  {
   "cell_type": "code",
   "execution_count": 41,
   "metadata": {},
   "outputs": [
    {
     "name": "stdout",
     "output_type": "stream",
     "text": [
      "Episode 1/2, Loss: 0.14048\n",
      "Model saved to q_network.pth\n",
      "Episode 2/2, Loss: 0.06776\n",
      "Model saved to q_network.pth\n"
     ]
    }
   ],
   "source": [
    "q_network, losses_lt = dqn(data, state_size, action_size)"
   ]
  },
  {
   "cell_type": "code",
   "execution_count": 42,
   "metadata": {},
   "outputs": [],
   "source": [
    "losses = [0.17021, 0.06713, 0.08649, 0.07246, 0.09268, 0.10602, 0.07607, 0.08358, 0.08242, 0.07551, 0.06025, 0.02716, 0.02613, 0.03169, 0.03890, 0.02597, 0.02860, 0.03208, 0.03140, 0.02662, 0.03384, 0.01354, 0.01486, 0.01277, 0.01746, 0.01367, 0.01754, 0.01608, 0.01217, 0.01366, 0.01226, 0.00605, 0.00583, 0.00498, 0.00811, 0.00562, 0.00616, 0.00456, 0.00614, 0.00738, 0.00579, 0.00290, 0.00242, 0.00243, 0.00308, 0.00311, 0.00208, 0.00204, 0.00273, 0.00330, 0.00257, 0.00120, 0.00128, 0.00112, 0.00128, 0.00137, 0.00142, 0.00186, 0.00130, 0.00147, 0.00155, 0.00092, 0.00096, 0.00049, 0.00067, 0.00069, 0.00084, 0.00065, 0.00081, 0.00087, 0.00090, 0.00049, 0.00046, 0.00045, 0.00047, 0.00044, 0.00037, 0.00032, 0.00032, 0.00037, 0.00045, 0.00025, 0.00029, 0.00033, 0.00033, 0.00033, 0.00021, 0.00026, 0.00023, 0.00031, 0.00027, 0.00028, 0.00027, 0.00016, 0.00029, 0.00019, 0.00025, 0.00021, 0.00025, 0.00029]"
   ]
  },
  {
   "cell_type": "code",
   "execution_count": 43,
   "metadata": {},
   "outputs": [
    {
     "data": {
      "text/plain": [
       "[<matplotlib.lines.Line2D at 0x71d5380a1550>]"
      ]
     },
     "execution_count": 43,
     "metadata": {},
     "output_type": "execute_result"
    },
    {
     "data": {
      "image/png": "[encoded data removed]",
      "text/plain": [
       "<Figure size 1200x600 with 1 Axes>"
      ]
     },
     "metadata": {},
     "output_type": "display_data"
    }
   ],
   "source": [
    "plt.figure(figsize=(12, 6))\n",
    "plt.plot(range(len(losses)), losses)"
   ]
  },
  {
   "cell_type": "code",
   "execution_count": 44,
   "metadata": {},
   "outputs": [],
   "source": [
    "# def predict(state):\n",
    "#     state = np.expand_dims(state, axis=0)  # Add batch dimension\n",
    "#     state = tf.convert_to_tensor(state, dtype=tf.float32)\n",
    "#     q_values = q_network(state)\n",
    "#     action = np.argmax(q_values.numpy())  # Choose action with the highest Q-value\n",
    "#     return action"
   ]
  },
  {
   "cell_type": "code",
   "execution_count": 45,
   "metadata": {},
   "outputs": [],
   "source": [
    "# torch.save(q_network.state_dict(), \"dqn_model.pth\")"
   ]
  },
  {
   "cell_type": "markdown",
   "metadata": {},
   "source": [
    "## inferring values"
   ]
  },
  {
   "cell_type": "code",
   "execution_count": 35,
   "metadata": {},
   "outputs": [],
   "source": [
    "device = 'cpu'"
   ]
  },
  {
   "cell_type": "code",
   "execution_count": 51,
   "metadata": {},
   "outputs": [],
   "source": [
    "def infer(q_network, state, state_size):\n",
    "    \"\"\"Infer Q-values and recommend an action for a given state.\"\"\"\n",
    "    state_tensor = torch.nn.functional.one_hot(torch.tensor([state]), num_classes=state_size).float()\n",
    "    with torch.no_grad():\n",
    "        q_values = q_network(state_tensor).numpy().flatten()\n",
    "    best_action = q_values.argmax()\n",
    "    return q_values, best_action"
   ]
  },
  {
   "cell_type": "code",
   "execution_count": 59,
   "metadata": {},
   "outputs": [
    {
     "data": {
      "text/plain": [
       "(array([0.5014375 , 0.63616925, 0.5523001 , 0.4988612 , 0.5033259 ,\n",
       "        0.63715696, 0.55124384, 0.5038485 , 0.6026423 , 0.7326751 ,\n",
       "        0.62815875, 0.63559306, 0.6026423 , 0.7326751 , 0.62815875,\n",
       "        0.63559306, 0.6026423 , 0.7326751 , 0.62815875, 0.63559306],\n",
       "       dtype=float32),\n",
       " 9)"
      ]
     },
     "execution_count": 59,
     "metadata": {},
     "output_type": "execute_result"
    }
   ],
   "source": [
    "infer(q_network, data[130], state_size)"
   ]
  },
  {
   "cell_type": "markdown",
   "metadata": {},
   "source": [
    "## Loading q_network"
   ]
  },
  {
   "cell_type": "code",
   "execution_count": 60,
   "metadata": {},
   "outputs": [
    {
     "name": "stderr",
     "output_type": "stream",
     "text": [
      "/tmp/ipykernel_6329/3741015920.py:3: FutureWarning: You are using `torch.load` with `weights_only=False` (the current default value), which uses the default pickle module implicitly. It is possible to construct malicious pickle data which will execute arbitrary code during unpickling (See https://github.com/pytorch/pytorch/blob/main/SECURITY.md#untrusted-models for more details). In a future release, the default value for `weights_only` will be flipped to `True`. This limits the functions that could be executed during unpickling. Arbitrary objects will no longer be allowed to be loaded via this mode unless they are explicitly allowlisted by the user via `torch.serialization.add_safe_globals`. We recommend you start setting `weights_only=True` for any use case where you don't have full control of the loaded file. Please open an issue on GitHub for any issues related to this experimental feature.\n",
      "  q_network2.load_state_dict(torch.load(\"dqn_model.pth\"))\n"
     ]
    },
    {
     "data": {
      "text/plain": [
       "QNetwork(\n",
       "  (fc1): Linear(in_features=5, out_features=128, bias=True)\n",
       "  (fc2): Linear(in_features=128, out_features=128, bias=True)\n",
       "  (fc3): Linear(in_features=128, out_features=4, bias=True)\n",
       ")"
      ]
     },
     "execution_count": 60,
     "metadata": {},
     "output_type": "execute_result"
    }
   ],
   "source": [
    "# Load model directly to GPU if available\n",
    "q_network2 = QNetwork(state_size, action_size).to(device)\n",
    "q_network2.load_state_dict(torch.load(\"dqn_model.pth\"))\n",
    "q_network2.eval()"
   ]
  },
  {
   "cell_type": "code",
   "execution_count": 61,
   "metadata": {},
   "outputs": [
    {
     "data": {
      "text/plain": [
       "(array([0.5014375 , 0.63616925, 0.5523001 , 0.4988612 , 0.5033259 ,\n",
       "        0.63715696, 0.55124384, 0.5038485 , 0.6026423 , 0.7326751 ,\n",
       "        0.62815875, 0.63559306, 0.6026423 , 0.7326751 , 0.62815875,\n",
       "        0.63559306, 0.6026423 , 0.7326751 , 0.62815875, 0.63559306],\n",
       "       dtype=float32),\n",
       " 9)"
      ]
     },
     "execution_count": 61,
     "metadata": {},
     "output_type": "execute_result"
    }
   ],
   "source": [
    "infer(q_network2, data[130], state_size)"
   ]
  }
 ],
 "metadata": {
  "kernelspec": {
   "display_name": "zanalytics",
   "language": "python",
   "name": "python3"
  },
  "language_info": {
   "codemirror_mode": {
    "name": "ipython",
    "version": 3
   },
   "file_extension": ".py",
   "mimetype": "text/x-python",
   "name": "python",
   "nbconvert_exporter": "python",
   "pygments_lexer": "ipython3",
   "version": "3.12.6"
  }
 },
 "nbformat": 4,
 "nbformat_minor": 2
}
