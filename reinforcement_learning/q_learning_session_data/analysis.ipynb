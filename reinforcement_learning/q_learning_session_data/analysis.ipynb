{
 "cells": [
  {
   "cell_type": "code",
   "execution_count": 27,
   "metadata": {},
   "outputs": [],
   "source": [
    "import pandas as pd\n",
    "import numpy as np\n",
    "from datetime import datetime, timedelta\n",
    "from tqdm import tqdm"
   ]
  },
  {
   "cell_type": "markdown",
   "metadata": {},
   "source": [
    "## Simulating data"
   ]
  },
  {
   "cell_type": "code",
   "execution_count": 2,
   "metadata": {},
   "outputs": [],
   "source": [
    "# Parameters\n",
    "num_users = 10000\n",
    "states = ['greeting', 'product_inquiry', 'purchase_decision', 'confirm_purchase', 'terminal']\n",
    "actions = ['ask_preferences', 'recommend_product', 'show_discounts', 'confirm_purchase']"
   ]
  },
  {
   "cell_type": "code",
   "execution_count": 3,
   "metadata": {},
   "outputs": [],
   "source": [
    "# Probabilities for transitions\n",
    "state_transitions = {\n",
    "    'greeting': {'product_inquiry': 0.8, 'terminal': 0.2},\n",
    "    'product_inquiry': {'purchase_decision': 0.7, 'terminal': 0.3},\n",
    "    'purchase_decision': {'confirm_purchase': 0.6, 'terminal': 0.4},\n",
    "    'confirm_purchase': {'terminal': 1.0},\n",
    "}"
   ]
  },
  {
   "cell_type": "code",
   "execution_count": 4,
   "metadata": {},
   "outputs": [],
   "source": [
    "# Probabilities for actions per state\n",
    "action_choices = {\n",
    "    'greeting': ['ask_preferences', 'show_discounts'],\n",
    "    'product_inquiry': ['recommend_product'],\n",
    "    'purchase_decision': ['confirm_purchase'],\n",
    "    'confirm_purchase': ['confirm_purchase'],\n",
    "}"
   ]
  },
  {
   "cell_type": "code",
   "execution_count": 5,
   "metadata": {},
   "outputs": [],
   "source": [
    "# Simulate sessions\n",
    "data = []\n",
    "\n",
    "for session_id in range(1, num_users + 1):\n",
    "    state = 'greeting'\n",
    "    timestamp = datetime(2024, 12, 5, 9, 0, 0) + timedelta(minutes=np.random.randint(0, 1440))  # Random start time\n",
    "    converted = 0\n",
    "\n",
    "    while state != 'terminal':\n",
    "        action = np.random.choice(action_choices[state])  # Choose an action for the state\n",
    "        next_states = list(state_transitions[state].keys())\n",
    "        next_state_probs = list(state_transitions[state].values())\n",
    "        next_state = np.random.choice(next_states, p=next_state_probs)  # Choose next state\n",
    "\n",
    "        # Time lapse for transition\n",
    "        time_lapse = np.random.randint(5, 30)\n",
    "        timestamp += timedelta(seconds=time_lapse)\n",
    "\n",
    "        # Determine conversion at 'confirm_purchase' state\n",
    "        if state == 'confirm_purchase' and next_state == 'terminal':\n",
    "            converted = np.random.choice([0, 1], p=[0.5, 0.5])  # 50% chance of purchase\n",
    "\n",
    "        # Append the row\n",
    "        data.append({\n",
    "            'session_id': session_id,\n",
    "            'timestamp': timestamp,\n",
    "            'state': state,\n",
    "            'action': action,\n",
    "            'next_state': next_state,\n",
    "            'time_lapse': time_lapse,\n",
    "            'converted': converted\n",
    "        })\n",
    "\n",
    "        state = next_state  # Update to the next state"
   ]
  },
  {
   "cell_type": "code",
   "execution_count": 8,
   "metadata": {},
   "outputs": [
    {
     "data": {
      "text/html": [
       "<div>\n",
       "<style scoped>\n",
       "    .dataframe tbody tr th:only-of-type {\n",
       "        vertical-align: middle;\n",
       "    }\n",
       "\n",
       "    .dataframe tbody tr th {\n",
       "        vertical-align: top;\n",
       "    }\n",
       "\n",
       "    .dataframe thead th {\n",
       "        text-align: right;\n",
       "    }\n",
       "</style>\n",
       "<table border=\"1\" class=\"dataframe\">\n",
       "  <thead>\n",
       "    <tr style=\"text-align: right;\">\n",
       "      <th></th>\n",
       "      <th>session_id</th>\n",
       "      <th>timestamp</th>\n",
       "      <th>state</th>\n",
       "      <th>action</th>\n",
       "      <th>next_state</th>\n",
       "      <th>time_lapse</th>\n",
       "      <th>converted</th>\n",
       "    </tr>\n",
       "  </thead>\n",
       "  <tbody>\n",
       "    <tr>\n",
       "      <th>0</th>\n",
       "      <td>1</td>\n",
       "      <td>2024-12-05 11:07:17</td>\n",
       "      <td>greeting</td>\n",
       "      <td>show_discounts</td>\n",
       "      <td>product_inquiry</td>\n",
       "      <td>17</td>\n",
       "      <td>0</td>\n",
       "    </tr>\n",
       "    <tr>\n",
       "      <th>1</th>\n",
       "      <td>1</td>\n",
       "      <td>2024-12-05 11:07:37</td>\n",
       "      <td>product_inquiry</td>\n",
       "      <td>recommend_product</td>\n",
       "      <td>terminal</td>\n",
       "      <td>20</td>\n",
       "      <td>0</td>\n",
       "    </tr>\n",
       "    <tr>\n",
       "      <th>2</th>\n",
       "      <td>2</td>\n",
       "      <td>2024-12-06 05:17:29</td>\n",
       "      <td>greeting</td>\n",
       "      <td>show_discounts</td>\n",
       "      <td>terminal</td>\n",
       "      <td>29</td>\n",
       "      <td>0</td>\n",
       "    </tr>\n",
       "    <tr>\n",
       "      <th>3</th>\n",
       "      <td>3</td>\n",
       "      <td>2024-12-06 08:48:20</td>\n",
       "      <td>greeting</td>\n",
       "      <td>show_discounts</td>\n",
       "      <td>product_inquiry</td>\n",
       "      <td>20</td>\n",
       "      <td>1</td>\n",
       "    </tr>\n",
       "    <tr>\n",
       "      <th>4</th>\n",
       "      <td>3</td>\n",
       "      <td>2024-12-06 08:48:42</td>\n",
       "      <td>product_inquiry</td>\n",
       "      <td>recommend_product</td>\n",
       "      <td>purchase_decision</td>\n",
       "      <td>22</td>\n",
       "      <td>1</td>\n",
       "    </tr>\n",
       "    <tr>\n",
       "      <th>5</th>\n",
       "      <td>3</td>\n",
       "      <td>2024-12-06 08:49:07</td>\n",
       "      <td>purchase_decision</td>\n",
       "      <td>confirm_purchase</td>\n",
       "      <td>confirm_purchase</td>\n",
       "      <td>25</td>\n",
       "      <td>1</td>\n",
       "    </tr>\n",
       "    <tr>\n",
       "      <th>6</th>\n",
       "      <td>3</td>\n",
       "      <td>2024-12-06 08:49:20</td>\n",
       "      <td>confirm_purchase</td>\n",
       "      <td>confirm_purchase</td>\n",
       "      <td>terminal</td>\n",
       "      <td>13</td>\n",
       "      <td>1</td>\n",
       "    </tr>\n",
       "    <tr>\n",
       "      <th>7</th>\n",
       "      <td>4</td>\n",
       "      <td>2024-12-05 18:22:24</td>\n",
       "      <td>greeting</td>\n",
       "      <td>show_discounts</td>\n",
       "      <td>product_inquiry</td>\n",
       "      <td>24</td>\n",
       "      <td>0</td>\n",
       "    </tr>\n",
       "    <tr>\n",
       "      <th>8</th>\n",
       "      <td>4</td>\n",
       "      <td>2024-12-05 18:22:52</td>\n",
       "      <td>product_inquiry</td>\n",
       "      <td>recommend_product</td>\n",
       "      <td>terminal</td>\n",
       "      <td>28</td>\n",
       "      <td>0</td>\n",
       "    </tr>\n",
       "    <tr>\n",
       "      <th>9</th>\n",
       "      <td>5</td>\n",
       "      <td>2024-12-05 13:31:28</td>\n",
       "      <td>greeting</td>\n",
       "      <td>show_discounts</td>\n",
       "      <td>product_inquiry</td>\n",
       "      <td>28</td>\n",
       "      <td>0</td>\n",
       "    </tr>\n",
       "  </tbody>\n",
       "</table>\n",
       "</div>"
      ],
      "text/plain": [
       "   session_id           timestamp              state             action  \\\n",
       "0           1 2024-12-05 11:07:17           greeting     show_discounts   \n",
       "1           1 2024-12-05 11:07:37    product_inquiry  recommend_product   \n",
       "2           2 2024-12-06 05:17:29           greeting     show_discounts   \n",
       "3           3 2024-12-06 08:48:20           greeting     show_discounts   \n",
       "4           3 2024-12-06 08:48:42    product_inquiry  recommend_product   \n",
       "5           3 2024-12-06 08:49:07  purchase_decision   confirm_purchase   \n",
       "6           3 2024-12-06 08:49:20   confirm_purchase   confirm_purchase   \n",
       "7           4 2024-12-05 18:22:24           greeting     show_discounts   \n",
       "8           4 2024-12-05 18:22:52    product_inquiry  recommend_product   \n",
       "9           5 2024-12-05 13:31:28           greeting     show_discounts   \n",
       "\n",
       "          next_state  time_lapse  converted  \n",
       "0    product_inquiry          17          0  \n",
       "1           terminal          20          0  \n",
       "2           terminal          29          0  \n",
       "3    product_inquiry          20          1  \n",
       "4  purchase_decision          22          1  \n",
       "5   confirm_purchase          25          1  \n",
       "6           terminal          13          1  \n",
       "7    product_inquiry          24          0  \n",
       "8           terminal          28          0  \n",
       "9    product_inquiry          28          0  "
      ]
     },
     "metadata": {},
     "output_type": "display_data"
    }
   ],
   "source": [
    "# Create the DataFrame\n",
    "df = pd.DataFrame(data)\n",
    "\n",
    "# Ensure 'converted' is consistent within a session\n",
    "df['converted'] = df.groupby('session_id')['converted'].transform('max')\n",
    "\n",
    "display(df.head(10))\n"
   ]
  },
  {
   "cell_type": "code",
   "execution_count": 9,
   "metadata": {},
   "outputs": [],
   "source": [
    "# Sort by session_id and timestamp to ensure proper sequence\n",
    "df = df.sort_values(by=['session_id', 'timestamp'])\n",
    "\n",
    "# Add the next_state column\n",
    "df['next_state'] = df.groupby('session_id')['state'].shift(-1)\n",
    "\n",
    "# Fill NaN next_state for the last step in each session\n",
    "df['next_state'] = df['next_state'].fillna('terminal')\n",
    "\n",
    "# Add reward column (1 for purchase at the end of session, 0 otherwise)\n",
    "df['reward'] = df.groupby('session_id')['converted'].transform('max')\n"
   ]
  },
  {
   "cell_type": "code",
   "execution_count": 10,
   "metadata": {},
   "outputs": [
    {
     "data": {
      "text/html": [
       "<div>\n",
       "<style scoped>\n",
       "    .dataframe tbody tr th:only-of-type {\n",
       "        vertical-align: middle;\n",
       "    }\n",
       "\n",
       "    .dataframe tbody tr th {\n",
       "        vertical-align: top;\n",
       "    }\n",
       "\n",
       "    .dataframe thead th {\n",
       "        text-align: right;\n",
       "    }\n",
       "</style>\n",
       "<table border=\"1\" class=\"dataframe\">\n",
       "  <thead>\n",
       "    <tr style=\"text-align: right;\">\n",
       "      <th></th>\n",
       "      <th>session_id</th>\n",
       "      <th>timestamp</th>\n",
       "      <th>state</th>\n",
       "      <th>action</th>\n",
       "      <th>next_state</th>\n",
       "      <th>time_lapse</th>\n",
       "      <th>converted</th>\n",
       "      <th>reward</th>\n",
       "    </tr>\n",
       "  </thead>\n",
       "  <tbody>\n",
       "    <tr>\n",
       "      <th>0</th>\n",
       "      <td>1</td>\n",
       "      <td>2024-12-05 11:07:17</td>\n",
       "      <td>greeting</td>\n",
       "      <td>show_discounts</td>\n",
       "      <td>product_inquiry</td>\n",
       "      <td>17</td>\n",
       "      <td>0</td>\n",
       "      <td>0</td>\n",
       "    </tr>\n",
       "    <tr>\n",
       "      <th>1</th>\n",
       "      <td>1</td>\n",
       "      <td>2024-12-05 11:07:37</td>\n",
       "      <td>product_inquiry</td>\n",
       "      <td>recommend_product</td>\n",
       "      <td>terminal</td>\n",
       "      <td>20</td>\n",
       "      <td>0</td>\n",
       "      <td>0</td>\n",
       "    </tr>\n",
       "    <tr>\n",
       "      <th>2</th>\n",
       "      <td>2</td>\n",
       "      <td>2024-12-06 05:17:29</td>\n",
       "      <td>greeting</td>\n",
       "      <td>show_discounts</td>\n",
       "      <td>terminal</td>\n",
       "      <td>29</td>\n",
       "      <td>0</td>\n",
       "      <td>0</td>\n",
       "    </tr>\n",
       "    <tr>\n",
       "      <th>3</th>\n",
       "      <td>3</td>\n",
       "      <td>2024-12-06 08:48:20</td>\n",
       "      <td>greeting</td>\n",
       "      <td>show_discounts</td>\n",
       "      <td>product_inquiry</td>\n",
       "      <td>20</td>\n",
       "      <td>1</td>\n",
       "      <td>1</td>\n",
       "    </tr>\n",
       "    <tr>\n",
       "      <th>4</th>\n",
       "      <td>3</td>\n",
       "      <td>2024-12-06 08:48:42</td>\n",
       "      <td>product_inquiry</td>\n",
       "      <td>recommend_product</td>\n",
       "      <td>purchase_decision</td>\n",
       "      <td>22</td>\n",
       "      <td>1</td>\n",
       "      <td>1</td>\n",
       "    </tr>\n",
       "    <tr>\n",
       "      <th>5</th>\n",
       "      <td>3</td>\n",
       "      <td>2024-12-06 08:49:07</td>\n",
       "      <td>purchase_decision</td>\n",
       "      <td>confirm_purchase</td>\n",
       "      <td>confirm_purchase</td>\n",
       "      <td>25</td>\n",
       "      <td>1</td>\n",
       "      <td>1</td>\n",
       "    </tr>\n",
       "    <tr>\n",
       "      <th>6</th>\n",
       "      <td>3</td>\n",
       "      <td>2024-12-06 08:49:20</td>\n",
       "      <td>confirm_purchase</td>\n",
       "      <td>confirm_purchase</td>\n",
       "      <td>terminal</td>\n",
       "      <td>13</td>\n",
       "      <td>1</td>\n",
       "      <td>1</td>\n",
       "    </tr>\n",
       "    <tr>\n",
       "      <th>7</th>\n",
       "      <td>4</td>\n",
       "      <td>2024-12-05 18:22:24</td>\n",
       "      <td>greeting</td>\n",
       "      <td>show_discounts</td>\n",
       "      <td>product_inquiry</td>\n",
       "      <td>24</td>\n",
       "      <td>0</td>\n",
       "      <td>0</td>\n",
       "    </tr>\n",
       "    <tr>\n",
       "      <th>8</th>\n",
       "      <td>4</td>\n",
       "      <td>2024-12-05 18:22:52</td>\n",
       "      <td>product_inquiry</td>\n",
       "      <td>recommend_product</td>\n",
       "      <td>terminal</td>\n",
       "      <td>28</td>\n",
       "      <td>0</td>\n",
       "      <td>0</td>\n",
       "    </tr>\n",
       "    <tr>\n",
       "      <th>9</th>\n",
       "      <td>5</td>\n",
       "      <td>2024-12-05 13:31:28</td>\n",
       "      <td>greeting</td>\n",
       "      <td>show_discounts</td>\n",
       "      <td>product_inquiry</td>\n",
       "      <td>28</td>\n",
       "      <td>0</td>\n",
       "      <td>0</td>\n",
       "    </tr>\n",
       "  </tbody>\n",
       "</table>\n",
       "</div>"
      ],
      "text/plain": [
       "   session_id           timestamp              state             action  \\\n",
       "0           1 2024-12-05 11:07:17           greeting     show_discounts   \n",
       "1           1 2024-12-05 11:07:37    product_inquiry  recommend_product   \n",
       "2           2 2024-12-06 05:17:29           greeting     show_discounts   \n",
       "3           3 2024-12-06 08:48:20           greeting     show_discounts   \n",
       "4           3 2024-12-06 08:48:42    product_inquiry  recommend_product   \n",
       "5           3 2024-12-06 08:49:07  purchase_decision   confirm_purchase   \n",
       "6           3 2024-12-06 08:49:20   confirm_purchase   confirm_purchase   \n",
       "7           4 2024-12-05 18:22:24           greeting     show_discounts   \n",
       "8           4 2024-12-05 18:22:52    product_inquiry  recommend_product   \n",
       "9           5 2024-12-05 13:31:28           greeting     show_discounts   \n",
       "\n",
       "          next_state  time_lapse  converted  reward  \n",
       "0    product_inquiry          17          0       0  \n",
       "1           terminal          20          0       0  \n",
       "2           terminal          29          0       0  \n",
       "3    product_inquiry          20          1       1  \n",
       "4  purchase_decision          22          1       1  \n",
       "5   confirm_purchase          25          1       1  \n",
       "6           terminal          13          1       1  \n",
       "7    product_inquiry          24          0       0  \n",
       "8           terminal          28          0       0  \n",
       "9    product_inquiry          28          0       0  "
      ]
     },
     "execution_count": 10,
     "metadata": {},
     "output_type": "execute_result"
    }
   ],
   "source": [
    "df.head(10)"
   ]
  },
  {
   "cell_type": "markdown",
   "metadata": {},
   "source": [
    "## Implementing Q-learning"
   ]
  },
  {
   "cell_type": "code",
   "execution_count": 11,
   "metadata": {},
   "outputs": [],
   "source": [
    "# Encode states and actions\n",
    "unique_states = df['state'].unique()\n",
    "unique_actions = df['action'].unique()\n",
    "\n",
    "state_to_index = {state: idx for idx, state in enumerate(unique_states)}\n",
    "action_to_index = {action: idx for idx, action in enumerate(unique_actions)}\n",
    "\n",
    "num_states = len(unique_states)\n",
    "num_actions = len(unique_actions)"
   ]
  },
  {
   "cell_type": "code",
   "execution_count": 21,
   "metadata": {},
   "outputs": [
    {
     "data": {
      "text/plain": [
       "array([[0., 0., 0., 0.],\n",
       "       [0., 0., 0., 0.],\n",
       "       [0., 0., 0., 0.],\n",
       "       [0., 0., 0., 0.]])"
      ]
     },
     "execution_count": 21,
     "metadata": {},
     "output_type": "execute_result"
    }
   ],
   "source": [
    "# Initialize Q-table\n",
    "Q_table = np.zeros((num_states, num_actions))\n",
    "Q_table"
   ]
  },
  {
   "cell_type": "code",
   "execution_count": 22,
   "metadata": {},
   "outputs": [
    {
     "data": {
      "text/plain": [
       "array(['greeting', 'product_inquiry', 'purchase_decision',\n",
       "       'confirm_purchase'], dtype=object)"
      ]
     },
     "execution_count": 22,
     "metadata": {},
     "output_type": "execute_result"
    }
   ],
   "source": [
    "unique_states"
   ]
  },
  {
   "cell_type": "code",
   "execution_count": 23,
   "metadata": {},
   "outputs": [
    {
     "data": {
      "text/plain": [
       "array(['show_discounts', 'recommend_product', 'confirm_purchase',\n",
       "       'ask_preferences'], dtype=object)"
      ]
     },
     "execution_count": 23,
     "metadata": {},
     "output_type": "execute_result"
    }
   ],
   "source": [
    "unique_actions"
   ]
  },
  {
   "cell_type": "code",
   "execution_count": 24,
   "metadata": {},
   "outputs": [],
   "source": [
    "alpha = 0.1    # Learning rate\n",
    "gamma = 0.9    # Discount factor\n",
    "epsilon = 0.2  # Exploration rate"
   ]
  },
  {
   "cell_type": "code",
   "execution_count": 29,
   "metadata": {},
   "outputs": [],
   "source": [
    "num_episodes = 100"
   ]
  },
  {
   "cell_type": "code",
   "execution_count": 30,
   "metadata": {},
   "outputs": [
    {
     "name": "stderr",
     "output_type": "stream",
     "text": [
      "100%|██████████| 100/100 [09:22<00:00,  5.62s/it]\n"
     ]
    }
   ],
   "source": [
    "for episode in tqdm(range(num_episodes)):\n",
    "    for session_id, session_data in df.groupby('session_id'):\n",
    "        for idx, row in session_data.iterrows():\n",
    "            state = state_to_index[row['state']]\n",
    "            action = action_to_index[row['action']]\n",
    "            \n",
    "            # Handle next_state\n",
    "            if row['next_state'] == 'terminal':\n",
    "                next_state = None\n",
    "                max_future_q = 0  # No future reward for terminal state\n",
    "            else:\n",
    "                next_state = state_to_index[row['next_state']]\n",
    "                max_future_q = np.max(Q_table[next_state, :])\n",
    "            \n",
    "            # Reward\n",
    "            reward = row['reward']\n",
    "            \n",
    "            # Update Q-value\n",
    "            current_q = Q_table[state, action]\n",
    "            Q_table[state, action] = current_q + alpha * (reward + gamma * max_future_q - current_q)"
   ]
  },
  {
   "cell_type": "code",
   "execution_count": 31,
   "metadata": {},
   "outputs": [
    {
     "data": {
      "text/plain": [
       "array([[0.71855699, 0.        , 0.        , 0.67727574],\n",
       "       [0.        , 0.55906513, 0.        , 0.        ],\n",
       "       [0.        , 0.        , 0.53345576, 0.        ],\n",
       "       [0.        , 0.        , 0.46919235, 0.        ]])"
      ]
     },
     "execution_count": 31,
     "metadata": {},
     "output_type": "execute_result"
    }
   ],
   "source": [
    "Q_table"
   ]
  },
  {
   "cell_type": "code",
   "execution_count": 32,
   "metadata": {},
   "outputs": [
    {
     "data": {
      "text/plain": [
       "{'greeting': 0,\n",
       " 'product_inquiry': 1,\n",
       " 'purchase_decision': 2,\n",
       " 'confirm_purchase': 2}"
      ]
     },
     "execution_count": 32,
     "metadata": {},
     "output_type": "execute_result"
    }
   ],
   "source": [
    "optimal_policy = {state: np.argmax(Q_table[state_to_index[state], :]) for state in unique_states}\n",
    "optimal_policy"
   ]
  },
  {
   "cell_type": "code",
   "execution_count": 34,
   "metadata": {},
   "outputs": [
    {
     "data": {
      "text/plain": [
       "{0: 'ask_preferences',\n",
       " 1: 'recommend_product',\n",
       " 2: 'show_discounts',\n",
       " 3: 'confirm_purchase'}"
      ]
     },
     "execution_count": 34,
     "metadata": {},
     "output_type": "execute_result"
    }
   ],
   "source": [
    "# Example mapping\n",
    "state_to_index = {'greeting': 0, 'product_inquiry': 1, 'purchase_decision': 2, 'confirm_purchase': 3}\n",
    "action_to_index = {'ask_preferences': 0, 'recommend_product': 1, 'show_discounts': 2, 'confirm_purchase': 3}\n",
    "\n",
    "# Reverse mapping for output\n",
    "index_to_action = {idx: action for action, idx in action_to_index.items()}\n",
    "index_to_action"
   ]
  },
  {
   "cell_type": "code",
   "execution_count": 35,
   "metadata": {},
   "outputs": [],
   "source": [
    "# Function to infer action\n",
    "def infer_action(state, Q_table, epsilon=0.0):\n",
    "    \"\"\"\n",
    "    Infer the best action for a given state using the Q-matrix.\n",
    "    Args:\n",
    "        state (str): Current state.\n",
    "        Q_table (numpy array): Trained Q-matrix.\n",
    "        epsilon (float): Exploration rate for random actions.\n",
    "    Returns:\n",
    "        str: Inferred action.\n",
    "    \"\"\"\n",
    "    state_idx = state_to_index[state]\n",
    "    \n",
    "    if np.random.rand() < epsilon:  # Exploration\n",
    "        action_idx = np.random.choice(Q_table.shape[1])\n",
    "    else:  # Exploitation\n",
    "        action_idx = np.argmax(Q_table[state_idx, :])\n",
    "    \n",
    "    return index_to_action[action_idx]"
   ]
  },
  {
   "cell_type": "code",
   "execution_count": 36,
   "metadata": {},
   "outputs": [
    {
     "name": "stdout",
     "output_type": "stream",
     "text": [
      "For state 'product_inquiry', the recommended action is 'recommend_product'.\n"
     ]
    }
   ],
   "source": [
    "# Example usage for a new state\n",
    "new_state = 'product_inquiry'\n",
    "best_action = infer_action(new_state, Q_table)\n",
    "print(f\"For state '{new_state}', the recommended action is '{best_action}'.\")\n"
   ]
  },
  {
   "cell_type": "code",
   "execution_count": 37,
   "metadata": {},
   "outputs": [],
   "source": [
    "def simulate_session(start_state, Q_table):\n",
    "    \"\"\"\n",
    "    Simulate a chatbot session using the Q-matrix.\n",
    "    Args:\n",
    "        start_state (str): Initial state.\n",
    "        Q_table (numpy array): Trained Q-matrix.\n",
    "    Returns:\n",
    "        list of tuples: Sequence of (state, action).\n",
    "    \"\"\"\n",
    "    session_sequence = []\n",
    "    state = start_state\n",
    "    \n",
    "    while state != 'terminal':\n",
    "        action = infer_action(state, Q_table)\n",
    "        session_sequence.append((state, action))\n",
    "        \n",
    "        # Simulate state transition based on action (can use real transition rules)\n",
    "        next_states = list(state_transitions[state].keys())\n",
    "        next_state_probs = list(state_transitions[state].values())\n",
    "        state = np.random.choice(next_states, p=next_state_probs)\n",
    "    \n",
    "    return session_sequence"
   ]
  },
  {
   "cell_type": "code",
   "execution_count": 54,
   "metadata": {},
   "outputs": [
    {
     "name": "stdout",
     "output_type": "stream",
     "text": [
      "[('greeting', 'ask_preferences'), ('product_inquiry', 'recommend_product'), ('purchase_decision', 'show_discounts')]\n"
     ]
    }
   ],
   "source": [
    "# Example session simulation\n",
    "simulated_session = simulate_session('greeting', Q_table)\n",
    "print(simulated_session)"
   ]
  },
  {
   "cell_type": "code",
   "execution_count": 55,
   "metadata": {},
   "outputs": [
    {
     "data": {
      "text/plain": [
       "array([[0.71855699, 0.        , 0.        , 0.67727574],\n",
       "       [0.        , 0.55906513, 0.        , 0.        ],\n",
       "       [0.        , 0.        , 0.53345576, 0.        ],\n",
       "       [0.        , 0.        , 0.46919235, 0.        ]])"
      ]
     },
     "execution_count": 55,
     "metadata": {},
     "output_type": "execute_result"
    }
   ],
   "source": [
    "Q_table"
   ]
  },
  {
   "cell_type": "code",
   "execution_count": 56,
   "metadata": {},
   "outputs": [],
   "source": [
    "import seaborn as sns\n",
    "import matplotlib.pyplot as plt"
   ]
  },
  {
   "cell_type": "code",
   "execution_count": 57,
   "metadata": {},
   "outputs": [
    {
     "data": {
      "image/png": "[encoded data removed]",
      "text/plain": [
       "<Figure size 1000x800 with 2 Axes>"
      ]
     },
     "metadata": {},
     "output_type": "display_data"
    }
   ],
   "source": [
    "# Create the heatmap\n",
    "plt.figure(figsize=(10, 8))\n",
    "sns.heatmap(Q_table, annot=True, fmt=\".2f\", cmap=\"viridis\", xticklabels=actions, yticklabels=states)\n",
    "plt.title(\"Q-Matrix Heatmap\")\n",
    "plt.xlabel(\"Actions\")\n",
    "plt.ylabel(\"States\")\n",
    "plt.show()\n"
   ]
  },
  {
   "cell_type": "code",
   "execution_count": null,
   "metadata": {},
   "outputs": [],
   "source": []
  }
 ],
 "metadata": {
  "kernelspec": {
   "display_name": "zanalytics",
   "language": "python",
   "name": "python3"
  },
  "language_info": {
   "codemirror_mode": {
    "name": "ipython",
    "version": 3
   },
   "file_extension": ".py",
   "mimetype": "text/x-python",
   "name": "python",
   "nbconvert_exporter": "python",
   "pygments_lexer": "ipython3",
   "version": "3.12.6"
  }
 },
 "nbformat": 4,
 "nbformat_minor": 2
}
