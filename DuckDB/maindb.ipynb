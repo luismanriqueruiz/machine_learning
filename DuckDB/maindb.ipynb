{
 "cells": [
  {
   "cell_type": "code",
   "execution_count": 1,
   "metadata": {},
   "outputs": [],
   "source": [
    "# env:duckdb_env\n",
    "import duckdb"
   ]
  },
  {
   "cell_type": "code",
   "execution_count": 8,
   "metadata": {},
   "outputs": [],
   "source": [
    "path = '/home/luis-carlos/Documents/experiments/active_learning/cosmetics/cosmetics_all_data.csv'\n",
    "#path = 'all_data_summary.csv'"
   ]
  },
  {
   "cell_type": "code",
   "execution_count": 11,
   "metadata": {},
   "outputs": [
    {
     "data": {
      "text/plain": [
       "\"SELECT brand, mean(price) FROM '/home/luis-carlos/Documents/experiments/active_learning/cosmetics/cosmetics_all_data.csv' GROUP BY brand\""
      ]
     },
     "execution_count": 11,
     "metadata": {},
     "output_type": "execute_result"
    }
   ],
   "source": [
    "query = f'SELECT brand, mean(price) FROM \\'{path}\\' GROUP BY brand'\n",
    "query"
   ]
  },
  {
   "cell_type": "code",
   "execution_count": 12,
   "metadata": {},
   "outputs": [
    {
     "data": {
      "text/plain": [
       "┌───────────┬────────────────────┐\n",
       "│   brand   │    mean(price)     │\n",
       "│  varchar  │       double       │\n",
       "├───────────┼────────────────────┤\n",
       "│ runail    │  6.130399409251715 │\n",
       "│ mavala    │ 10.358844806007482 │\n",
       "│ irisk     │  6.509678851516922 │\n",
       "│ jessnail  │  40.26712702968486 │\n",
       "│ rosi      │  5.143586834166178 │\n",
       "│ pnb       │  6.706807861814234 │\n",
       "│ italwax   │  8.565582296038066 │\n",
       "│ beautix   │  12.30491121702047 │\n",
       "│ kinetics  │  9.944209195242365 │\n",
       "│ metzger   │  7.806187135115182 │\n",
       "│   ·       │          ·         │\n",
       "│   ·       │          ·         │\n",
       "│   ·       │          ·         │\n",
       "│ greymy    │ 31.136389891696766 │\n",
       "│ nova      │  5.525714285714286 │\n",
       "│ ecocraft  │  7.462818078237746 │\n",
       "│ estrade   │  5.342367123287693 │\n",
       "│ babyliss  │  72.97396921123539 │\n",
       "│ herbolive │ 13.102295390404494 │\n",
       "│ kondor    │  61.21826839826827 │\n",
       "│ termix    │ 24.956960408684566 │\n",
       "│ resize    │ 13.115639097744358 │\n",
       "│ pueen     │               6.98 │\n",
       "├───────────┴────────────────────┤\n",
       "│ 274 rows (20 shown)  2 columns │\n",
       "└────────────────────────────────┘"
      ]
     },
     "execution_count": 12,
     "metadata": {},
     "output_type": "execute_result"
    }
   ],
   "source": [
    "duckdb.sql(query)"
   ]
  },
  {
   "cell_type": "code",
   "execution_count": null,
   "metadata": {},
   "outputs": [],
   "source": [
    "curl -s -XPOST -H 'Content-Type: application/json' localhost:8000/v1/chat/completions -d '{\"messages\": [{\"role\": \"user\", \"content\": \"Who are you?\"}]}' | jq "
   ]
  }
 ],
 "metadata": {
  "kernelspec": {
   "display_name": "duckdb_env",
   "language": "python",
   "name": "python3"
  },
  "language_info": {
   "codemirror_mode": {
    "name": "ipython",
    "version": 3
   },
   "file_extension": ".py",
   "mimetype": "text/x-python",
   "name": "python",
   "nbconvert_exporter": "python",
   "pygments_lexer": "ipython3",
   "version": "3.12.3"
  }
 },
 "nbformat": 4,
 "nbformat_minor": 2
}
