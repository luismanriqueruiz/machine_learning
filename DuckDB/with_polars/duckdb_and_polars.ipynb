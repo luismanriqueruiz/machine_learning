{
 "cells": [
  {
   "cell_type": "code",
   "execution_count": 1,
   "id": "7af55da1",
   "metadata": {},
   "outputs": [],
   "source": [
    "import duckdb\n",
    "import polars as pl"
   ]
  },
  {
   "cell_type": "code",
   "execution_count": 2,
   "id": "3fc7269d",
   "metadata": {},
   "outputs": [],
   "source": [
    "# 1. Use DuckDB to query the files without loading them into memory\n",
    "con = duckdb.connect()\n",
    "\n",
    "query = \"\"\"\n",
    "SELECT \n",
    "    t.user_id,\n",
    "    u.name,\n",
    "    t.amount\n",
    "FROM \n",
    "    'transactions.parquet' t\n",
    "JOIN \n",
    "    'users.parquet' u \n",
    "ON \n",
    "    t.user_id = u.user_id\n",
    "WHERE \n",
    "    u.country = 'Japan'\n",
    "    AND SUBSTR(t.timestamp, 1, 4) = '2024'\n",
    "\"\"\"\n",
    "\n",
    "# Run query and get the result as a Polars DataFrame\n",
    "df_duck = con.execute(query).pl()"
   ]
  },
  {
   "cell_type": "code",
   "execution_count": 3,
   "id": "8803881d",
   "metadata": {},
   "outputs": [
    {
     "data": {
      "text/html": [
       "<div><style>\n",
       ".dataframe > thead > tr,\n",
       ".dataframe > tbody > tr {\n",
       "  text-align: right;\n",
       "  white-space: pre-wrap;\n",
       "}\n",
       "</style>\n",
       "<small>shape: (108, 3)</small><table border=\"1\" class=\"dataframe\"><thead><tr><th>user_id</th><th>name</th><th>amount</th></tr><tr><td>i64</td><td>str</td><td>f64</td></tr></thead><tbody><tr><td>32</td><td>&quot;User_32&quot;</td><td>923.17</td></tr><tr><td>62</td><td>&quot;User_62&quot;</td><td>1348.27</td></tr><tr><td>30</td><td>&quot;User_30&quot;</td><td>295.31</td></tr><tr><td>62</td><td>&quot;User_62&quot;</td><td>1184.72</td></tr><tr><td>27</td><td>&quot;User_27&quot;</td><td>237.59</td></tr><tr><td>&hellip;</td><td>&hellip;</td><td>&hellip;</td></tr><tr><td>30</td><td>&quot;User_30&quot;</td><td>1112.08</td></tr><tr><td>78</td><td>&quot;User_78&quot;</td><td>600.3</td></tr><tr><td>72</td><td>&quot;User_72&quot;</td><td>222.53</td></tr><tr><td>14</td><td>&quot;User_14&quot;</td><td>1766.8</td></tr><tr><td>38</td><td>&quot;User_38&quot;</td><td>1979.15</td></tr></tbody></table></div>"
      ],
      "text/plain": [
       "shape: (108, 3)\n",
       "┌─────────┬─────────┬─────────┐\n",
       "│ user_id ┆ name    ┆ amount  │\n",
       "│ ---     ┆ ---     ┆ ---     │\n",
       "│ i64     ┆ str     ┆ f64     │\n",
       "╞═════════╪═════════╪═════════╡\n",
       "│ 32      ┆ User_32 ┆ 923.17  │\n",
       "│ 62      ┆ User_62 ┆ 1348.27 │\n",
       "│ 30      ┆ User_30 ┆ 295.31  │\n",
       "│ 62      ┆ User_62 ┆ 1184.72 │\n",
       "│ 27      ┆ User_27 ┆ 237.59  │\n",
       "│ …       ┆ …       ┆ …       │\n",
       "│ 30      ┆ User_30 ┆ 1112.08 │\n",
       "│ 78      ┆ User_78 ┆ 600.3   │\n",
       "│ 72      ┆ User_72 ┆ 222.53  │\n",
       "│ 14      ┆ User_14 ┆ 1766.8  │\n",
       "│ 38      ┆ User_38 ┆ 1979.15 │\n",
       "└─────────┴─────────┴─────────┘"
      ]
     },
     "execution_count": 3,
     "metadata": {},
     "output_type": "execute_result"
    }
   ],
   "source": [
    "df_duck"
   ]
  },
  {
   "cell_type": "code",
   "execution_count": 4,
   "id": "b86c9efc",
   "metadata": {},
   "outputs": [
    {
     "data": {
      "text/plain": [
       "polars.dataframe.frame.DataFrame"
      ]
     },
     "execution_count": 4,
     "metadata": {},
     "output_type": "execute_result"
    }
   ],
   "source": [
    "type(df_duck)"
   ]
  },
  {
   "cell_type": "code",
   "execution_count": 5,
   "id": "e1aba9da",
   "metadata": {},
   "outputs": [
    {
     "name": "stdout",
     "output_type": "stream",
     "text": [
      "shape: (33, 2)\n",
      "┌─────────┬─────────────┐\n",
      "│ name    ┆ total_spent │\n",
      "│ ---     ┆ ---         │\n",
      "│ str     ┆ f64         │\n",
      "╞═════════╪═════════════╡\n",
      "│ User_33 ┆ 7291.23     │\n",
      "│ User_38 ┆ 6485.24     │\n",
      "│ User_69 ┆ 6308.2      │\n",
      "│ User_32 ┆ 6039.16     │\n",
      "│ User_62 ┆ 4820.92     │\n",
      "│ …       ┆ …           │\n",
      "│ User_16 ┆ 1741.61     │\n",
      "│ User_15 ┆ 1634.05     │\n",
      "│ User_65 ┆ 1114.69     │\n",
      "│ User_43 ┆ 862.54      │\n",
      "│ User_20 ┆ 585.29      │\n",
      "└─────────┴─────────────┘\n"
     ]
    }
   ],
   "source": [
    "# 2. Use Polars for fast aggregation\n",
    "df_polars = (\n",
    "    df_duck\n",
    "    .group_by(\"name\")\n",
    "    .agg(pl.col(\"amount\").sum().alias(\"total_spent\"))\n",
    "    .sort(\"total_spent\", descending=True)\n",
    ")\n",
    "\n",
    "print(df_polars)"
   ]
  },
  {
   "cell_type": "code",
   "execution_count": null,
   "id": "119789f7",
   "metadata": {},
   "outputs": [],
   "source": []
  }
 ],
 "metadata": {
  "kernelspec": {
   "display_name": "zanalytics",
   "language": "python",
   "name": "python3"
  },
  "language_info": {
   "codemirror_mode": {
    "name": "ipython",
    "version": 3
   },
   "file_extension": ".py",
   "mimetype": "text/x-python",
   "name": "python",
   "nbconvert_exporter": "python",
   "pygments_lexer": "ipython3",
   "version": "3.12.6"
  }
 },
 "nbformat": 4,
 "nbformat_minor": 5
}
