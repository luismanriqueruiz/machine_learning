{
 "cells": [
  {
   "cell_type": "code",
   "execution_count": 1,
   "id": "45e50fe8",
   "metadata": {},
   "outputs": [],
   "source": [
    "# env: zanalytics\n",
    "import polars as pl\n",
    "import numpy as np\n",
    "import random\n",
    "from datetime import datetime, timedelta"
   ]
  },
  {
   "cell_type": "code",
   "execution_count": 2,
   "id": "31932c35",
   "metadata": {},
   "outputs": [],
   "source": [
    "# Set seed for reproducibility\n",
    "np.random.seed(42)\n",
    "random.seed(42)"
   ]
  },
  {
   "cell_type": "code",
   "execution_count": 3,
   "id": "4df23e23",
   "metadata": {},
   "outputs": [
    {
     "data": {
      "text/html": [
       "<div><style>\n",
       ".dataframe > thead > tr,\n",
       ".dataframe > tbody > tr {\n",
       "  text-align: right;\n",
       "  white-space: pre-wrap;\n",
       "}\n",
       "</style>\n",
       "<small>shape: (5, 3)</small><table border=\"1\" class=\"dataframe\"><thead><tr><th>user_id</th><th>name</th><th>country</th></tr><tr><td>i64</td><td>str</td><td>str</td></tr></thead><tbody><tr><td>1</td><td>&quot;User_1&quot;</td><td>&quot;USA&quot;</td></tr><tr><td>2</td><td>&quot;User_2&quot;</td><td>&quot;Brazil&quot;</td></tr><tr><td>3</td><td>&quot;User_3&quot;</td><td>&quot;Germany&quot;</td></tr><tr><td>4</td><td>&quot;User_4&quot;</td><td>&quot;USA&quot;</td></tr><tr><td>5</td><td>&quot;User_5&quot;</td><td>&quot;Japan&quot;</td></tr></tbody></table></div>"
      ],
      "text/plain": [
       "shape: (5, 3)\n",
       "┌─────────┬────────┬─────────┐\n",
       "│ user_id ┆ name   ┆ country │\n",
       "│ ---     ┆ ---    ┆ ---     │\n",
       "│ i64     ┆ str    ┆ str     │\n",
       "╞═════════╪════════╪═════════╡\n",
       "│ 1       ┆ User_1 ┆ USA     │\n",
       "│ 2       ┆ User_2 ┆ Brazil  │\n",
       "│ 3       ┆ User_3 ┆ Germany │\n",
       "│ 4       ┆ User_4 ┆ USA     │\n",
       "│ 5       ┆ User_5 ┆ Japan   │\n",
       "└─────────┴────────┴─────────┘"
      ]
     },
     "metadata": {},
     "output_type": "display_data"
    }
   ],
   "source": [
    "# 1. Generate users DataFrame\n",
    "n_users = 100\n",
    "user_ids = np.arange(1, n_users + 1)\n",
    "names = [f\"User_{i}\" for i in user_ids]\n",
    "countries = np.random.choice([\"Japan\", \"USA\", \"Germany\", \"Brazil\"], size=n_users, p=[0.3, 0.3, 0.2, 0.2])\n",
    "\n",
    "users_df = pl.DataFrame({\n",
    "    \"user_id\": user_ids,\n",
    "    \"name\": names,\n",
    "    \"country\": countries\n",
    "})\n",
    "\n",
    "display(users_df.head())\n",
    "\n",
    "# Save to Parquet\n",
    "users_df.write_parquet(\"users.parquet\")"
   ]
  },
  {
   "cell_type": "code",
   "execution_count": 4,
   "id": "f8647400",
   "metadata": {},
   "outputs": [],
   "source": [
    "# 2. Generate transactions DataFrame\n",
    "n_transactions = 1000\n",
    "transaction_user_ids = np.random.choice(user_ids, size=n_transactions)\n",
    "products = np.random.choice([\"TV\", \"Laptop\", \"Phone\", \"Camera\"], size=n_transactions)\n",
    "amounts = np.round(np.random.uniform(100, 2000, size=n_transactions), 2)\n",
    "\n",
    "# Generate random dates from 2023 to 2025\n",
    "def random_date(start_year=2023, end_year=2025):\n",
    "    start_date = datetime(start_year, 1, 1)\n",
    "    end_date = datetime(end_year, 12, 31)\n",
    "    delta = end_date - start_date\n",
    "    return start_date + timedelta(days=random.randint(0, delta.days))"
   ]
  },
  {
   "cell_type": "code",
   "execution_count": 5,
   "id": "1b89fd11",
   "metadata": {},
   "outputs": [
    {
     "data": {
      "text/html": [
       "<div><style>\n",
       ".dataframe > thead > tr,\n",
       ".dataframe > tbody > tr {\n",
       "  text-align: right;\n",
       "  white-space: pre-wrap;\n",
       "}\n",
       "</style>\n",
       "<small>shape: (5, 4)</small><table border=\"1\" class=\"dataframe\"><thead><tr><th>user_id</th><th>product</th><th>amount</th><th>timestamp</th></tr><tr><td>i64</td><td>str</td><td>f64</td><td>str</td></tr></thead><tbody><tr><td>63</td><td>&quot;Phone&quot;</td><td>452.37</td><td>&quot;2023-08-17T00:00:00&quot;</td></tr><tr><td>96</td><td>&quot;Phone&quot;</td><td>977.98</td><td>&quot;2023-02-21T00:00:00&quot;</td></tr><tr><td>52</td><td>&quot;Laptop&quot;</td><td>102.34</td><td>&quot;2024-07-17T00:00:00&quot;</td></tr><tr><td>96</td><td>&quot;Laptop&quot;</td><td>1236.82</td><td>&quot;2024-05-16T00:00:00&quot;</td></tr><tr><td>4</td><td>&quot;Phone&quot;</td><td>1253.88</td><td>&quot;2024-04-02T00:00:00&quot;</td></tr></tbody></table></div>"
      ],
      "text/plain": [
       "shape: (5, 4)\n",
       "┌─────────┬─────────┬─────────┬─────────────────────┐\n",
       "│ user_id ┆ product ┆ amount  ┆ timestamp           │\n",
       "│ ---     ┆ ---     ┆ ---     ┆ ---                 │\n",
       "│ i64     ┆ str     ┆ f64     ┆ str                 │\n",
       "╞═════════╪═════════╪═════════╪═════════════════════╡\n",
       "│ 63      ┆ Phone   ┆ 452.37  ┆ 2023-08-17T00:00:00 │\n",
       "│ 96      ┆ Phone   ┆ 977.98  ┆ 2023-02-21T00:00:00 │\n",
       "│ 52      ┆ Laptop  ┆ 102.34  ┆ 2024-07-17T00:00:00 │\n",
       "│ 96      ┆ Laptop  ┆ 1236.82 ┆ 2024-05-16T00:00:00 │\n",
       "│ 4       ┆ Phone   ┆ 1253.88 ┆ 2024-04-02T00:00:00 │\n",
       "└─────────┴─────────┴─────────┴─────────────────────┘"
      ]
     },
     "metadata": {},
     "output_type": "display_data"
    }
   ],
   "source": [
    "timestamps = [random_date().isoformat() for _ in range(n_transactions)]\n",
    "\n",
    "transactions_df = pl.DataFrame({\n",
    "    \"user_id\": transaction_user_ids,\n",
    "    \"product\": products,\n",
    "    \"amount\": amounts,\n",
    "    \"timestamp\": timestamps\n",
    "})\n",
    "\n",
    "display(transactions_df.head())\n",
    "\n",
    "# Save to Parquet\n",
    "transactions_df.write_parquet(\"transactions.parquet\")"
   ]
  }
 ],
 "metadata": {
  "kernelspec": {
   "display_name": "zanalytics",
   "language": "python",
   "name": "python3"
  },
  "language_info": {
   "codemirror_mode": {
    "name": "ipython",
    "version": 3
   },
   "file_extension": ".py",
   "mimetype": "text/x-python",
   "name": "python",
   "nbconvert_exporter": "python",
   "pygments_lexer": "ipython3",
   "version": "3.12.6"
  }
 },
 "nbformat": 4,
 "nbformat_minor": 5
}
