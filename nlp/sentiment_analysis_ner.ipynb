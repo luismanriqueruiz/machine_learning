{
 "cells": [
  {
   "cell_type": "code",
   "execution_count": 1,
   "metadata": {},
   "outputs": [],
   "source": [
    "import pandas as pd\n",
    "import json\n",
    "\n",
    "import matplotlib.pyplot as plt\n",
    "import seaborn as sns"
   ]
  },
  {
   "cell_type": "code",
   "execution_count": 2,
   "metadata": {},
   "outputs": [],
   "source": [
    "path = './data/reviews/renttherunway_final_data.json'"
   ]
  },
  {
   "cell_type": "code",
   "execution_count": 3,
   "metadata": {},
   "outputs": [],
   "source": [
    "column_data = []\n",
    "with open(path) as f:\n",
    "    for line in f:\n",
    "        try:\n",
    "            data_json = json.loads(line)\n",
    "            column_data.append(data_json)\n",
    "        except:\n",
    "            pass"
   ]
  },
  {
   "cell_type": "code",
   "execution_count": 4,
   "metadata": {},
   "outputs": [
    {
     "data": {
      "text/html": [
       "<div>\n",
       "<style scoped>\n",
       "    .dataframe tbody tr th:only-of-type {\n",
       "        vertical-align: middle;\n",
       "    }\n",
       "\n",
       "    .dataframe tbody tr th {\n",
       "        vertical-align: top;\n",
       "    }\n",
       "\n",
       "    .dataframe thead th {\n",
       "        text-align: right;\n",
       "    }\n",
       "</style>\n",
       "<table border=\"1\" class=\"dataframe\">\n",
       "  <thead>\n",
       "    <tr style=\"text-align: right;\">\n",
       "      <th></th>\n",
       "      <th>fit</th>\n",
       "      <th>user_id</th>\n",
       "      <th>bust size</th>\n",
       "      <th>item_id</th>\n",
       "      <th>weight</th>\n",
       "      <th>rating</th>\n",
       "      <th>rented for</th>\n",
       "      <th>review_text</th>\n",
       "      <th>body type</th>\n",
       "      <th>review_summary</th>\n",
       "      <th>category</th>\n",
       "      <th>height</th>\n",
       "      <th>size</th>\n",
       "      <th>age</th>\n",
       "      <th>review_date</th>\n",
       "    </tr>\n",
       "  </thead>\n",
       "  <tbody>\n",
       "    <tr>\n",
       "      <th>0</th>\n",
       "      <td>fit</td>\n",
       "      <td>420272</td>\n",
       "      <td>34d</td>\n",
       "      <td>2260466</td>\n",
       "      <td>137lbs</td>\n",
       "      <td>10</td>\n",
       "      <td>vacation</td>\n",
       "      <td>An adorable romper! Belt and zipper were a lit...</td>\n",
       "      <td>hourglass</td>\n",
       "      <td>So many compliments!</td>\n",
       "      <td>romper</td>\n",
       "      <td>5' 8\"</td>\n",
       "      <td>14</td>\n",
       "      <td>28</td>\n",
       "      <td>April 20, 2016</td>\n",
       "    </tr>\n",
       "    <tr>\n",
       "      <th>1</th>\n",
       "      <td>fit</td>\n",
       "      <td>273551</td>\n",
       "      <td>34b</td>\n",
       "      <td>153475</td>\n",
       "      <td>132lbs</td>\n",
       "      <td>10</td>\n",
       "      <td>other</td>\n",
       "      <td>I rented this dress for a photo shoot. The the...</td>\n",
       "      <td>straight &amp; narrow</td>\n",
       "      <td>I felt so glamourous!!!</td>\n",
       "      <td>gown</td>\n",
       "      <td>5' 6\"</td>\n",
       "      <td>12</td>\n",
       "      <td>36</td>\n",
       "      <td>June 18, 2013</td>\n",
       "    </tr>\n",
       "    <tr>\n",
       "      <th>2</th>\n",
       "      <td>fit</td>\n",
       "      <td>360448</td>\n",
       "      <td>&lt;NA&gt;</td>\n",
       "      <td>1063761</td>\n",
       "      <td>&lt;NA&gt;</td>\n",
       "      <td>10</td>\n",
       "      <td>party</td>\n",
       "      <td>This hugged in all the right places! It was a ...</td>\n",
       "      <td>&lt;NA&gt;</td>\n",
       "      <td>It was a great time to celebrate the (almost) ...</td>\n",
       "      <td>sheath</td>\n",
       "      <td>5' 4\"</td>\n",
       "      <td>4</td>\n",
       "      <td>116</td>\n",
       "      <td>December 14, 2015</td>\n",
       "    </tr>\n",
       "    <tr>\n",
       "      <th>3</th>\n",
       "      <td>fit</td>\n",
       "      <td>909926</td>\n",
       "      <td>34c</td>\n",
       "      <td>126335</td>\n",
       "      <td>135lbs</td>\n",
       "      <td>8</td>\n",
       "      <td>formal affair</td>\n",
       "      <td>I rented this for my company's black tie award...</td>\n",
       "      <td>pear</td>\n",
       "      <td>Dress arrived on time and in perfect condition.</td>\n",
       "      <td>dress</td>\n",
       "      <td>5' 5\"</td>\n",
       "      <td>8</td>\n",
       "      <td>34</td>\n",
       "      <td>February 12, 2014</td>\n",
       "    </tr>\n",
       "    <tr>\n",
       "      <th>4</th>\n",
       "      <td>fit</td>\n",
       "      <td>151944</td>\n",
       "      <td>34b</td>\n",
       "      <td>616682</td>\n",
       "      <td>145lbs</td>\n",
       "      <td>10</td>\n",
       "      <td>wedding</td>\n",
       "      <td>I have always been petite in my upper body and...</td>\n",
       "      <td>athletic</td>\n",
       "      <td>Was in love with this dress !!!</td>\n",
       "      <td>gown</td>\n",
       "      <td>5' 9\"</td>\n",
       "      <td>12</td>\n",
       "      <td>27</td>\n",
       "      <td>September 26, 2016</td>\n",
       "    </tr>\n",
       "  </tbody>\n",
       "</table>\n",
       "</div>"
      ],
      "text/plain": [
       "   fit user_id bust size  item_id  weight rating     rented for  \\\n",
       "0  fit  420272       34d  2260466  137lbs     10       vacation   \n",
       "1  fit  273551       34b   153475  132lbs     10          other   \n",
       "2  fit  360448      <NA>  1063761    <NA>     10          party   \n",
       "3  fit  909926       34c   126335  135lbs      8  formal affair   \n",
       "4  fit  151944       34b   616682  145lbs     10        wedding   \n",
       "\n",
       "                                         review_text          body type  \\\n",
       "0  An adorable romper! Belt and zipper were a lit...          hourglass   \n",
       "1  I rented this dress for a photo shoot. The the...  straight & narrow   \n",
       "2  This hugged in all the right places! It was a ...               <NA>   \n",
       "3  I rented this for my company's black tie award...               pear   \n",
       "4  I have always been petite in my upper body and...           athletic   \n",
       "\n",
       "                                      review_summary category height  size  \\\n",
       "0                               So many compliments!   romper  5' 8\"    14   \n",
       "1                            I felt so glamourous!!!     gown  5' 6\"    12   \n",
       "2  It was a great time to celebrate the (almost) ...   sheath  5' 4\"     4   \n",
       "3   Dress arrived on time and in perfect condition.     dress  5' 5\"     8   \n",
       "4                    Was in love with this dress !!!     gown  5' 9\"    12   \n",
       "\n",
       "   age         review_date  \n",
       "0   28      April 20, 2016  \n",
       "1   36       June 18, 2013  \n",
       "2  116   December 14, 2015  \n",
       "3   34   February 12, 2014  \n",
       "4   27  September 26, 2016  "
      ]
     },
     "execution_count": 4,
     "metadata": {},
     "output_type": "execute_result"
    }
   ],
   "source": [
    "df = pd.DataFrame(column_data)\n",
    "df = df.convert_dtypes()\n",
    "df.head()"
   ]
  },
  {
   "cell_type": "markdown",
   "metadata": {},
   "source": [
    "## Sentiment analysis"
   ]
  },
  {
   "cell_type": "code",
   "execution_count": 5,
   "metadata": {},
   "outputs": [
    {
     "name": "stderr",
     "output_type": "stream",
     "text": [
      "2024-06-29 14:52:30.712692: I external/local_tsl/tsl/cuda/cudart_stub.cc:32] Could not find cuda drivers on your machine, GPU will not be used.\n",
      "2024-06-29 14:52:30.856170: I external/local_tsl/tsl/cuda/cudart_stub.cc:32] Could not find cuda drivers on your machine, GPU will not be used.\n",
      "2024-06-29 14:52:31.467169: I tensorflow/core/platform/cpu_feature_guard.cc:210] This TensorFlow binary is optimized to use available CPU instructions in performance-critical operations.\n",
      "To enable the following instructions: AVX2 FMA, in other operations, rebuild TensorFlow with the appropriate compiler flags.\n",
      "2024-06-29 14:52:34.000586: W tensorflow/compiler/tf2tensorrt/utils/py_utils.cc:38] TF-TRT Warning: Could not find TensorRT\n"
     ]
    }
   ],
   "source": [
    "from transformers import pipeline"
   ]
  },
  {
   "cell_type": "code",
   "execution_count": 6,
   "metadata": {},
   "outputs": [
    {
     "name": "stderr",
     "output_type": "stream",
     "text": [
      "No model was supplied, defaulted to distilbert/distilbert-base-uncased-finetuned-sst-2-english and revision af0f99b (https://huggingface.co/distilbert/distilbert-base-uncased-finetuned-sst-2-english).\n",
      "Using a pipeline without specifying a model name and revision in production is not recommended.\n",
      "/home/luis-carlos/Documents/experiments/nlp_env/lib/python3.12/site-packages/huggingface_hub/file_download.py:1132: FutureWarning: `resume_download` is deprecated and will be removed in version 1.0.0. Downloads always resume when possible. If you want to force a new download, use `force_download=True`.\n",
      "  warnings.warn(\n",
      "2024-06-29 14:52:38.728543: W external/local_tsl/tsl/framework/cpu_allocator_impl.cc:83] Allocation of 93763584 exceeds 10% of free system memory.\n",
      "2024-06-29 14:52:39.107165: W external/local_tsl/tsl/framework/cpu_allocator_impl.cc:83] Allocation of 93763584 exceeds 10% of free system memory.\n",
      "2024-06-29 14:52:39.143141: W external/local_tsl/tsl/framework/cpu_allocator_impl.cc:83] Allocation of 93763584 exceeds 10% of free system memory.\n",
      "2024-06-29 14:52:40.607674: W external/local_tsl/tsl/framework/cpu_allocator_impl.cc:83] Allocation of 93763584 exceeds 10% of free system memory.\n",
      "All PyTorch model weights were used when initializing TFDistilBertForSequenceClassification.\n",
      "\n",
      "All the weights of TFDistilBertForSequenceClassification were initialized from the PyTorch model.\n",
      "If your task is similar to the task the model of the checkpoint was trained on, you can already use TFDistilBertForSequenceClassification for predictions without further training.\n"
     ]
    }
   ],
   "source": [
    "sentiment_pipeline = pipeline(\"sentiment-analysis\")"
   ]
  },
  {
   "cell_type": "code",
   "execution_count": 7,
   "metadata": {},
   "outputs": [],
   "source": [
    "data = [\"It was the best of times.\", \"t was the worst of times.\"]\n",
    "res = sentiment_pipeline(data)"
   ]
  },
  {
   "cell_type": "code",
   "execution_count": 8,
   "metadata": {},
   "outputs": [
    {
     "data": {
      "text/plain": [
       "[{'label': 'POSITIVE', 'score': 0.9994569420814514},\n",
       " {'label': 'NEGATIVE', 'score': 0.9987302422523499}]"
      ]
     },
     "execution_count": 8,
     "metadata": {},
     "output_type": "execute_result"
    }
   ],
   "source": [
    "res"
   ]
  },
  {
   "cell_type": "code",
   "execution_count": 9,
   "metadata": {},
   "outputs": [
    {
     "data": {
      "text/plain": [
       "{'label': 'NEGATIVE', 'score': 0.9987302422523499}"
      ]
     },
     "execution_count": 9,
     "metadata": {},
     "output_type": "execute_result"
    }
   ],
   "source": [
    "res[1]"
   ]
  },
  {
   "cell_type": "code",
   "execution_count": 10,
   "metadata": {},
   "outputs": [],
   "source": [
    "def positivity(text):\n",
    "    result = sentiment_pipeline(text)[0]\n",
    "    if result['label'] == 'POSITIVE':\n",
    "        return result['score']\n",
    "    else:\n",
    "        return 1 - result['score']"
   ]
  },
  {
   "cell_type": "code",
   "execution_count": 11,
   "metadata": {},
   "outputs": [
    {
     "data": {
      "text/html": [
       "<div>\n",
       "<style scoped>\n",
       "    .dataframe tbody tr th:only-of-type {\n",
       "        vertical-align: middle;\n",
       "    }\n",
       "\n",
       "    .dataframe tbody tr th {\n",
       "        vertical-align: top;\n",
       "    }\n",
       "\n",
       "    .dataframe thead th {\n",
       "        text-align: right;\n",
       "    }\n",
       "</style>\n",
       "<table border=\"1\" class=\"dataframe\">\n",
       "  <thead>\n",
       "    <tr style=\"text-align: right;\">\n",
       "      <th></th>\n",
       "      <th>fit</th>\n",
       "      <th>user_id</th>\n",
       "      <th>bust size</th>\n",
       "      <th>item_id</th>\n",
       "      <th>weight</th>\n",
       "      <th>rating</th>\n",
       "      <th>rented for</th>\n",
       "      <th>review_text</th>\n",
       "      <th>body type</th>\n",
       "      <th>review_summary</th>\n",
       "      <th>category</th>\n",
       "      <th>height</th>\n",
       "      <th>size</th>\n",
       "      <th>age</th>\n",
       "      <th>review_date</th>\n",
       "    </tr>\n",
       "  </thead>\n",
       "  <tbody>\n",
       "    <tr>\n",
       "      <th>31496</th>\n",
       "      <td>fit</td>\n",
       "      <td>113975</td>\n",
       "      <td>34b</td>\n",
       "      <td>1564333</td>\n",
       "      <td>135lbs</td>\n",
       "      <td>10</td>\n",
       "      <td>everyday</td>\n",
       "      <td>I am not one to wear ruffles or florals but th...</td>\n",
       "      <td>athletic</td>\n",
       "      <td>Flattering &amp; Feminine</td>\n",
       "      <td>dress</td>\n",
       "      <td>5' 11\"</td>\n",
       "      <td>8</td>\n",
       "      <td>29</td>\n",
       "      <td>March 14, 2016</td>\n",
       "    </tr>\n",
       "    <tr>\n",
       "      <th>186419</th>\n",
       "      <td>small</td>\n",
       "      <td>158071</td>\n",
       "      <td>32b</td>\n",
       "      <td>858828</td>\n",
       "      <td>118lbs</td>\n",
       "      <td>10</td>\n",
       "      <td>wedding</td>\n",
       "      <td>This dress was perfect for a wedding. I've ren...</td>\n",
       "      <td>pear</td>\n",
       "      <td>Stunning and elegant dress.</td>\n",
       "      <td>sheath</td>\n",
       "      <td>5' 0\"</td>\n",
       "      <td>8</td>\n",
       "      <td>33</td>\n",
       "      <td>January 24, 2016</td>\n",
       "    </tr>\n",
       "    <tr>\n",
       "      <th>51199</th>\n",
       "      <td>large</td>\n",
       "      <td>509560</td>\n",
       "      <td>38ddd/e</td>\n",
       "      <td>1301573</td>\n",
       "      <td>200lbs</td>\n",
       "      <td>10</td>\n",
       "      <td>work</td>\n",
       "      <td>Runs large but very lovely dress</td>\n",
       "      <td>hourglass</td>\n",
       "      <td>Simple but really nice dress. I would recommen...</td>\n",
       "      <td>shirtdress</td>\n",
       "      <td>5' 9\"</td>\n",
       "      <td>20</td>\n",
       "      <td>40</td>\n",
       "      <td>December 28, 2017</td>\n",
       "    </tr>\n",
       "    <tr>\n",
       "      <th>109430</th>\n",
       "      <td>large</td>\n",
       "      <td>14286</td>\n",
       "      <td>34c</td>\n",
       "      <td>222318</td>\n",
       "      <td>&lt;NA&gt;</td>\n",
       "      <td>10</td>\n",
       "      <td>everyday</td>\n",
       "      <td>This is the perfect weekend summer dress.  I a...</td>\n",
       "      <td>athletic</td>\n",
       "      <td>Absolutely loved this for everyday!</td>\n",
       "      <td>shift</td>\n",
       "      <td>5' 5\"</td>\n",
       "      <td>14</td>\n",
       "      <td>32</td>\n",
       "      <td>August 15, 2017</td>\n",
       "    </tr>\n",
       "    <tr>\n",
       "      <th>44696</th>\n",
       "      <td>fit</td>\n",
       "      <td>125920</td>\n",
       "      <td>34b</td>\n",
       "      <td>948396</td>\n",
       "      <td>&lt;NA&gt;</td>\n",
       "      <td>10</td>\n",
       "      <td>wedding</td>\n",
       "      <td>I wore this dress to a black tie wedding. I re...</td>\n",
       "      <td>athletic</td>\n",
       "      <td>Wedding event</td>\n",
       "      <td>gown</td>\n",
       "      <td>5' 8\"</td>\n",
       "      <td>17</td>\n",
       "      <td>23</td>\n",
       "      <td>November 12, 2017</td>\n",
       "    </tr>\n",
       "  </tbody>\n",
       "</table>\n",
       "</div>"
      ],
      "text/plain": [
       "          fit user_id bust size  item_id  weight rating rented for  \\\n",
       "31496     fit  113975       34b  1564333  135lbs     10   everyday   \n",
       "186419  small  158071       32b   858828  118lbs     10    wedding   \n",
       "51199   large  509560   38ddd/e  1301573  200lbs     10       work   \n",
       "109430  large   14286       34c   222318    <NA>     10   everyday   \n",
       "44696     fit  125920       34b   948396    <NA>     10    wedding   \n",
       "\n",
       "                                              review_text  body type  \\\n",
       "31496   I am not one to wear ruffles or florals but th...   athletic   \n",
       "186419  This dress was perfect for a wedding. I've ren...       pear   \n",
       "51199                    Runs large but very lovely dress  hourglass   \n",
       "109430  This is the perfect weekend summer dress.  I a...   athletic   \n",
       "44696   I wore this dress to a black tie wedding. I re...   athletic   \n",
       "\n",
       "                                           review_summary    category  height  \\\n",
       "31496                               Flattering & Feminine       dress  5' 11\"   \n",
       "186419                       Stunning and elegant dress.       sheath   5' 0\"   \n",
       "51199   Simple but really nice dress. I would recommen...  shirtdress   5' 9\"   \n",
       "109430               Absolutely loved this for everyday!        shift   5' 5\"   \n",
       "44696                                       Wedding event        gown   5' 8\"   \n",
       "\n",
       "        size age        review_date  \n",
       "31496      8  29     March 14, 2016  \n",
       "186419     8  33   January 24, 2016  \n",
       "51199     20  40  December 28, 2017  \n",
       "109430    14  32    August 15, 2017  \n",
       "44696     17  23  November 12, 2017  "
      ]
     },
     "execution_count": 11,
     "metadata": {},
     "output_type": "execute_result"
    }
   ],
   "source": [
    "df_sample = df.sample(500)\n",
    "df_sample.head()"
   ]
  },
  {
   "cell_type": "code",
   "execution_count": 12,
   "metadata": {},
   "outputs": [
    {
     "data": {
      "text/html": [
       "<div>\n",
       "<style scoped>\n",
       "    .dataframe tbody tr th:only-of-type {\n",
       "        vertical-align: middle;\n",
       "    }\n",
       "\n",
       "    .dataframe tbody tr th {\n",
       "        vertical-align: top;\n",
       "    }\n",
       "\n",
       "    .dataframe thead th {\n",
       "        text-align: right;\n",
       "    }\n",
       "</style>\n",
       "<table border=\"1\" class=\"dataframe\">\n",
       "  <thead>\n",
       "    <tr style=\"text-align: right;\">\n",
       "      <th></th>\n",
       "      <th>fit</th>\n",
       "      <th>user_id</th>\n",
       "      <th>bust size</th>\n",
       "      <th>item_id</th>\n",
       "      <th>weight</th>\n",
       "      <th>rating</th>\n",
       "      <th>rented for</th>\n",
       "      <th>review_text</th>\n",
       "      <th>body type</th>\n",
       "      <th>review_summary</th>\n",
       "      <th>category</th>\n",
       "      <th>height</th>\n",
       "      <th>size</th>\n",
       "      <th>age</th>\n",
       "      <th>review_date</th>\n",
       "    </tr>\n",
       "  </thead>\n",
       "  <tbody>\n",
       "    <tr>\n",
       "      <th>31496</th>\n",
       "      <td>fit</td>\n",
       "      <td>113975</td>\n",
       "      <td>34b</td>\n",
       "      <td>1564333</td>\n",
       "      <td>135lbs</td>\n",
       "      <td>10</td>\n",
       "      <td>everyday</td>\n",
       "      <td>I am not one to wear ruffles or florals but th...</td>\n",
       "      <td>athletic</td>\n",
       "      <td>Flattering &amp; Feminine</td>\n",
       "      <td>dress</td>\n",
       "      <td>5' 11\"</td>\n",
       "      <td>8</td>\n",
       "      <td>29</td>\n",
       "      <td>March 14, 2016</td>\n",
       "    </tr>\n",
       "    <tr>\n",
       "      <th>186419</th>\n",
       "      <td>small</td>\n",
       "      <td>158071</td>\n",
       "      <td>32b</td>\n",
       "      <td>858828</td>\n",
       "      <td>118lbs</td>\n",
       "      <td>10</td>\n",
       "      <td>wedding</td>\n",
       "      <td>This dress was perfect for a wedding. I've ren...</td>\n",
       "      <td>pear</td>\n",
       "      <td>Stunning and elegant dress.</td>\n",
       "      <td>sheath</td>\n",
       "      <td>5' 0\"</td>\n",
       "      <td>8</td>\n",
       "      <td>33</td>\n",
       "      <td>January 24, 2016</td>\n",
       "    </tr>\n",
       "    <tr>\n",
       "      <th>51199</th>\n",
       "      <td>large</td>\n",
       "      <td>509560</td>\n",
       "      <td>38ddd/e</td>\n",
       "      <td>1301573</td>\n",
       "      <td>200lbs</td>\n",
       "      <td>10</td>\n",
       "      <td>work</td>\n",
       "      <td>Runs large but very lovely dress</td>\n",
       "      <td>hourglass</td>\n",
       "      <td>Simple but really nice dress. I would recommen...</td>\n",
       "      <td>shirtdress</td>\n",
       "      <td>5' 9\"</td>\n",
       "      <td>20</td>\n",
       "      <td>40</td>\n",
       "      <td>December 28, 2017</td>\n",
       "    </tr>\n",
       "    <tr>\n",
       "      <th>109430</th>\n",
       "      <td>large</td>\n",
       "      <td>14286</td>\n",
       "      <td>34c</td>\n",
       "      <td>222318</td>\n",
       "      <td>&lt;NA&gt;</td>\n",
       "      <td>10</td>\n",
       "      <td>everyday</td>\n",
       "      <td>This is the perfect weekend summer dress.  I a...</td>\n",
       "      <td>athletic</td>\n",
       "      <td>Absolutely loved this for everyday!</td>\n",
       "      <td>shift</td>\n",
       "      <td>5' 5\"</td>\n",
       "      <td>14</td>\n",
       "      <td>32</td>\n",
       "      <td>August 15, 2017</td>\n",
       "    </tr>\n",
       "    <tr>\n",
       "      <th>44696</th>\n",
       "      <td>fit</td>\n",
       "      <td>125920</td>\n",
       "      <td>34b</td>\n",
       "      <td>948396</td>\n",
       "      <td>&lt;NA&gt;</td>\n",
       "      <td>10</td>\n",
       "      <td>wedding</td>\n",
       "      <td>I wore this dress to a black tie wedding. I re...</td>\n",
       "      <td>athletic</td>\n",
       "      <td>Wedding event</td>\n",
       "      <td>gown</td>\n",
       "      <td>5' 8\"</td>\n",
       "      <td>17</td>\n",
       "      <td>23</td>\n",
       "      <td>November 12, 2017</td>\n",
       "    </tr>\n",
       "  </tbody>\n",
       "</table>\n",
       "</div>"
      ],
      "text/plain": [
       "          fit user_id bust size  item_id  weight rating rented for  \\\n",
       "31496     fit  113975       34b  1564333  135lbs     10   everyday   \n",
       "186419  small  158071       32b   858828  118lbs     10    wedding   \n",
       "51199   large  509560   38ddd/e  1301573  200lbs     10       work   \n",
       "109430  large   14286       34c   222318    <NA>     10   everyday   \n",
       "44696     fit  125920       34b   948396    <NA>     10    wedding   \n",
       "\n",
       "                                              review_text  body type  \\\n",
       "31496   I am not one to wear ruffles or florals but th...   athletic   \n",
       "186419  This dress was perfect for a wedding. I've ren...       pear   \n",
       "51199                    Runs large but very lovely dress  hourglass   \n",
       "109430  This is the perfect weekend summer dress.  I a...   athletic   \n",
       "44696   I wore this dress to a black tie wedding. I re...   athletic   \n",
       "\n",
       "                                           review_summary    category  height  \\\n",
       "31496                               Flattering & Feminine       dress  5' 11\"   \n",
       "186419                       Stunning and elegant dress.       sheath   5' 0\"   \n",
       "51199   Simple but really nice dress. I would recommen...  shirtdress   5' 9\"   \n",
       "109430               Absolutely loved this for everyday!        shift   5' 5\"   \n",
       "44696                                       Wedding event        gown   5' 8\"   \n",
       "\n",
       "        size age        review_date  \n",
       "31496      8  29     March 14, 2016  \n",
       "186419     8  33   January 24, 2016  \n",
       "51199     20  40  December 28, 2017  \n",
       "109430    14  32    August 15, 2017  \n",
       "44696     17  23  November 12, 2017  "
      ]
     },
     "execution_count": 12,
     "metadata": {},
     "output_type": "execute_result"
    }
   ],
   "source": [
    "df_sample.head()"
   ]
  },
  {
   "cell_type": "code",
   "execution_count": 13,
   "metadata": {},
   "outputs": [],
   "source": [
    "# Takes time\n",
    "res = df_sample['review_text'].apply(positivity)\n",
    "df_sample['positivity'] = res"
   ]
  },
  {
   "cell_type": "code",
   "execution_count": 14,
   "metadata": {},
   "outputs": [
    {
     "data": {
      "text/plain": [
       "8000"
      ]
     },
     "execution_count": 14,
     "metadata": {},
     "output_type": "execute_result"
    }
   ],
   "source": [
    "df_sample.size"
   ]
  },
  {
   "cell_type": "code",
   "execution_count": 15,
   "metadata": {},
   "outputs": [
    {
     "data": {
      "text/html": [
       "<div>\n",
       "<style scoped>\n",
       "    .dataframe tbody tr th:only-of-type {\n",
       "        vertical-align: middle;\n",
       "    }\n",
       "\n",
       "    .dataframe tbody tr th {\n",
       "        vertical-align: top;\n",
       "    }\n",
       "\n",
       "    .dataframe thead th {\n",
       "        text-align: right;\n",
       "    }\n",
       "</style>\n",
       "<table border=\"1\" class=\"dataframe\">\n",
       "  <thead>\n",
       "    <tr style=\"text-align: right;\">\n",
       "      <th></th>\n",
       "      <th>fit</th>\n",
       "      <th>user_id</th>\n",
       "      <th>bust size</th>\n",
       "      <th>item_id</th>\n",
       "      <th>weight</th>\n",
       "      <th>rating</th>\n",
       "      <th>rented for</th>\n",
       "      <th>review_text</th>\n",
       "      <th>body type</th>\n",
       "      <th>review_summary</th>\n",
       "      <th>category</th>\n",
       "      <th>height</th>\n",
       "      <th>size</th>\n",
       "      <th>age</th>\n",
       "      <th>review_date</th>\n",
       "      <th>positivity</th>\n",
       "    </tr>\n",
       "  </thead>\n",
       "  <tbody>\n",
       "    <tr>\n",
       "      <th>31496</th>\n",
       "      <td>fit</td>\n",
       "      <td>113975</td>\n",
       "      <td>34b</td>\n",
       "      <td>1564333</td>\n",
       "      <td>135lbs</td>\n",
       "      <td>10</td>\n",
       "      <td>everyday</td>\n",
       "      <td>I am not one to wear ruffles or florals but th...</td>\n",
       "      <td>athletic</td>\n",
       "      <td>Flattering &amp; Feminine</td>\n",
       "      <td>dress</td>\n",
       "      <td>5' 11\"</td>\n",
       "      <td>8</td>\n",
       "      <td>29</td>\n",
       "      <td>March 14, 2016</td>\n",
       "      <td>0.975921</td>\n",
       "    </tr>\n",
       "    <tr>\n",
       "      <th>186419</th>\n",
       "      <td>small</td>\n",
       "      <td>158071</td>\n",
       "      <td>32b</td>\n",
       "      <td>858828</td>\n",
       "      <td>118lbs</td>\n",
       "      <td>10</td>\n",
       "      <td>wedding</td>\n",
       "      <td>This dress was perfect for a wedding. I've ren...</td>\n",
       "      <td>pear</td>\n",
       "      <td>Stunning and elegant dress.</td>\n",
       "      <td>sheath</td>\n",
       "      <td>5' 0\"</td>\n",
       "      <td>8</td>\n",
       "      <td>33</td>\n",
       "      <td>January 24, 2016</td>\n",
       "      <td>0.990384</td>\n",
       "    </tr>\n",
       "    <tr>\n",
       "      <th>51199</th>\n",
       "      <td>large</td>\n",
       "      <td>509560</td>\n",
       "      <td>38ddd/e</td>\n",
       "      <td>1301573</td>\n",
       "      <td>200lbs</td>\n",
       "      <td>10</td>\n",
       "      <td>work</td>\n",
       "      <td>Runs large but very lovely dress</td>\n",
       "      <td>hourglass</td>\n",
       "      <td>Simple but really nice dress. I would recommen...</td>\n",
       "      <td>shirtdress</td>\n",
       "      <td>5' 9\"</td>\n",
       "      <td>20</td>\n",
       "      <td>40</td>\n",
       "      <td>December 28, 2017</td>\n",
       "      <td>0.999753</td>\n",
       "    </tr>\n",
       "    <tr>\n",
       "      <th>109430</th>\n",
       "      <td>large</td>\n",
       "      <td>14286</td>\n",
       "      <td>34c</td>\n",
       "      <td>222318</td>\n",
       "      <td>&lt;NA&gt;</td>\n",
       "      <td>10</td>\n",
       "      <td>everyday</td>\n",
       "      <td>This is the perfect weekend summer dress.  I a...</td>\n",
       "      <td>athletic</td>\n",
       "      <td>Absolutely loved this for everyday!</td>\n",
       "      <td>shift</td>\n",
       "      <td>5' 5\"</td>\n",
       "      <td>14</td>\n",
       "      <td>32</td>\n",
       "      <td>August 15, 2017</td>\n",
       "      <td>0.999747</td>\n",
       "    </tr>\n",
       "    <tr>\n",
       "      <th>44696</th>\n",
       "      <td>fit</td>\n",
       "      <td>125920</td>\n",
       "      <td>34b</td>\n",
       "      <td>948396</td>\n",
       "      <td>&lt;NA&gt;</td>\n",
       "      <td>10</td>\n",
       "      <td>wedding</td>\n",
       "      <td>I wore this dress to a black tie wedding. I re...</td>\n",
       "      <td>athletic</td>\n",
       "      <td>Wedding event</td>\n",
       "      <td>gown</td>\n",
       "      <td>5' 8\"</td>\n",
       "      <td>17</td>\n",
       "      <td>23</td>\n",
       "      <td>November 12, 2017</td>\n",
       "      <td>0.999835</td>\n",
       "    </tr>\n",
       "  </tbody>\n",
       "</table>\n",
       "</div>"
      ],
      "text/plain": [
       "          fit user_id bust size  item_id  weight rating rented for  \\\n",
       "31496     fit  113975       34b  1564333  135lbs     10   everyday   \n",
       "186419  small  158071       32b   858828  118lbs     10    wedding   \n",
       "51199   large  509560   38ddd/e  1301573  200lbs     10       work   \n",
       "109430  large   14286       34c   222318    <NA>     10   everyday   \n",
       "44696     fit  125920       34b   948396    <NA>     10    wedding   \n",
       "\n",
       "                                              review_text  body type  \\\n",
       "31496   I am not one to wear ruffles or florals but th...   athletic   \n",
       "186419  This dress was perfect for a wedding. I've ren...       pear   \n",
       "51199                    Runs large but very lovely dress  hourglass   \n",
       "109430  This is the perfect weekend summer dress.  I a...   athletic   \n",
       "44696   I wore this dress to a black tie wedding. I re...   athletic   \n",
       "\n",
       "                                           review_summary    category  height  \\\n",
       "31496                               Flattering & Feminine       dress  5' 11\"   \n",
       "186419                       Stunning and elegant dress.       sheath   5' 0\"   \n",
       "51199   Simple but really nice dress. I would recommen...  shirtdress   5' 9\"   \n",
       "109430               Absolutely loved this for everyday!        shift   5' 5\"   \n",
       "44696                                       Wedding event        gown   5' 8\"   \n",
       "\n",
       "        size age        review_date  positivity  \n",
       "31496      8  29     March 14, 2016    0.975921  \n",
       "186419     8  33   January 24, 2016    0.990384  \n",
       "51199     20  40  December 28, 2017    0.999753  \n",
       "109430    14  32    August 15, 2017    0.999747  \n",
       "44696     17  23  November 12, 2017    0.999835  "
      ]
     },
     "execution_count": 15,
     "metadata": {},
     "output_type": "execute_result"
    }
   ],
   "source": [
    "df_sample.head()"
   ]
  },
  {
   "cell_type": "code",
   "execution_count": 16,
   "metadata": {},
   "outputs": [
    {
     "data": {
      "text/plain": [
       "<Axes: xlabel='rating', ylabel='positivity'>"
      ]
     },
     "execution_count": 16,
     "metadata": {},
     "output_type": "execute_result"
    },
    {
     "data": {
      "image/png": "[encoded data removed]",
      "text/plain": [
       "<Figure size 640x480 with 1 Axes>"
      ]
     },
     "metadata": {},
     "output_type": "display_data"
    }
   ],
   "source": [
    "sns.scatterplot(data=df_sample, x='rating', y='positivity')"
   ]
  },
  {
   "cell_type": "code",
   "execution_count": 17,
   "metadata": {},
   "outputs": [
    {
     "data": {
      "text/plain": [
       "<Axes: xlabel='rating', ylabel='positivity'>"
      ]
     },
     "execution_count": 17,
     "metadata": {},
     "output_type": "execute_result"
    },
    {
     "data": {
      "image/png": "[encoded data removed]",
      "text/plain": [
       "<Figure size 640x480 with 1 Axes>"
      ]
     },
     "metadata": {},
     "output_type": "display_data"
    }
   ],
   "source": [
    "a = df_sample.groupby('rating')['positivity'].mean().reset_index()\n",
    "a['rating'] = a['rating'].astype('int')\n",
    "sns.scatterplot(data = a.sort_values(by='rating', ascending=True), x = 'rating', y='positivity')\n",
    "sns.lineplot(data = a.sort_values(by='rating', ascending=True), x = 'rating', y='positivity')"
   ]
  },
  {
   "cell_type": "code",
   "execution_count": 19,
   "metadata": {},
   "outputs": [],
   "source": [
    "df.to_csv('./data/reviews/renttherunway_final_data_clean.csv', index=False)"
   ]
  },
  {
   "cell_type": "markdown",
   "metadata": {},
   "source": [
    "## NER"
   ]
  },
  {
   "cell_type": "code",
   "execution_count": 25,
   "metadata": {},
   "outputs": [],
   "source": [
    "import spacy\n",
    "from spacy import displacy\n",
    "\n",
    "# python -m spacy download en_core_web_sm\n",
    "#import en_core_web_sm\n",
    "#nlp = en_core_web_sm.load()"
   ]
  },
  {
   "cell_type": "code",
   "execution_count": 26,
   "metadata": {},
   "outputs": [],
   "source": [
    "NER = spacy.load(\"en_core_web_sm\")"
   ]
  },
  {
   "cell_type": "code",
   "execution_count": 27,
   "metadata": {},
   "outputs": [],
   "source": [
    "raw_text=\"The Indian Space Research Organisation or is the national space agency of India, headquartered in Bengaluru. It operates under Department of Space which is directly overseen by the Prime Minister of India while Chairman of ISRO acts as executive of DOS as well.\"\n",
    "text1= NER(raw_text)"
   ]
  },
  {
   "cell_type": "code",
   "execution_count": 31,
   "metadata": {},
   "outputs": [],
   "source": [
    "a = []\n",
    "for word in text1.ents:\n",
    "    #print(word.text, word.label_)\n",
    "    a.append({'label': word.label_, 'text': word.text})"
   ]
  },
  {
   "cell_type": "code",
   "execution_count": 32,
   "metadata": {},
   "outputs": [
    {
     "data": {
      "text/plain": [
       "[{'label': 'ORG', 'text': 'The Indian Space Research Organisation'},\n",
       " {'label': 'GPE', 'text': 'India'},\n",
       " {'label': 'GPE', 'text': 'Bengaluru'},\n",
       " {'label': 'ORG', 'text': 'Department of Space'},\n",
       " {'label': 'GPE', 'text': 'India'},\n",
       " {'label': 'ORG', 'text': 'ISRO'},\n",
       " {'label': 'ORG', 'text': 'DOS'}]"
      ]
     },
     "execution_count": 32,
     "metadata": {},
     "output_type": "execute_result"
    }
   ],
   "source": [
    "a"
   ]
  },
  {
   "cell_type": "code",
   "execution_count": null,
   "metadata": {},
   "outputs": [],
   "source": []
  }
 ],
 "metadata": {
  "kernelspec": {
   "display_name": "nlp_env",
   "language": "python",
   "name": "python3"
  },
  "language_info": {
   "codemirror_mode": {
    "name": "ipython",
    "version": 3
   },
   "file_extension": ".py",
   "mimetype": "text/x-python",
   "name": "python",
   "nbconvert_exporter": "python",
   "pygments_lexer": "ipython3",
   "version": "3.12.3"
  }
 },
 "nbformat": 4,
 "nbformat_minor": 2
}
