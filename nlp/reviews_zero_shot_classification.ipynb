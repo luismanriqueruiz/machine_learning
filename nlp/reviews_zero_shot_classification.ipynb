{
 "cells": [
  {
   "cell_type": "code",
   "execution_count": 58,
   "metadata": {},
   "outputs": [],
   "source": [
    "import pandas as pd\n",
    "from transformers import pipeline\n",
    "import time"
   ]
  },
  {
   "cell_type": "markdown",
   "metadata": {},
   "source": [
    "## Reading all data"
   ]
  },
  {
   "cell_type": "code",
   "execution_count": 2,
   "metadata": {},
   "outputs": [],
   "source": [
    "data_or = pd.read_csv('/home/luis-carlos/Documents/experiments/nlp/data/whole_synthetic_data.csv')"
   ]
  },
  {
   "cell_type": "code",
   "execution_count": 3,
   "metadata": {},
   "outputs": [
    {
     "data": {
      "text/html": [
       "<div>\n",
       "<style scoped>\n",
       "    .dataframe tbody tr th:only-of-type {\n",
       "        vertical-align: middle;\n",
       "    }\n",
       "\n",
       "    .dataframe tbody tr th {\n",
       "        vertical-align: top;\n",
       "    }\n",
       "\n",
       "    .dataframe thead th {\n",
       "        text-align: right;\n",
       "    }\n",
       "</style>\n",
       "<table border=\"1\" class=\"dataframe\">\n",
       "  <thead>\n",
       "    <tr style=\"text-align: right;\">\n",
       "      <th></th>\n",
       "      <th>user_input</th>\n",
       "      <th>language</th>\n",
       "      <th>type</th>\n",
       "      <th>Categories</th>\n",
       "    </tr>\n",
       "  </thead>\n",
       "  <tbody>\n",
       "    <tr>\n",
       "      <th>0</th>\n",
       "      <td>このラップトップは、非常に軽量で持ち運びが簡単です。バッテリーの持ちも良く、一日中外出先で使...</td>\n",
       "      <td>jp</td>\n",
       "      <td>review</td>\n",
       "      <td>Portability, Battery Life</td>\n",
       "    </tr>\n",
       "    <tr>\n",
       "      <th>1</th>\n",
       "      <td>デザインが洗練されていて、キーボードの打ち心地が快適です。ただし、ファンの音が少しうるさいです。</td>\n",
       "      <td>jp</td>\n",
       "      <td>review</td>\n",
       "      <td>Design, Keyboard, Noise</td>\n",
       "    </tr>\n",
       "    <tr>\n",
       "      <th>2</th>\n",
       "      <td>処理速度が速く、ビジネス用途にも最適です。ExcelやPowerPointの動作がスムーズで...</td>\n",
       "      <td>jp</td>\n",
       "      <td>review</td>\n",
       "      <td>Performance, Business Use, Applications</td>\n",
       "    </tr>\n",
       "    <tr>\n",
       "      <th>3</th>\n",
       "      <td>ディスプレイが非常に鮮明で、映画を見るのが楽しいです。ただし、スピーカーの音質は改善が必要です。</td>\n",
       "      <td>jp</td>\n",
       "      <td>review</td>\n",
       "      <td>Display, Entertainment, Sound</td>\n",
       "    </tr>\n",
       "    <tr>\n",
       "      <th>4</th>\n",
       "      <td>ゲーミング用に購入しましたが、重いゲームも問題なく動作します。冷却性能も優れています。</td>\n",
       "      <td>jp</td>\n",
       "      <td>review</td>\n",
       "      <td>Gaming, Cooling, Performance</td>\n",
       "    </tr>\n",
       "  </tbody>\n",
       "</table>\n",
       "</div>"
      ],
      "text/plain": [
       "                                          user_input language    type  \\\n",
       "0  このラップトップは、非常に軽量で持ち運びが簡単です。バッテリーの持ちも良く、一日中外出先で使...       jp  review   \n",
       "1   デザインが洗練されていて、キーボードの打ち心地が快適です。ただし、ファンの音が少しうるさいです。       jp  review   \n",
       "2  処理速度が速く、ビジネス用途にも最適です。ExcelやPowerPointの動作がスムーズで...       jp  review   \n",
       "3   ディスプレイが非常に鮮明で、映画を見るのが楽しいです。ただし、スピーカーの音質は改善が必要です。       jp  review   \n",
       "4        ゲーミング用に購入しましたが、重いゲームも問題なく動作します。冷却性能も優れています。       jp  review   \n",
       "\n",
       "                                Categories  \n",
       "0                Portability, Battery Life  \n",
       "1                  Design, Keyboard, Noise  \n",
       "2  Performance, Business Use, Applications  \n",
       "3            Display, Entertainment, Sound  \n",
       "4             Gaming, Cooling, Performance  "
      ]
     },
     "execution_count": 3,
     "metadata": {},
     "output_type": "execute_result"
    }
   ],
   "source": [
    "data_or.head()"
   ]
  },
  {
   "cell_type": "code",
   "execution_count": 24,
   "metadata": {},
   "outputs": [],
   "source": [
    "all_categories = data_or['Categories'].apply(lambda x: x.split(',')).tolist()\n",
    "all_categories = [item for sublist in all_categories for item in sublist]\n",
    "all_categories = [text.lstrip() for text in all_categories]"
   ]
  },
  {
   "cell_type": "code",
   "execution_count": 21,
   "metadata": {},
   "outputs": [],
   "source": [
    "all_categories_unique = sorted(list(set(all_categories)))"
   ]
  },
  {
   "cell_type": "markdown",
   "metadata": {},
   "source": [
    "## Reading main categories"
   ]
  },
  {
   "cell_type": "code",
   "execution_count": 37,
   "metadata": {},
   "outputs": [
    {
     "data": {
      "text/html": [
       "<div>\n",
       "<style scoped>\n",
       "    .dataframe tbody tr th:only-of-type {\n",
       "        vertical-align: middle;\n",
       "    }\n",
       "\n",
       "    .dataframe tbody tr th {\n",
       "        vertical-align: top;\n",
       "    }\n",
       "\n",
       "    .dataframe thead th {\n",
       "        text-align: right;\n",
       "    }\n",
       "</style>\n",
       "<table border=\"1\" class=\"dataframe\">\n",
       "  <thead>\n",
       "    <tr style=\"text-align: right;\">\n",
       "      <th></th>\n",
       "      <th>Main Category</th>\n",
       "      <th>Subcategories</th>\n",
       "    </tr>\n",
       "  </thead>\n",
       "  <tbody>\n",
       "    <tr>\n",
       "      <th>0</th>\n",
       "      <td>Gaming &amp; Graphics-Intensive Tasks</td>\n",
       "      <td>3D Modeling</td>\n",
       "    </tr>\n",
       "    <tr>\n",
       "      <th>1</th>\n",
       "      <td>Accessories &amp; Power</td>\n",
       "      <td>Accessories</td>\n",
       "    </tr>\n",
       "    <tr>\n",
       "      <th>2</th>\n",
       "      <td>AI &amp; Smart Features</td>\n",
       "      <td>AI Accuracy</td>\n",
       "    </tr>\n",
       "    <tr>\n",
       "      <th>3</th>\n",
       "      <td>Software &amp; Applications</td>\n",
       "      <td>Applications</td>\n",
       "    </tr>\n",
       "    <tr>\n",
       "      <th>4</th>\n",
       "      <td>Keyboard &amp; Typing</td>\n",
       "      <td>Backlighting</td>\n",
       "    </tr>\n",
       "  </tbody>\n",
       "</table>\n",
       "</div>"
      ],
      "text/plain": [
       "                       Main Category Subcategories\n",
       "0  Gaming & Graphics-Intensive Tasks   3D Modeling\n",
       "1                Accessories & Power   Accessories\n",
       "2                AI & Smart Features   AI Accuracy\n",
       "3            Software & Applications  Applications\n",
       "4                  Keyboard & Typing  Backlighting"
      ]
     },
     "execution_count": 37,
     "metadata": {},
     "output_type": "execute_result"
    }
   ],
   "source": [
    "path = '/home/luis-carlos/Documents/experiments/nlp/data/whole_synthetic_data_main_categories.csv'\n",
    "\n",
    "main_categories_df = pd.read_csv(path)\n",
    "main_categories_df.head()"
   ]
  },
  {
   "cell_type": "markdown",
   "metadata": {},
   "source": [
    "## Starting classification\n",
    "### Zero shot"
   ]
  },
  {
   "cell_type": "code",
   "execution_count": 27,
   "metadata": {},
   "outputs": [],
   "source": [
    "classifier = pipeline(\"zero-shot-classification\", model=\"facebook/bart-large-mnli\")"
   ]
  },
  {
   "cell_type": "code",
   "execution_count": 26,
   "metadata": {},
   "outputs": [],
   "source": [
    "main_categories = ['Accessories & Power', 'AI & Smart Features', 'Battery & Charging', 'Boot Time & Speed', 'Build Quality & Design', 'Connectivity', 'Cooling & Thermal Management', 'Customer Support & Warranty', 'Display', 'Ergonomics & User Comfort', 'Gaming & Graphics-Intensive Tasks', 'Keyboard & Typing', 'Performance', 'Portability', 'Return & Policies', 'Software & Applications', 'Sound & Audio', 'Storage', 'Value & Pricing', 'Video & Camera']"
   ]
  },
  {
   "cell_type": "code",
   "execution_count": 73,
   "metadata": {},
   "outputs": [
    {
     "data": {
      "text/plain": [
       "'What is the return policy if I am not satisfied with the laptop?'"
      ]
     },
     "execution_count": 73,
     "metadata": {},
     "output_type": "execute_result"
    }
   ],
   "source": [
    "i = 58\n",
    "text = data_or.loc[i, 'user_input']\n",
    "text"
   ]
  },
  {
   "cell_type": "code",
   "execution_count": 74,
   "metadata": {},
   "outputs": [
    {
     "data": {
      "text/plain": [
       "['Customer Service', 'Return Policy']"
      ]
     },
     "execution_count": 74,
     "metadata": {},
     "output_type": "execute_result"
    }
   ],
   "source": [
    "a = data_or.loc[i, 'Categories']\n",
    "a = a.split(', ')\n",
    "a"
   ]
  },
  {
   "cell_type": "code",
   "execution_count": 75,
   "metadata": {},
   "outputs": [
    {
     "name": "stdout",
     "output_type": "stream",
     "text": [
      "Execution time: 95.97047400474548 seconds\n"
     ]
    }
   ],
   "source": [
    "t0 = time.time()\n",
    "prediction = classifier(text, main_categories)\n",
    "t1 = time.time() - t0\n",
    "print(f'Execution time: {t1} seconds')"
   ]
  },
  {
   "cell_type": "code",
   "execution_count": 76,
   "metadata": {},
   "outputs": [
    {
     "name": "stdout",
     "output_type": "stream",
     "text": [
      "What is the return policy if I am not satisfied with the laptop?\n",
      "['Return & Policies', 'Connectivity', 'Value & Pricing', 'Portability', 'Performance', 'Display', 'Build Quality & Design', 'Customer Support & Warranty', 'Ergonomics & User Comfort', 'AI & Smart Features', 'Sound & Audio', 'Cooling & Thermal Management', 'Gaming & Graphics-Intensive Tasks', 'Boot Time & Speed', 'Accessories & Power', 'Video & Camera', 'Battery & Charging', 'Keyboard & Typing', 'Software & Applications', 'Storage']\n",
      "[0.4142730236053467, 0.06452030688524246, 0.0635870173573494, 0.0540880411863327, 0.04477532207965851, 0.04287511110305786, 0.04101238399744034, 0.039262160658836365, 0.0320218950510025, 0.026884915307164192, 0.025491097941994667, 0.025176262483000755, 0.02346387319266796, 0.019608816131949425, 0.017386246472597122, 0.016840478405356407, 0.014632100239396095, 0.012332022190093994, 0.011231222189962864, 0.010537669062614441]\n"
     ]
    }
   ],
   "source": [
    "print(prediction['sequence']) \n",
    "print(prediction['labels']) \n",
    "print(prediction['scores'])"
   ]
  },
  {
   "cell_type": "code",
   "execution_count": 77,
   "metadata": {},
   "outputs": [
    {
     "data": {
      "text/html": [
       "<div>\n",
       "<style scoped>\n",
       "    .dataframe tbody tr th:only-of-type {\n",
       "        vertical-align: middle;\n",
       "    }\n",
       "\n",
       "    .dataframe tbody tr th {\n",
       "        vertical-align: top;\n",
       "    }\n",
       "\n",
       "    .dataframe thead th {\n",
       "        text-align: right;\n",
       "    }\n",
       "</style>\n",
       "<table border=\"1\" class=\"dataframe\">\n",
       "  <thead>\n",
       "    <tr style=\"text-align: right;\">\n",
       "      <th></th>\n",
       "      <th>Main Category</th>\n",
       "      <th>Subcategories</th>\n",
       "    </tr>\n",
       "  </thead>\n",
       "  <tbody>\n",
       "    <tr>\n",
       "      <th>19</th>\n",
       "      <td>Customer Support &amp; Warranty</td>\n",
       "      <td>Customer Service</td>\n",
       "    </tr>\n",
       "    <tr>\n",
       "      <th>44</th>\n",
       "      <td>Return &amp; Policies</td>\n",
       "      <td>Return Policy</td>\n",
       "    </tr>\n",
       "  </tbody>\n",
       "</table>\n",
       "</div>"
      ],
      "text/plain": [
       "                  Main Category     Subcategories\n",
       "19  Customer Support & Warranty  Customer Service\n",
       "44            Return & Policies     Return Policy"
      ]
     },
     "execution_count": 77,
     "metadata": {},
     "output_type": "execute_result"
    }
   ],
   "source": [
    "main_categories_df[main_categories_df['Subcategories'].isin(a)]"
   ]
  },
  {
   "cell_type": "code",
   "execution_count": null,
   "metadata": {},
   "outputs": [],
   "source": []
  }
 ],
 "metadata": {
  "kernelspec": {
   "display_name": "zanalytics",
   "language": "python",
   "name": "python3"
  },
  "language_info": {
   "codemirror_mode": {
    "name": "ipython",
    "version": 3
   },
   "file_extension": ".py",
   "mimetype": "text/x-python",
   "name": "python",
   "nbconvert_exporter": "python",
   "pygments_lexer": "ipython3",
   "version": "3.12.6"
  }
 },
 "nbformat": 4,
 "nbformat_minor": 2
}
