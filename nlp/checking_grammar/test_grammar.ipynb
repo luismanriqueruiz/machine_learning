{
 "cells": [
  {
   "cell_type": "code",
   "execution_count": 1,
   "id": "0e63346c",
   "metadata": {},
   "outputs": [],
   "source": [
    "import language_tool_python"
   ]
  },
  {
   "cell_type": "code",
   "execution_count": 2,
   "id": "2ad14607",
   "metadata": {},
   "outputs": [],
   "source": [
    "tool = language_tool_python.LanguageTool('en-US')"
   ]
  },
  {
   "cell_type": "code",
   "execution_count": 3,
   "id": "877aa1a1",
   "metadata": {},
   "outputs": [],
   "source": [
    "def grammarCorrector(text, tool):\n",
    "    #tool = language_tool_python.LanguageTool('en-US')  \n",
    "    result = tool.correct(text)\n",
    "    return result\n",
    "\n",
    "def grammarChecker(text, tool):\n",
    "    #tool = language_tool_python.LanguageTool('en-US')  \n",
    "    result = tool.check(text)\n",
    "    return result\n",
    "\n",
    "def check_text(input_text, tool):\n",
    "    \n",
    "    # Initialize LanguageTool instance  \n",
    "    #tool = language_tool_python.LanguageTool('en-US')  \n",
    "\n",
    "    # Check for language errors in the input text  \n",
    "    matches = tool.check(input_text)  \n",
    "\n",
    "    # Initialize lists to store detected mistakes and their corrections  \n",
    "    mistakes = []  \n",
    "    corrections = []  \n",
    "    start_positions = []  \n",
    "    end_positions = []  \n",
    "\n",
    "    # Iterate through the detected language errors  \n",
    "    for rule in matches:  \n",
    "        if len(rule.replacements) > 0:  \n",
    "            start_positions.append(rule.offset)  \n",
    "            end_positions.append(rule.errorLength + rule.offset)  \n",
    "            mistakes.append(input_text[rule.offset : rule.errorLength + rule.offset])  \n",
    "            corrections.append(rule.replacements[0])   \n",
    "\n",
    "    return list(zip(mistakes,corrections))"
   ]
  },
  {
   "cell_type": "code",
   "execution_count": 4,
   "id": "282a5e78",
   "metadata": {},
   "outputs": [],
   "source": [
    "mytext = \"\"\"\n",
    "I is testng grammar tool using python. It does not costt anythng.\n",
    "\"\"\""
   ]
  },
  {
   "cell_type": "code",
   "execution_count": 5,
   "id": "3eeaa40b",
   "metadata": {},
   "outputs": [
    {
     "name": "stdout",
     "output_type": "stream",
     "text": [
      "\n",
      "I am testing grammar tool using python. It does not cost anything.\n",
      "\n"
     ]
    }
   ],
   "source": [
    "output_data = grammarCorrector(mytext, tool)\n",
    "print(output_data)"
   ]
  },
  {
   "cell_type": "code",
   "execution_count": 6,
   "id": "ade0cea4",
   "metadata": {},
   "outputs": [
    {
     "name": "stdout",
     "output_type": "stream",
     "text": [
      "[Match({'ruleId': 'PERS_PRONOUN_AGREEMENT', 'message': 'Did you mean “am” or “will be”?', 'replacements': ['am', 'will be'], 'offsetInContext': 3, 'context': ' I is testng grammar tool using python. It do...', 'offset': 3, 'errorLength': 2, 'category': 'GRAMMAR', 'ruleIssueType': 'grammar', 'sentence': 'I is testng grammar tool using python.'}), Match({'ruleId': 'MORFOLOGIK_RULE_EN_US', 'message': 'Possible spelling mistake found.', 'replacements': ['testing'], 'offsetInContext': 6, 'context': ' I is testng grammar tool using python. It does not ...', 'offset': 6, 'errorLength': 6, 'category': 'TYPOS', 'ruleIssueType': 'misspelling', 'sentence': 'I is testng grammar tool using python.'}), Match({'ruleId': 'MORFOLOGIK_RULE_EN_US', 'message': 'Possible spelling mistake found.', 'replacements': ['cost', 'costs', 'Costa', 'coset', 'costa'], 'offsetInContext': 43, 'context': '... grammar tool using python. It does not costt anythng. ', 'offset': 52, 'errorLength': 5, 'category': 'TYPOS', 'ruleIssueType': 'misspelling', 'sentence': 'It does not costt anythng.'}), Match({'ruleId': 'MORFOLOGIK_RULE_EN_US', 'message': 'Possible spelling mistake found.', 'replacements': ['anything'], 'offsetInContext': 43, 'context': '...ar tool using python. It does not costt anythng. ', 'offset': 58, 'errorLength': 7, 'category': 'TYPOS', 'ruleIssueType': 'misspelling', 'sentence': 'It does not costt anythng.'})]\n"
     ]
    }
   ],
   "source": [
    "output_data = grammarChecker(mytext, tool)\n",
    "print(output_data)"
   ]
  },
  {
   "cell_type": "code",
   "execution_count": 7,
   "id": "5d625276",
   "metadata": {},
   "outputs": [
    {
     "data": {
      "text/plain": [
       "[('is', 'am'),\n",
       " ('testng', 'testing'),\n",
       " ('costt', 'cost'),\n",
       " ('anythng', 'anything')]"
      ]
     },
     "execution_count": 7,
     "metadata": {},
     "output_type": "execute_result"
    }
   ],
   "source": [
    "check_text(mytext, tool)"
   ]
  },
  {
   "cell_type": "markdown",
   "id": "18d79f56",
   "metadata": {},
   "source": [
    "## Test 2"
   ]
  },
  {
   "cell_type": "code",
   "execution_count": 15,
   "id": "d9eecd7b",
   "metadata": {},
   "outputs": [],
   "source": [
    "gen_text = \"\"\"\n",
    "Hi everyone! I want to share about my trip last weekend. I go to the beach with my frends. It was so fun and relax time. We go by bus, it take like 2 hours but we laugh a lot and sing music.\n",
    "When we arrive, the sun was very hot! I forget my hat 😅 but I put sunscreen so it’s okay. We walk in sand and the water was very nice, a little cold but nice! I swim and play with the ball. My friend Maria bring snacks, so we eat chips, fruit and drink soda.\n",
    "One thing is funny, a bird try to take our sandwich! We all scream and laugh so much. 😂\n",
    "Later we watch the sun go down. The sky was orange and pink, very pretty. I feel very happy and peace.\n",
    "I want go again soon. Next time I bring hat and maybe more water 😄\n",
    "\"\"\""
   ]
  },
  {
   "cell_type": "code",
   "execution_count": 16,
   "id": "30b02c58",
   "metadata": {},
   "outputs": [],
   "source": [
    "gen_text = gen_text.replace('\\n', ' ')\n",
    "gen_text = gen_text.split('.')\n",
    "gen_text = [x.strip() for x in gen_text]"
   ]
  },
  {
   "cell_type": "code",
   "execution_count": 18,
   "id": "70cbf399",
   "metadata": {},
   "outputs": [
    {
     "name": "stdout",
     "output_type": "stream",
     "text": [
      "Hi everyone! I want to share about my trip last weekend\n",
      "Hi everyone! I want to share about my trip last weekend\n",
      "----------------------------------------------------------------------------------------------------\n",
      "I go to the beach with my frends\n",
      "I go to the beach with my friends\n",
      "----------------------------------------------------------------------------------------------------\n",
      "It was so fun and relax time\n",
      "It was so fun and relax time\n",
      "----------------------------------------------------------------------------------------------------\n",
      "We go by bus, it take like 2 hours but we laugh a lot and sing music\n",
      "We go by bus, it takes like 2 hours, but we laugh a lot and sing music\n",
      "----------------------------------------------------------------------------------------------------\n",
      "When we arrive, the sun was very hot! I forget my hat 😅 but I put sunscreen so it’s okay\n",
      "When we arrive, the sun was very hot! I forget my hat 😅 but I put sunscreen so it’s okay\n",
      "----------------------------------------------------------------------------------------------------\n",
      "We walk in sand and the water was very nice, a little cold but nice! I swim and play with the ball\n",
      "We walk in sand and the water was very nice, a little cold but nice! I swim and play with the ball\n",
      "----------------------------------------------------------------------------------------------------\n",
      "My friend Maria bring snacks, so we eat chips, fruit and drink soda\n",
      "My friend Maria bring snacks, so we eat chips, fruit and drink soda\n",
      "----------------------------------------------------------------------------------------------------\n",
      "One thing is funny, a bird try to take our sandwich! We all scream and laugh so much\n",
      "One thing is funny, a bird try to take our sandwich! We all scream and laugh so much\n",
      "----------------------------------------------------------------------------------------------------\n",
      "😂 Later we watch the sun go down\n",
      "😂 Later we watch the sun go down\n",
      "----------------------------------------------------------------------------------------------------\n",
      "The sky was orange and pink, very pretty\n",
      "The sky was orange and pink, very pretty\n",
      "----------------------------------------------------------------------------------------------------\n",
      "I feel very happy and peace\n",
      "I feel very happy and peace\n",
      "----------------------------------------------------------------------------------------------------\n",
      "I want go again soon\n",
      "I want to go again soon\n",
      "----------------------------------------------------------------------------------------------------\n",
      "Next time I bring hat and maybe more water 😄\n",
      "Next time I bring hat and maybe more water 😄\n",
      "----------------------------------------------------------------------------------------------------\n"
     ]
    }
   ],
   "source": [
    "for text in gen_text:\n",
    "    print(text)\n",
    "    output_data = grammarCorrector(text, tool)\n",
    "    print(output_data)\n",
    "    print(\"-\" *100)"
   ]
  },
  {
   "cell_type": "code",
   "execution_count": null,
   "id": "ea108c0b",
   "metadata": {},
   "outputs": [],
   "source": []
  }
 ],
 "metadata": {
  "kernelspec": {
   "display_name": "zanalytics",
   "language": "python",
   "name": "python3"
  },
  "language_info": {
   "codemirror_mode": {
    "name": "ipython",
    "version": 3
   },
   "file_extension": ".py",
   "mimetype": "text/x-python",
   "name": "python",
   "nbconvert_exporter": "python",
   "pygments_lexer": "ipython3",
   "version": "3.12.6"
  }
 },
 "nbformat": 4,
 "nbformat_minor": 5
}
